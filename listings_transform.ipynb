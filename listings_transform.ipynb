{
 "cells": [
  {
   "cell_type": "markdown",
   "metadata": {},
   "source": [
    "# Airbnb Data Warehousing Data Transformation Script"
   ]
  },
  {
   "cell_type": "markdown",
   "metadata": {},
   "source": [
    "## Set Up"
   ]
  },
  {
   "cell_type": "markdown",
   "metadata": {},
   "source": [
    "### Install Required Modules"
   ]
  },
  {
   "cell_type": "code",
   "execution_count": 42,
   "metadata": {},
   "outputs": [],
   "source": [
    "import pandas as pd\n"
   ]
  },
  {
   "cell_type": "markdown",
   "metadata": {},
   "source": [
    "### Read in files"
   ]
  },
  {
   "cell_type": "code",
   "execution_count": 43,
   "metadata": {},
   "outputs": [],
   "source": [
    "listings = pd.read_csv(\"data/listings.csv\")"
   ]
  },
  {
   "cell_type": "markdown",
   "metadata": {},
   "source": [
    "### Getting General Information on Listings Table"
   ]
  },
  {
   "cell_type": "code",
   "execution_count": 44,
   "metadata": {},
   "outputs": [
    {
     "name": "stdout",
     "output_type": "stream",
     "text": [
      "<class 'pandas.core.frame.DataFrame'>\n",
      "RangeIndex: 2668 entries, 0 to 2667\n",
      "Data columns (total 75 columns):\n",
      " #   Column                                        Non-Null Count  Dtype  \n",
      "---  ------                                        --------------  -----  \n",
      " 0   id                                            2668 non-null   int64  \n",
      " 1   listing_url                                   2668 non-null   object \n",
      " 2   scrape_id                                     2668 non-null   int64  \n",
      " 3   last_scraped                                  2668 non-null   object \n",
      " 4   source                                        2668 non-null   object \n",
      " 5   name                                          2668 non-null   object \n",
      " 6   description                                   0 non-null      float64\n",
      " 7   neighborhood_overview                         1826 non-null   object \n",
      " 8   picture_url                                   2668 non-null   object \n",
      " 9   host_id                                       2668 non-null   int64  \n",
      " 10  host_url                                      2668 non-null   object \n",
      " 11  host_name                                     2668 non-null   object \n",
      " 12  host_since                                    2668 non-null   object \n",
      " 13  host_location                                 2192 non-null   object \n",
      " 14  host_about                                    1731 non-null   object \n",
      " 15  host_response_time                            2491 non-null   object \n",
      " 16  host_response_rate                            2491 non-null   object \n",
      " 17  host_acceptance_rate                          2556 non-null   object \n",
      " 18  host_is_superhost                             2665 non-null   object \n",
      " 19  host_thumbnail_url                            2668 non-null   object \n",
      " 20  host_picture_url                              2668 non-null   object \n",
      " 21  host_neighbourhood                            2398 non-null   object \n",
      " 22  host_listings_count                           2668 non-null   int64  \n",
      " 23  host_total_listings_count                     2668 non-null   int64  \n",
      " 24  host_verifications                            2668 non-null   object \n",
      " 25  host_has_profile_pic                          2668 non-null   object \n",
      " 26  host_identity_verified                        2668 non-null   object \n",
      " 27  neighbourhood                                 1826 non-null   object \n",
      " 28  neighbourhood_cleansed                        2668 non-null   object \n",
      " 29  neighbourhood_group_cleansed                  0 non-null      float64\n",
      " 30  latitude                                      2668 non-null   float64\n",
      " 31  longitude                                     2668 non-null   float64\n",
      " 32  property_type                                 2668 non-null   object \n",
      " 33  room_type                                     2668 non-null   object \n",
      " 34  accommodates                                  2668 non-null   int64  \n",
      " 35  bathrooms                                     0 non-null      float64\n",
      " 36  bathrooms_text                                2668 non-null   object \n",
      " 37  bedrooms                                      0 non-null      float64\n",
      " 38  beds                                          2637 non-null   float64\n",
      " 39  amenities                                     2668 non-null   object \n",
      " 40  price                                         2579 non-null   object \n",
      " 41  minimum_nights                                2668 non-null   int64  \n",
      " 42  maximum_nights                                2668 non-null   int64  \n",
      " 43  minimum_minimum_nights                        2668 non-null   int64  \n",
      " 44  maximum_minimum_nights                        2668 non-null   int64  \n",
      " 45  minimum_maximum_nights                        2668 non-null   int64  \n",
      " 46  maximum_maximum_nights                        2668 non-null   int64  \n",
      " 47  minimum_nights_avg_ntm                        2668 non-null   float64\n",
      " 48  maximum_nights_avg_ntm                        2668 non-null   float64\n",
      " 49  calendar_updated                              0 non-null      float64\n",
      " 50  has_availability                              2579 non-null   object \n",
      " 51  availability_30                               2668 non-null   int64  \n",
      " 52  availability_60                               2668 non-null   int64  \n",
      " 53  availability_90                               2668 non-null   int64  \n",
      " 54  availability_365                              2668 non-null   int64  \n",
      " 55  calendar_last_scraped                         2668 non-null   object \n",
      " 56  number_of_reviews                             2668 non-null   int64  \n",
      " 57  number_of_reviews_ltm                         2668 non-null   int64  \n",
      " 58  number_of_reviews_l30d                        2668 non-null   int64  \n",
      " 59  first_review                                  2287 non-null   object \n",
      " 60  last_review                                   2287 non-null   object \n",
      " 61  review_scores_rating                          2289 non-null   float64\n",
      " 62  review_scores_accuracy                        2289 non-null   float64\n",
      " 63  review_scores_cleanliness                     2288 non-null   float64\n",
      " 64  review_scores_checkin                         2289 non-null   float64\n",
      " 65  review_scores_communication                   2289 non-null   float64\n",
      " 66  review_scores_location                        2289 non-null   float64\n",
      " 67  review_scores_value                           2289 non-null   float64\n",
      " 68  license                                       2300 non-null   object \n",
      " 69  instant_bookable                              2668 non-null   object \n",
      " 70  calculated_host_listings_count                2668 non-null   int64  \n",
      " 71  calculated_host_listings_count_entire_homes   2668 non-null   int64  \n",
      " 72  calculated_host_listings_count_private_rooms  2668 non-null   int64  \n",
      " 73  calculated_host_listings_count_shared_rooms   2668 non-null   int64  \n",
      " 74  reviews_per_month                             2287 non-null   float64\n",
      "dtypes: float64(18), int64(23), object(34)\n",
      "memory usage: 1.5+ MB\n"
     ]
    }
   ],
   "source": [
    "listings.info(max_cols=None)"
   ]
  },
  {
   "cell_type": "markdown",
   "metadata": {},
   "source": [
    "### Dropping redundant/empty columns"
   ]
  },
  {
   "cell_type": "code",
   "execution_count": 45,
   "metadata": {},
   "outputs": [
    {
     "name": "stdout",
     "output_type": "stream",
     "text": [
      "True\n"
     ]
    }
   ],
   "source": [
    "# These two columns are the same, we can drop one of them\n",
    "print(pd.to_datetime(listings[\"last_scraped\"]).equals(pd.to_datetime(listings[\"calendar_last_scraped\"])))\n",
    "\n",
    "# Others have no non-null values, let's remove all the uneccessary fluff\n",
    "\n",
    "listings = listings.drop(\"calendar_last_scraped\", axis=1)\n",
    "listings = listings.drop(\"description\",axis=1)\n",
    "listings = listings.drop(\"calendar_updated\",axis=1)\n",
    "listings = listings.drop(\"bedrooms\",axis=1)\n",
    "listings = listings.drop(\"bathrooms\",axis=1)\n",
    "listings = listings.drop(\"neighbourhood_group_cleansed\",axis=1)\n",
    "\n"
   ]
  },
  {
   "cell_type": "markdown",
   "metadata": {},
   "source": [
    "### Setting datetime objects to datetime"
   ]
  },
  {
   "cell_type": "code",
   "execution_count": 46,
   "metadata": {},
   "outputs": [],
   "source": [
    "# Changing the datetime columns to the datetime data type\n",
    "listings.last_scraped = pd.to_datetime(listings.last_scraped)\n",
    "listings.host_since = pd.to_datetime(listings.host_since)\n"
   ]
  },
  {
   "cell_type": "markdown",
   "metadata": {},
   "source": [
    "## Making all the dimension tables"
   ]
  },
  {
   "cell_type": "markdown",
   "metadata": {},
   "source": [
    "### Starting Off With Host Dimension Tables"
   ]
  },
  {
   "cell_type": "code",
   "execution_count": 47,
   "metadata": {},
   "outputs": [],
   "source": [
    "host_df = listings[\n",
    "    [\n",
    "        \"host_id\",\n",
    "        \"host_url\",\n",
    "        \"host_name\",\n",
    "        \"host_since\",\n",
    "        \"host_location\",\n",
    "        \"host_about\",\n",
    "        \"host_thumbnail_url\",\n",
    "        \"host_picture_url\",\n",
    "        \"host_neighbourhood\",\n",
    "        \"host_response_time\",\n",
    "        \"host_response_rate\",\n",
    "        \"host_acceptance_rate\",\n",
    "        \"host_is_superhost\",\n",
    "        \"host_listings_count\",\n",
    "        \"host_total_listings_count\",\n",
    "        \"host_verifications\",\n",
    "        \"host_has_profile_pic\",\n",
    "        \"host_identity_verified\",\n",
    "        \"calculated_host_listings_count\",\n",
    "        \"calculated_host_listings_count_entire_homes\",\n",
    "        \"calculated_host_listings_count_private_rooms\",\n",
    "        \"calculated_host_listings_count_shared_rooms\",\n",
    "    ]\n",
    "].drop_duplicates().reset_index()\n"
   ]
  },
  {
   "cell_type": "markdown",
   "metadata": {},
   "source": [
    "#### The Dimensions of the Hosts Table"
   ]
  },
  {
   "cell_type": "code",
   "execution_count": 48,
   "metadata": {},
   "outputs": [],
   "source": [
    "host_ld_df = host_df[\n",
    "    [\n",
    "        \"host_response_time\",\n",
    "        \"host_response_rate\",\n",
    "        \"host_acceptance_rate\",\n",
    "        \"host_is_superhost\",\n",
    "        \"host_listings_count\",\n",
    "        \"host_total_listings_count\",\n",
    "        \"host_verifications\",\n",
    "        \"host_has_profile_pic\",\n",
    "        \"host_identity_verified\",\n",
    "    ]\n",
    "].drop_duplicates().reset_index()\n",
    "\n",
    "hqad_df = host_df[\n",
    "    [\n",
    "        \"calculated_host_listings_count\",\n",
    "        \"calculated_host_listings_count_entire_homes\",\n",
    "        \"calculated_host_listings_count_private_rooms\",\n",
    "        \"calculated_host_listings_count_shared_rooms\",\n",
    "    ]\n",
    "].drop_duplicates().reset_index()"
   ]
  },
  {
   "cell_type": "markdown",
   "metadata": {},
   "source": [
    "#### Giving Each Dimension of The Host Dimension A Primary Key"
   ]
  },
  {
   "cell_type": "code",
   "execution_count": 49,
   "metadata": {},
   "outputs": [],
   "source": [
    "host_ld_df[\"listing_diagnostics_id\"] = host_ld_df.index\n",
    "hqad_df[\"hqad_id\"] = hqad_df.index"
   ]
  },
  {
   "cell_type": "markdown",
   "metadata": {},
   "source": [
    "#### And Then Reorganizing so The ID Is The First Column of Each Host Dimension"
   ]
  },
  {
   "cell_type": "code",
   "execution_count": 50,
   "metadata": {},
   "outputs": [],
   "source": [
    "host_ld_df = host_ld_df[\n",
    "    [\n",
    "        \"listing_diagnostics_id\",\n",
    "        \"host_response_time\",\n",
    "        \"host_response_rate\",\n",
    "        \"host_acceptance_rate\",\n",
    "        \"host_is_superhost\",\n",
    "        \"host_listings_count\",\n",
    "        \"host_total_listings_count\",\n",
    "        \"host_verifications\",\n",
    "        \"host_has_profile_pic\",\n",
    "        \"host_identity_verified\",\n",
    "    ]\n",
    "]\n",
    "\n",
    "hqad_df = hqad_df[\n",
    "    [\n",
    "        \"hqad_id\",\n",
    "        \"calculated_host_listings_count\",\n",
    "        \"calculated_host_listings_count_entire_homes\",\n",
    "        \"calculated_host_listings_count_private_rooms\",\n",
    "        \"calculated_host_listings_count_shared_rooms\",\n",
    "    ]\n",
    "]"
   ]
  },
  {
   "cell_type": "markdown",
   "metadata": {},
   "source": [
    "### We'll Be Doing What We Just Did To The Other Tables"
   ]
  },
  {
   "cell_type": "markdown",
   "metadata": {},
   "source": [
    "### Next Up, Property Dimension Table"
   ]
  },
  {
   "cell_type": "code",
   "execution_count": 51,
   "metadata": {},
   "outputs": [],
   "source": [
    "property_df = listings[[\n",
    "\"latitude\", \n",
    "\"longitude\", \n",
    "\"property_type\", \n",
    "\"room_type\", \n",
    "\"accommodates\", \n",
    "\"bathrooms_text\", \n",
    "\"beds\", \n",
    "\"amenities\", \n",
    "\"price\", \n",
    "]].drop_duplicates().reset_index()"
   ]
  },
  {
   "cell_type": "code",
   "execution_count": 52,
   "metadata": {},
   "outputs": [],
   "source": [
    "# Set the index\n",
    "property_df[\"property_id\"] = property_df.index"
   ]
  },
  {
   "cell_type": "code",
   "execution_count": 53,
   "metadata": {},
   "outputs": [],
   "source": [
    "property_df = property_df[\n",
    "    [\n",
    "    \"property_id\", \n",
    "    \"latitude\", \n",
    "    \"longitude\", \n",
    "    \"property_type\", \n",
    "    \"room_type\", \n",
    "    \"accommodates\", \n",
    "    \"bathrooms_text\", \n",
    "    \"beds\", \n",
    "    \"amenities\", \n",
    "    \"price\", \n",
    "    ]\n",
    "]"
   ]
  },
  {
   "cell_type": "markdown",
   "metadata": {},
   "source": [
    "### Now The Reviews Diagnostics Dimension Table"
   ]
  },
  {
   "cell_type": "code",
   "execution_count": 54,
   "metadata": {},
   "outputs": [],
   "source": [
    "reviews_diagnostics_df = listings[\n",
    "    [\n",
    "        \"number_of_reviews\", \n",
    "        \"number_of_reviews_ltm\", \n",
    "        \"number_of_reviews_l30d\", \n",
    "        \"first_review\", \n",
    "        \"last_review\", \n",
    "        \"review_scores_rating\", \n",
    "        \"review_scores_accuracy\", \n",
    "        \"review_scores_cleanliness\", \n",
    "        \"review_scores_checkin\", \n",
    "        \"review_scores_communication\", \n",
    "        \"review_scores_location\", \n",
    "        \"review_scores_value\", \n",
    "        \"reviews_per_month\",\n",
    "    ]\n",
    "].drop_duplicates().reset_index()"
   ]
  },
  {
   "cell_type": "code",
   "execution_count": 55,
   "metadata": {},
   "outputs": [],
   "source": [
    "reviews_diagnostics_df[\"rev_diag_id\"] = reviews_diagnostics_df.index"
   ]
  },
  {
   "cell_type": "code",
   "execution_count": 56,
   "metadata": {},
   "outputs": [],
   "source": [
    "reviews_diagnostics_df = reviews_diagnostics_df[\n",
    "    [\n",
    "        \"rev_diag_id\",\n",
    "        \"number_of_reviews\", \n",
    "        \"number_of_reviews_ltm\", \n",
    "        \"number_of_reviews_l30d\", \n",
    "        \"first_review\", \n",
    "        \"last_review\", \n",
    "        \"review_scores_rating\", \n",
    "        \"review_scores_accuracy\", \n",
    "        \"review_scores_cleanliness\", \n",
    "        \"review_scores_checkin\", \n",
    "        \"review_scores_communication\", \n",
    "        \"review_scores_location\", \n",
    "        \"review_scores_value\", \n",
    "        \"reviews_per_month\",\n",
    "    ]\n",
    "]"
   ]
  },
  {
   "cell_type": "markdown",
   "metadata": {},
   "source": [
    "### Scrapings Dimension Table"
   ]
  },
  {
   "cell_type": "code",
   "execution_count": 57,
   "metadata": {},
   "outputs": [],
   "source": [
    "scrapings_df = listings[\n",
    "    [\n",
    "        \"scrape_id\",\n",
    "        \"last_scraped\",\n",
    "        \"source\" \n",
    "    ]\n",
    "].drop_duplicates().reset_index()"
   ]
  },
  {
   "cell_type": "code",
   "execution_count": 58,
   "metadata": {},
   "outputs": [],
   "source": [
    "scrapings_df[\"scrapings_id\"] = scrapings_df.index"
   ]
  },
  {
   "cell_type": "code",
   "execution_count": 59,
   "metadata": {},
   "outputs": [],
   "source": [
    "scrapings_df = scrapings_df[\n",
    "    [\n",
    "        \"scrapings_id\",\n",
    "        \"scrape_id\",\n",
    "        \"last_scraped\",\n",
    "        \"source\" \n",
    "    ]\n",
    "]"
   ]
  },
  {
   "cell_type": "markdown",
   "metadata": {},
   "source": [
    "### Neighbourhood Dimension Table"
   ]
  },
  {
   "cell_type": "code",
   "execution_count": 60,
   "metadata": {},
   "outputs": [],
   "source": [
    "neighbourhood_df = listings[\n",
    "    [\n",
    "        \"neighbourhood\",\n",
    "        \"neighborhood_overview\",\n",
    "        \"neighbourhood_cleansed\",\n",
    "    ]\n",
    "].drop_duplicates().reset_index()"
   ]
  },
  {
   "cell_type": "markdown",
   "metadata": {},
   "source": [
    "#### Fixing Spelling Error and Assigning ID"
   ]
  },
  {
   "cell_type": "code",
   "execution_count": 61,
   "metadata": {},
   "outputs": [],
   "source": [
    "# Fixing Typo, and also fixing it for the listings df as well, it poses errors later when we merge\n",
    "neighbourhood_df[\"neighbourhood_overview\"] = neighbourhood_df[\"neighborhood_overview\"]\n",
    "neighbourhood_df.drop(\"neighborhood_overview\", axis=1, inplace=True)\n",
    "\n",
    "listings[\"neighbourhood_overview\"] = listings[\"neighborhood_overview\"]\n",
    "listings.drop(\"neighborhood_overview\", axis=1, inplace=True)\n",
    "\n",
    "# Assigning ID\n",
    "neighbourhood_df[\"neighbourhood_id\"] = neighbourhood_df.index"
   ]
  },
  {
   "cell_type": "code",
   "execution_count": 62,
   "metadata": {},
   "outputs": [],
   "source": [
    "neighbourhood_df = neighbourhood_df[\n",
    "    [\n",
    "        \"neighbourhood_id\",\n",
    "        \"neighbourhood\",\n",
    "        \"neighbourhood_overview\",\n",
    "        \"neighbourhood_cleansed\",\n",
    "    ]\n",
    "]"
   ]
  },
  {
   "cell_type": "markdown",
   "metadata": {},
   "source": [
    "### Min And Max Insights Dimension Table"
   ]
  },
  {
   "cell_type": "code",
   "execution_count": 63,
   "metadata": {},
   "outputs": [],
   "source": [
    "minmax_insights_df = listings[\n",
    "    [\n",
    "        \"maximum_nights\",\n",
    "        \"minimum_nights\",\n",
    "        \"minimum_minimum_nights\",\n",
    "        \"maximum_minimum_nights\",\n",
    "        \"minimum_maximum_nights\",\n",
    "        \"maximum_maximum_nights\",\n",
    "        \"minimum_nights_avg_ntm\",\n",
    "        \"maximum_nights_avg_ntm\",\n",
    "    ]\n",
    "].drop_duplicates().reset_index()"
   ]
  },
  {
   "cell_type": "code",
   "execution_count": 64,
   "metadata": {},
   "outputs": [],
   "source": [
    "minmax_insights_df[\"minmax_insights_id\"] = minmax_insights_df.index"
   ]
  },
  {
   "cell_type": "code",
   "execution_count": 65,
   "metadata": {},
   "outputs": [],
   "source": [
    "minmax_insights_df = minmax_insights_df[\n",
    "    [\n",
    "        \"minmax_insights_id\",\n",
    "        \"maximum_nights\",\n",
    "        \"minimum_nights\",\n",
    "        \"minimum_minimum_nights\",\n",
    "        \"maximum_minimum_nights\",\n",
    "        \"minimum_maximum_nights\",\n",
    "        \"maximum_maximum_nights\",\n",
    "        \"minimum_nights_avg_ntm\",\n",
    "        \"maximum_nights_avg_ntm\",\n",
    "    ]\n",
    "]"
   ]
  },
  {
   "cell_type": "markdown",
   "metadata": {},
   "source": [
    "### Availibility Dimension Table"
   ]
  },
  {
   "cell_type": "code",
   "execution_count": 66,
   "metadata": {},
   "outputs": [],
   "source": [
    "availibility_df = listings[\n",
    "    [\n",
    "        \"has_availability\",\n",
    "        \"availability_30\",\n",
    "        \"availability_60\",\n",
    "        \"availability_90\",\n",
    "        \"availability_365\",\n",
    "    ]\n",
    "].drop_duplicates().reset_index()"
   ]
  },
  {
   "cell_type": "code",
   "execution_count": 67,
   "metadata": {},
   "outputs": [],
   "source": [
    "availibility_df[\"avail_id\"] = availibility_df.index"
   ]
  },
  {
   "cell_type": "code",
   "execution_count": 68,
   "metadata": {},
   "outputs": [],
   "source": [
    "availibility_df = availibility_df[\n",
    "    [\n",
    "        \"avail_id\",\n",
    "        \"has_availability\",\n",
    "        \"availability_30\",\n",
    "        \"availability_60\",\n",
    "        \"availability_90\",\n",
    "        \"availability_365\",\n",
    "    ]\n",
    "]"
   ]
  },
  {
   "cell_type": "markdown",
   "metadata": {},
   "source": [
    "### Finding Unique Values To Base The Joins"
   ]
  },
  {
   "cell_type": "markdown",
   "metadata": {},
   "source": [
    "#### Host Dimension Table "
   ]
  },
  {
   "cell_type": "code",
   "execution_count": 69,
   "metadata": {},
   "outputs": [
    {
     "data": {
      "text/plain": [
       "index                                           977\n",
       "host_id                                         977\n",
       "host_url                                        977\n",
       "host_name                                       720\n",
       "host_since                                      867\n",
       "host_location                                    95\n",
       "host_about                                      513\n",
       "host_thumbnail_url                              940\n",
       "host_picture_url                                940\n",
       "host_neighbourhood                              151\n",
       "host_response_time                                4\n",
       "host_response_rate                               26\n",
       "host_acceptance_rate                             58\n",
       "host_is_superhost                                 2\n",
       "host_listings_count                              47\n",
       "host_total_listings_count                        55\n",
       "host_verifications                                5\n",
       "host_has_profile_pic                              2\n",
       "host_identity_verified                            2\n",
       "calculated_host_listings_count                   31\n",
       "calculated_host_listings_count_entire_homes      33\n",
       "calculated_host_listings_count_private_rooms     13\n",
       "calculated_host_listings_count_shared_rooms       3\n",
       "dtype: int64"
      ]
     },
     "execution_count": 69,
     "metadata": {},
     "output_type": "execute_result"
    }
   ],
   "source": [
    "pd.set_option(\"display.max_columns\", None)\n",
    "# Host ID works\n",
    "host_df.nunique()"
   ]
  },
  {
   "cell_type": "markdown",
   "metadata": {},
   "source": [
    "##### The Host Qualifications and Diagnostics (HQAD), And The Host Listings Diagnostics"
   ]
  },
  {
   "cell_type": "code",
   "execution_count": 70,
   "metadata": {},
   "outputs": [
    {
     "data": {
      "text/plain": [
       "listing_diagnostics_id       609\n",
       "host_response_time             4\n",
       "host_response_rate            26\n",
       "host_acceptance_rate          58\n",
       "host_is_superhost              2\n",
       "host_listings_count           47\n",
       "host_total_listings_count     55\n",
       "host_verifications             5\n",
       "host_has_profile_pic           2\n",
       "host_identity_verified         2\n",
       "dtype: int64"
      ]
     },
     "execution_count": 70,
     "metadata": {},
     "output_type": "execute_result"
    }
   ],
   "source": [
    "host_ld_df.nunique()"
   ]
  },
  {
   "cell_type": "code",
   "execution_count": 71,
   "metadata": {},
   "outputs": [
    {
     "data": {
      "text/plain": [
       "hqad_id                                         69\n",
       "calculated_host_listings_count                  31\n",
       "calculated_host_listings_count_entire_homes     33\n",
       "calculated_host_listings_count_private_rooms    13\n",
       "calculated_host_listings_count_shared_rooms      3\n",
       "dtype: int64"
      ]
     },
     "execution_count": 71,
     "metadata": {},
     "output_type": "execute_result"
    }
   ],
   "source": [
    "hqad_df.nunique()"
   ]
  },
  {
   "cell_type": "markdown",
   "metadata": {},
   "source": [
    "#### Property Dimension Table"
   ]
  },
  {
   "cell_type": "code",
   "execution_count": 72,
   "metadata": {},
   "outputs": [
    {
     "name": "stdout",
     "output_type": "stream",
     "text": [
      "property_id       2649\n",
      "latitude          2649\n",
      "longitude         2649\n",
      "property_type     2649\n",
      "room_type         2649\n",
      "accommodates      2649\n",
      "bathrooms_text    2649\n",
      "beds              2618\n",
      "amenities         2649\n",
      "price             2560\n",
      "dtype: int64\n"
     ]
    },
    {
     "data": {
      "text/plain": [
       "latitude     2581\n",
       "longitude    2581\n",
       "dtype: int64"
      ]
     },
     "execution_count": 72,
     "metadata": {},
     "output_type": "execute_result"
    }
   ],
   "source": [
    "print(property_df.count())\n",
    "# This does not quite work, but it looks like there are multiple occurences of the same property with minuscule differences from eachother.\n",
    "property_df[[\"latitude\", \"longitude\"]].drop_duplicates().count()"
   ]
  },
  {
   "cell_type": "markdown",
   "metadata": {},
   "source": [
    "#### Reviews Dimension Table"
   ]
  },
  {
   "cell_type": "code",
   "execution_count": 73,
   "metadata": {},
   "outputs": [
    {
     "name": "stdout",
     "output_type": "stream",
     "text": [
      "rev_diag_id                    2272\n",
      "number_of_reviews              2272\n",
      "number_of_reviews_ltm          2272\n",
      "number_of_reviews_l30d         2272\n",
      "first_review                   2269\n",
      "last_review                    2269\n",
      "review_scores_rating           2271\n",
      "review_scores_accuracy         2271\n",
      "review_scores_cleanliness      2270\n",
      "review_scores_checkin          2271\n",
      "review_scores_communication    2271\n",
      "review_scores_location         2271\n",
      "review_scores_value            2271\n",
      "reviews_per_month              2269\n",
      "dtype: int64\n"
     ]
    },
    {
     "data": {
      "text/plain": [
       "number_of_reviews              2272\n",
       "number_of_reviews_ltm          2272\n",
       "number_of_reviews_l30d         2272\n",
       "first_review                   2269\n",
       "last_review                    2269\n",
       "review_scores_rating           2271\n",
       "review_scores_accuracy         2271\n",
       "review_scores_cleanliness      2270\n",
       "review_scores_checkin          2271\n",
       "review_scores_communication    2271\n",
       "review_scores_location         2271\n",
       "review_scores_value            2271\n",
       "reviews_per_month              2269\n",
       "dtype: int64"
      ]
     },
     "execution_count": 73,
     "metadata": {},
     "output_type": "execute_result"
    }
   ],
   "source": [
    "print(reviews_diagnostics_df.count())\n",
    "reviews_diagnostics_df[\n",
    "    [ \n",
    "        \"number_of_reviews\", \n",
    "        \"number_of_reviews_ltm\", \n",
    "        \"number_of_reviews_l30d\", \n",
    "        \"first_review\", \n",
    "        \"last_review\",\n",
    "        \"review_scores_rating\",\n",
    "        \"review_scores_accuracy\",\n",
    "        \"review_scores_cleanliness\",\n",
    "        \"review_scores_checkin\",\n",
    "        \"review_scores_communication\",\n",
    "        \"review_scores_location\",\n",
    "        \"review_scores_value\",\n",
    "        \"reviews_per_month\",\n",
    "    ]\n",
    "].drop_duplicates().count()"
   ]
  },
  {
   "cell_type": "markdown",
   "metadata": {},
   "source": [
    "#### Scrapings Dimension Table"
   ]
  },
  {
   "cell_type": "code",
   "execution_count": 74,
   "metadata": {},
   "outputs": [
    {
     "data": {
      "text/plain": [
       "last_scraped    3\n",
       "source          3\n",
       "dtype: int64"
      ]
     },
     "execution_count": 74,
     "metadata": {},
     "output_type": "execute_result"
    }
   ],
   "source": [
    "# We can use last_scraped and source as unqique identifiers\n",
    "scrapings_df.count()\n",
    "scrapings_df[[\"last_scraped\", \"source\"]].drop_duplicates().count()"
   ]
  },
  {
   "cell_type": "markdown",
   "metadata": {},
   "source": [
    "#### Neighbourhood Dimension Table"
   ]
  },
  {
   "cell_type": "code",
   "execution_count": 75,
   "metadata": {},
   "outputs": [
    {
     "name": "stdout",
     "output_type": "stream",
     "text": [
      "neighbourhood_id          1299\n",
      "neighbourhood             1274\n",
      "neighbourhood_overview    1274\n",
      "neighbourhood_cleansed    1299\n",
      "dtype: int64\n"
     ]
    },
    {
     "data": {
      "text/plain": [
       "neighbourhood_overview    1274\n",
       "neighbourhood_cleansed    1299\n",
       "dtype: int64"
      ]
     },
     "execution_count": 75,
     "metadata": {},
     "output_type": "execute_result"
    }
   ],
   "source": [
    "# Turns out, we can get all of the possible values by using the overview and the cleansed attribute, trying to do this for other data\n",
    "# might pose some problems, but for this it works without losing any data\n",
    "print(neighbourhood_df.count())\n",
    "neighbourhood_df[[\"neighbourhood_overview\", \"neighbourhood_cleansed\"]].drop_duplicates().count()"
   ]
  },
  {
   "cell_type": "markdown",
   "metadata": {},
   "source": [
    "#### Min Max Insights Dimension Table"
   ]
  },
  {
   "cell_type": "code",
   "execution_count": 76,
   "metadata": {},
   "outputs": [
    {
     "data": {
      "text/plain": [
       "maximum_nights            795\n",
       "minimum_nights            795\n",
       "minimum_minimum_nights    795\n",
       "maximum_minimum_nights    795\n",
       "minimum_maximum_nights    795\n",
       "maximum_maximum_nights    795\n",
       "minimum_nights_avg_ntm    795\n",
       "maximum_nights_avg_ntm    795\n",
       "dtype: int64"
      ]
     },
     "execution_count": 76,
     "metadata": {},
     "output_type": "execute_result"
    }
   ],
   "source": [
    "# We have to use all of the columns for this one as well to not lose any data\n",
    "minmax_insights_df.count()\n",
    "minmax_insights_df[\n",
    "    [\n",
    "        \"maximum_nights\", \n",
    "        \"minimum_nights\",\n",
    "        \"minimum_minimum_nights\", \n",
    "        \"maximum_minimum_nights\", \n",
    "        \"minimum_maximum_nights\",\n",
    "        \"maximum_maximum_nights\",\n",
    "        \"minimum_nights_avg_ntm\",\n",
    "        \"maximum_nights_avg_ntm\"\n",
    "    ]\n",
    "].drop_duplicates().count()"
   ]
  },
  {
   "cell_type": "markdown",
   "metadata": {},
   "source": [
    "#### Availibility Info Dimension Table"
   ]
  },
  {
   "cell_type": "code",
   "execution_count": 77,
   "metadata": {},
   "outputs": [
    {
     "name": "stdout",
     "output_type": "stream",
     "text": [
      "avail_id            1336\n",
      "has_availability    1332\n",
      "availability_30     1336\n",
      "availability_60     1336\n",
      "availability_90     1336\n",
      "availability_365    1336\n",
      "dtype: int64\n"
     ]
    },
    {
     "data": {
      "text/plain": [
       "has_availability    1332\n",
       "availability_30     1336\n",
       "availability_60     1336\n",
       "availability_90     1336\n",
       "availability_365    1336\n",
       "dtype: int64"
      ]
     },
     "execution_count": 77,
     "metadata": {},
     "output_type": "execute_result"
    }
   ],
   "source": [
    "# Again forced to use all columns for identififying\n",
    "print(availibility_df.count())\n",
    "availibility_df[\n",
    "    [\n",
    "        \"has_availability\",\n",
    "        \"availability_30\",\n",
    "        \"availability_60\",\n",
    "        \"availability_90\",\n",
    "        \"availability_365\",\n",
    "    ]\n",
    "].drop_duplicates().count()"
   ]
  },
  {
   "cell_type": "markdown",
   "metadata": {},
   "source": [
    "#### Summary\n",
    "* Host Dimension Table \n",
    "  - This one's pretty easy, the host ID Itself\n",
    "\n",
    "  - Host Qualifications and Diagnostics (HQAD), And The Host Listings Diagnostics Dimension Tables\n",
    "      * We're forced to use all the columns (other than the id columns of each dimension table, for other tables with the same comment, it means the same thing) as an unique identifier. I know this might seems a bit useless, but to better understand how data warehousing works this is the best approach, and it's best not lose data. We also remove some redundant data, so this takes us through the normal forms of data.\n",
    "\n",
    "* Property Dimension Table\n",
    "    - This one's not so bad. We use the `longitude` and `latitude` as unique identifiers\n",
    "\n",
    "* Reviews Diagnostics Dimension table\n",
    "    - Unfortunately, for this one we have to use all of the columns as unique identifiers as well. Might affect run time later, especially if this were an even bigger dataset.\n",
    "\n",
    "* Scrapings Dimension Table\n",
    "    - We can use the `last_scraped` and `source` columns as unique identifiers since the `scrape_id` is the same for all data\n",
    "\n",
    "* Neighbourhood Dimension Table\n",
    "    - We'll use the `neighbourhood_overview` and `neighbourhood_cleansed` columns as unique identifiers. This ends up working out without losing data, but we can not generalize this for all data.\n",
    "\n",
    "* Min Max Insights Dimension Table\n",
    "    - We are again forced to use all the columns as an unique identifier\n",
    "\n",
    "* Host's Availibility Info Dimension Table\n",
    "    - Again, forced to use all the columns as an unique identifier"
   ]
  },
  {
   "cell_type": "markdown",
   "metadata": {},
   "source": [
    "## Joining Tables Together"
   ]
  },
  {
   "cell_type": "markdown",
   "metadata": {},
   "source": [
    "### Starting With Host's Sub-Dimensions"
   ]
  },
  {
   "cell_type": "code",
   "execution_count": 78,
   "metadata": {},
   "outputs": [],
   "source": [
    "host_df_fact_table = host_df.merge(\n",
    "    host_ld_df,\n",
    "    on=[\n",
    "        \"host_response_time\",\n",
    "        \"host_response_rate\",\n",
    "        \"host_acceptance_rate\",\n",
    "        \"host_is_superhost\",\n",
    "        \"host_listings_count\",\n",
    "        \"host_total_listings_count\",\n",
    "        \"host_verifications\",\n",
    "        \"host_has_profile_pic\",\n",
    "        \"host_identity_verified\",\n",
    "]).merge(\n",
    "    hqad_df,\n",
    "    on=[\n",
    "        \"calculated_host_listings_count\",\n",
    "        \"calculated_host_listings_count_entire_homes\",\n",
    "        \"calculated_host_listings_count_private_rooms\",\n",
    "        \"calculated_host_listings_count_shared_rooms\",\n",
    "])[[\n",
    "        \"host_id\",\n",
    "        \"host_url\",\n",
    "        \"host_name\",\n",
    "        \"host_since\",\n",
    "        \"host_location\",\n",
    "        \"host_about\",\n",
    "        \"host_thumbnail_url\",\n",
    "        \"host_picture_url\",\n",
    "        \"host_neighbourhood\",\n",
    "        \"listing_diagnostics_id\",\n",
    "        \"hqad_id\"\n",
    "    ]]"
   ]
  },
  {
   "cell_type": "code",
   "execution_count": 79,
   "metadata": {},
   "outputs": [
    {
     "data": {
      "text/html": [
       "<div>\n",
       "<style scoped>\n",
       "    .dataframe tbody tr th:only-of-type {\n",
       "        vertical-align: middle;\n",
       "    }\n",
       "\n",
       "    .dataframe tbody tr th {\n",
       "        vertical-align: top;\n",
       "    }\n",
       "\n",
       "    .dataframe thead th {\n",
       "        text-align: right;\n",
       "    }\n",
       "</style>\n",
       "<table border=\"1\" class=\"dataframe\">\n",
       "  <thead>\n",
       "    <tr style=\"text-align: right;\">\n",
       "      <th></th>\n",
       "      <th>host_id</th>\n",
       "      <th>host_url</th>\n",
       "      <th>host_name</th>\n",
       "      <th>host_since</th>\n",
       "      <th>host_location</th>\n",
       "      <th>host_about</th>\n",
       "      <th>host_thumbnail_url</th>\n",
       "      <th>host_picture_url</th>\n",
       "      <th>host_neighbourhood</th>\n",
       "      <th>listing_diagnostics_id</th>\n",
       "      <th>hqad_id</th>\n",
       "    </tr>\n",
       "  </thead>\n",
       "  <tbody>\n",
       "    <tr>\n",
       "      <th>0</th>\n",
       "      <td>483306</td>\n",
       "      <td>https://www.airbnb.com/users/show/483306</td>\n",
       "      <td>Audra &amp; Lacey</td>\n",
       "      <td>2011-04-04</td>\n",
       "      <td>Columbus, OH</td>\n",
       "      <td>Active, young professionals who love to travel...</td>\n",
       "      <td>https://a0.muscache.com/im/users/483306/profil...</td>\n",
       "      <td>https://a0.muscache.com/im/users/483306/profil...</td>\n",
       "      <td>NaN</td>\n",
       "      <td>0</td>\n",
       "      <td>0</td>\n",
       "    </tr>\n",
       "    <tr>\n",
       "      <th>1</th>\n",
       "      <td>7785489</td>\n",
       "      <td>https://www.airbnb.com/users/show/7785489</td>\n",
       "      <td>Nancy</td>\n",
       "      <td>2013-07-28</td>\n",
       "      <td>Columbus, OH</td>\n",
       "      <td>I have lived in Columbus off and on since comi...</td>\n",
       "      <td>https://a0.muscache.com/im/users/7785489/profi...</td>\n",
       "      <td>https://a0.muscache.com/im/users/7785489/profi...</td>\n",
       "      <td>NaN</td>\n",
       "      <td>7</td>\n",
       "      <td>0</td>\n",
       "    </tr>\n",
       "    <tr>\n",
       "      <th>2</th>\n",
       "      <td>69289743</td>\n",
       "      <td>https://www.airbnb.com/users/show/69289743</td>\n",
       "      <td>Sarah</td>\n",
       "      <td>2016-04-27</td>\n",
       "      <td>Columbus, OH</td>\n",
       "      <td>I'm hosting on Airbnb because I no longer live...</td>\n",
       "      <td>https://a0.muscache.com/im/pictures/user/089e7...</td>\n",
       "      <td>https://a0.muscache.com/im/pictures/user/089e7...</td>\n",
       "      <td>Near East Columbus</td>\n",
       "      <td>42</td>\n",
       "      <td>0</td>\n",
       "    </tr>\n",
       "    <tr>\n",
       "      <th>3</th>\n",
       "      <td>103700433</td>\n",
       "      <td>https://www.airbnb.com/users/show/103700433</td>\n",
       "      <td>Erin</td>\n",
       "      <td>2016-11-14</td>\n",
       "      <td>Columbus, OH</td>\n",
       "      <td>NaN</td>\n",
       "      <td>https://a0.muscache.com/im/pictures/user/a6b76...</td>\n",
       "      <td>https://a0.muscache.com/im/pictures/user/a6b76...</td>\n",
       "      <td>NaN</td>\n",
       "      <td>62</td>\n",
       "      <td>0</td>\n",
       "    </tr>\n",
       "    <tr>\n",
       "      <th>4</th>\n",
       "      <td>42309439</td>\n",
       "      <td>https://www.airbnb.com/users/show/42309439</td>\n",
       "      <td>Lucy &amp; Brent</td>\n",
       "      <td>2015-08-23</td>\n",
       "      <td>Columbus, OH</td>\n",
       "      <td>NaN</td>\n",
       "      <td>https://a0.muscache.com/im/pictures/user/7c4ab...</td>\n",
       "      <td>https://a0.muscache.com/im/pictures/user/7c4ab...</td>\n",
       "      <td>South Columbus</td>\n",
       "      <td>69</td>\n",
       "      <td>0</td>\n",
       "    </tr>\n",
       "  </tbody>\n",
       "</table>\n",
       "</div>"
      ],
      "text/plain": [
       "     host_id                                     host_url      host_name  \\\n",
       "0     483306     https://www.airbnb.com/users/show/483306  Audra & Lacey   \n",
       "1    7785489    https://www.airbnb.com/users/show/7785489          Nancy   \n",
       "2   69289743   https://www.airbnb.com/users/show/69289743          Sarah   \n",
       "3  103700433  https://www.airbnb.com/users/show/103700433           Erin   \n",
       "4   42309439   https://www.airbnb.com/users/show/42309439   Lucy & Brent   \n",
       "\n",
       "  host_since host_location                                         host_about  \\\n",
       "0 2011-04-04  Columbus, OH  Active, young professionals who love to travel...   \n",
       "1 2013-07-28  Columbus, OH  I have lived in Columbus off and on since comi...   \n",
       "2 2016-04-27  Columbus, OH  I'm hosting on Airbnb because I no longer live...   \n",
       "3 2016-11-14  Columbus, OH                                                NaN   \n",
       "4 2015-08-23  Columbus, OH                                                NaN   \n",
       "\n",
       "                                  host_thumbnail_url  \\\n",
       "0  https://a0.muscache.com/im/users/483306/profil...   \n",
       "1  https://a0.muscache.com/im/users/7785489/profi...   \n",
       "2  https://a0.muscache.com/im/pictures/user/089e7...   \n",
       "3  https://a0.muscache.com/im/pictures/user/a6b76...   \n",
       "4  https://a0.muscache.com/im/pictures/user/7c4ab...   \n",
       "\n",
       "                                    host_picture_url  host_neighbourhood  \\\n",
       "0  https://a0.muscache.com/im/users/483306/profil...                 NaN   \n",
       "1  https://a0.muscache.com/im/users/7785489/profi...                 NaN   \n",
       "2  https://a0.muscache.com/im/pictures/user/089e7...  Near East Columbus   \n",
       "3  https://a0.muscache.com/im/pictures/user/a6b76...                 NaN   \n",
       "4  https://a0.muscache.com/im/pictures/user/7c4ab...      South Columbus   \n",
       "\n",
       "   listing_diagnostics_id  hqad_id  \n",
       "0                       0        0  \n",
       "1                       7        0  \n",
       "2                      42        0  \n",
       "3                      62        0  \n",
       "4                      69        0  "
      ]
     },
     "execution_count": 79,
     "metadata": {},
     "output_type": "execute_result"
    }
   ],
   "source": [
    "host_df_fact_table.head()"
   ]
  },
  {
   "cell_type": "markdown",
   "metadata": {},
   "source": [
    "### Now Joining All of The Dimensions Into One Big One"
   ]
  },
  {
   "cell_type": "code",
   "execution_count": 80,
   "metadata": {},
   "outputs": [],
   "source": [
    "# This gets kind of hairy very quick, so using VIM really made this process super fast\n",
    "final_df = listings.merge(host_df, on=\"host_id\") \\\n",
    "           .merge(property_df, on=[\"latitude\", \"longitude\"]) \\\n",
    "           .merge(reviews_diagnostics_df, on=[\n",
    "                                                \"number_of_reviews\",\n",
    "                                                \"number_of_reviews_ltm\",\n",
    "                                                \"number_of_reviews_l30d\",\n",
    "                                                \"first_review\",\n",
    "                                                \"last_review\",\n",
    "                                                \"review_scores_rating\",\n",
    "                                                \"review_scores_accuracy\",\n",
    "                                                \"review_scores_cleanliness\",\n",
    "                                                \"review_scores_checkin\",\n",
    "                                                \"review_scores_communication\",\n",
    "                                                \"review_scores_location\",\n",
    "                                                \"review_scores_value\",\n",
    "                                                \"reviews_per_month\",]) \\\n",
    "            .merge(scrapings_df, on=[\"last_scraped\", \"source\"]) \\\n",
    "            .merge(neighbourhood_df, on=[\"neighbourhood\", \"neighbourhood_overview\", \"neighbourhood_cleansed\"]) \\\n",
    "            .merge(minmax_insights_df, on=[\n",
    "                                                \"maximum_nights\",\n",
    "                                                \"minimum_nights\",\n",
    "                                                \"minimum_minimum_nights\",\n",
    "                                                \"maximum_minimum_nights\",\n",
    "                                                \"minimum_maximum_nights\",\n",
    "                                                \"maximum_maximum_nights\",\n",
    "                                                \"minimum_nights_avg_ntm\",\n",
    "                                                \"maximum_nights_avg_ntm\"]) \\\n",
    "            .merge(availibility_df, on=[\n",
    "                                                \"has_availability\",\n",
    "                                                \"availability_30\",\n",
    "                                                \"availability_60\",\n",
    "                                                \"availability_90\",\n",
    "                                                \"availability_365\",]) \\\n",
    "            [\n",
    "                [\n",
    "                    \"id\",\n",
    "                    \"scrapings_id\",\n",
    "                    \"host_id\",\n",
    "                    \"neighbourhood_id\",\n",
    "                    \"property_id\",\n",
    "                    \"minmax_insights_id\",\n",
    "                    \"avail_id\",\n",
    "                    \"rev_diag_id\",\n",
    "                    \"listing_url\",\n",
    "                    \"name\",\n",
    "                    \"picture_url\",\n",
    "                    \"license\",\n",
    "                    \"instant_bookable\",\n",
    "                ]\n",
    "            ]"
   ]
  },
  {
   "cell_type": "code",
   "execution_count": 81,
   "metadata": {},
   "outputs": [
    {
     "data": {
      "text/html": [
       "<div>\n",
       "<style scoped>\n",
       "    .dataframe tbody tr th:only-of-type {\n",
       "        vertical-align: middle;\n",
       "    }\n",
       "\n",
       "    .dataframe tbody tr th {\n",
       "        vertical-align: top;\n",
       "    }\n",
       "\n",
       "    .dataframe thead th {\n",
       "        text-align: right;\n",
       "    }\n",
       "</style>\n",
       "<table border=\"1\" class=\"dataframe\">\n",
       "  <thead>\n",
       "    <tr style=\"text-align: right;\">\n",
       "      <th></th>\n",
       "      <th>id</th>\n",
       "      <th>scrapings_id</th>\n",
       "      <th>host_id</th>\n",
       "      <th>neighbourhood_id</th>\n",
       "      <th>property_id</th>\n",
       "      <th>minmax_insights_id</th>\n",
       "      <th>avail_id</th>\n",
       "      <th>rev_diag_id</th>\n",
       "      <th>listing_url</th>\n",
       "      <th>name</th>\n",
       "      <th>picture_url</th>\n",
       "      <th>license</th>\n",
       "      <th>instant_bookable</th>\n",
       "    </tr>\n",
       "  </thead>\n",
       "  <tbody>\n",
       "    <tr>\n",
       "      <th>0</th>\n",
       "      <td>90676</td>\n",
       "      <td>0</td>\n",
       "      <td>483306</td>\n",
       "      <td>0</td>\n",
       "      <td>0</td>\n",
       "      <td>0</td>\n",
       "      <td>0</td>\n",
       "      <td>0</td>\n",
       "      <td>https://www.airbnb.com/rooms/90676</td>\n",
       "      <td>Home in Columbus · ★4.82 · 3 bedrooms · 3 beds...</td>\n",
       "      <td>https://a0.muscache.com/pictures/950e43cd-53f3...</td>\n",
       "      <td>2022-2475</td>\n",
       "      <td>f</td>\n",
       "    </tr>\n",
       "    <tr>\n",
       "      <th>1</th>\n",
       "      <td>670454247212903243</td>\n",
       "      <td>0</td>\n",
       "      <td>43899892</td>\n",
       "      <td>95</td>\n",
       "      <td>1223</td>\n",
       "      <td>0</td>\n",
       "      <td>0</td>\n",
       "      <td>1176</td>\n",
       "      <td>https://www.airbnb.com/rooms/670454247212903243</td>\n",
       "      <td>Loft in Columbus · ★4.96 · 2 bedrooms · 2 beds...</td>\n",
       "      <td>https://a0.muscache.com/pictures/miso/Hosting-...</td>\n",
       "      <td>2021-2181</td>\n",
       "      <td>t</td>\n",
       "    </tr>\n",
       "    <tr>\n",
       "      <th>2</th>\n",
       "      <td>721677220928195604</td>\n",
       "      <td>0</td>\n",
       "      <td>384441822</td>\n",
       "      <td>95</td>\n",
       "      <td>1370</td>\n",
       "      <td>0</td>\n",
       "      <td>0</td>\n",
       "      <td>1315</td>\n",
       "      <td>https://www.airbnb.com/rooms/721677220928195604</td>\n",
       "      <td>Rental unit in Columbus · ★4.92 · 2 bedrooms ·...</td>\n",
       "      <td>https://a0.muscache.com/pictures/miso/Hosting-...</td>\n",
       "      <td>2022-5479</td>\n",
       "      <td>f</td>\n",
       "    </tr>\n",
       "    <tr>\n",
       "      <th>3</th>\n",
       "      <td>831791550528055514</td>\n",
       "      <td>0</td>\n",
       "      <td>490263838</td>\n",
       "      <td>95</td>\n",
       "      <td>1710</td>\n",
       "      <td>0</td>\n",
       "      <td>0</td>\n",
       "      <td>1623</td>\n",
       "      <td>https://www.airbnb.com/rooms/831791550528055514</td>\n",
       "      <td>Rental unit in Columbus · ★4.88 · 2 bedrooms ·...</td>\n",
       "      <td>https://a0.muscache.com/pictures/miso/Hosting-...</td>\n",
       "      <td>2022-2706</td>\n",
       "      <td>f</td>\n",
       "    </tr>\n",
       "    <tr>\n",
       "      <th>4</th>\n",
       "      <td>844920145777547884</td>\n",
       "      <td>0</td>\n",
       "      <td>490263838</td>\n",
       "      <td>95</td>\n",
       "      <td>1786</td>\n",
       "      <td>0</td>\n",
       "      <td>0</td>\n",
       "      <td>1699</td>\n",
       "      <td>https://www.airbnb.com/rooms/844920145777547884</td>\n",
       "      <td>Rental unit in Columbus · ★4.66 · 2 bedrooms ·...</td>\n",
       "      <td>https://a0.muscache.com/pictures/miso/Hosting-...</td>\n",
       "      <td>2023-2044</td>\n",
       "      <td>f</td>\n",
       "    </tr>\n",
       "  </tbody>\n",
       "</table>\n",
       "</div>"
      ],
      "text/plain": [
       "                   id  scrapings_id    host_id  neighbourhood_id  property_id  \\\n",
       "0               90676             0     483306                 0            0   \n",
       "1  670454247212903243             0   43899892                95         1223   \n",
       "2  721677220928195604             0  384441822                95         1370   \n",
       "3  831791550528055514             0  490263838                95         1710   \n",
       "4  844920145777547884             0  490263838                95         1786   \n",
       "\n",
       "   minmax_insights_id  avail_id  rev_diag_id  \\\n",
       "0                   0         0            0   \n",
       "1                   0         0         1176   \n",
       "2                   0         0         1315   \n",
       "3                   0         0         1623   \n",
       "4                   0         0         1699   \n",
       "\n",
       "                                       listing_url  \\\n",
       "0               https://www.airbnb.com/rooms/90676   \n",
       "1  https://www.airbnb.com/rooms/670454247212903243   \n",
       "2  https://www.airbnb.com/rooms/721677220928195604   \n",
       "3  https://www.airbnb.com/rooms/831791550528055514   \n",
       "4  https://www.airbnb.com/rooms/844920145777547884   \n",
       "\n",
       "                                                name  \\\n",
       "0  Home in Columbus · ★4.82 · 3 bedrooms · 3 beds...   \n",
       "1  Loft in Columbus · ★4.96 · 2 bedrooms · 2 beds...   \n",
       "2  Rental unit in Columbus · ★4.92 · 2 bedrooms ·...   \n",
       "3  Rental unit in Columbus · ★4.88 · 2 bedrooms ·...   \n",
       "4  Rental unit in Columbus · ★4.66 · 2 bedrooms ·...   \n",
       "\n",
       "                                         picture_url    license  \\\n",
       "0  https://a0.muscache.com/pictures/950e43cd-53f3...  2022-2475   \n",
       "1  https://a0.muscache.com/pictures/miso/Hosting-...  2021-2181   \n",
       "2  https://a0.muscache.com/pictures/miso/Hosting-...  2022-5479   \n",
       "3  https://a0.muscache.com/pictures/miso/Hosting-...  2022-2706   \n",
       "4  https://a0.muscache.com/pictures/miso/Hosting-...  2023-2044   \n",
       "\n",
       "  instant_bookable  \n",
       "0                f  \n",
       "1                t  \n",
       "2                f  \n",
       "3                f  \n",
       "4                f  "
      ]
     },
     "execution_count": 81,
     "metadata": {},
     "output_type": "execute_result"
    }
   ],
   "source": [
    "final_df.head()"
   ]
  },
  {
   "cell_type": "code",
   "execution_count": null,
   "metadata": {},
   "outputs": [],
   "source": []
  }
 ],
 "metadata": {
  "kernelspec": {
   "display_name": "Python 3",
   "language": "python",
   "name": "python3"
  },
  "language_info": {
   "codemirror_mode": {
    "name": "ipython",
    "version": 3
   },
   "file_extension": ".py",
   "mimetype": "text/x-python",
   "name": "python",
   "nbconvert_exporter": "python",
   "pygments_lexer": "ipython3",
   "version": "3.10.11"
  }
 },
 "nbformat": 4,
 "nbformat_minor": 2
}
