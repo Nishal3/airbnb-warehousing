{
 "cells": [
  {
   "cell_type": "markdown",
   "metadata": {},
   "source": [
    "# Transforming Data Using PySpark for AWS Glue"
   ]
  },
  {
   "cell_type": "markdown",
   "metadata": {},
   "source": [
    "## First Import SparkSession"
   ]
  },
  {
   "cell_type": "code",
   "execution_count": 53,
   "metadata": {},
   "outputs": [],
   "source": [
    "from pyspark.sql import SparkSession"
   ]
  },
  {
   "cell_type": "markdown",
   "metadata": {},
   "source": [
    "## Then Create a Spark Session"
   ]
  },
  {
   "cell_type": "code",
   "execution_count": 54,
   "metadata": {},
   "outputs": [],
   "source": [
    "spark = SparkSession.builder.appName(\"Airbnb_Warehousing\").getOrCreate()"
   ]
  },
  {
   "cell_type": "markdown",
   "metadata": {},
   "source": [
    "## Read the Listings CSV File"
   ]
  },
  {
   "cell_type": "code",
   "execution_count": 55,
   "metadata": {},
   "outputs": [],
   "source": [
    "listing_df = spark.read\\\n",
    "    .format(\"csv\")\\\n",
    "    .option(\"multiline\", \"true\")\\\n",
    "    .option(\"quote\", \"\\\"\")\\\n",
    "    .option(\"header\", \"true\")\\\n",
    "    .option(\"escape\", \"\\\\\")\\\n",
    "    .option(\"escape\", \"\\\"\")\\\n",
    "    .option(\"sep\", \",\")\\\n",
    "    .option(\"inferSchema\", \"true\")\\\n",
    "    .load(\"../data/listings.csv\")"
   ]
  },
  {
   "cell_type": "code",
   "execution_count": 56,
   "metadata": {},
   "outputs": [
    {
     "name": "stdout",
     "output_type": "stream",
     "text": [
      "root\n",
      " |-- id: long (nullable = true)\n",
      " |-- listing_url: string (nullable = true)\n",
      " |-- scrape_id: long (nullable = true)\n",
      " |-- last_scraped: date (nullable = true)\n",
      " |-- source: string (nullable = true)\n",
      " |-- name: string (nullable = true)\n",
      " |-- description: string (nullable = true)\n",
      " |-- neighborhood_overview: string (nullable = true)\n",
      " |-- picture_url: string (nullable = true)\n",
      " |-- host_id: integer (nullable = true)\n",
      " |-- host_url: string (nullable = true)\n",
      " |-- host_name: string (nullable = true)\n",
      " |-- host_since: date (nullable = true)\n",
      " |-- host_location: string (nullable = true)\n",
      " |-- host_about: string (nullable = true)\n",
      " |-- host_response_time: string (nullable = true)\n",
      " |-- host_response_rate: string (nullable = true)\n",
      " |-- host_acceptance_rate: string (nullable = true)\n",
      " |-- host_is_superhost: string (nullable = true)\n",
      " |-- host_thumbnail_url: string (nullable = true)\n",
      " |-- host_picture_url: string (nullable = true)\n",
      " |-- host_neighbourhood: string (nullable = true)\n",
      " |-- host_listings_count: integer (nullable = true)\n",
      " |-- host_total_listings_count: integer (nullable = true)\n",
      " |-- host_verifications: string (nullable = true)\n",
      " |-- host_has_profile_pic: string (nullable = true)\n",
      " |-- host_identity_verified: string (nullable = true)\n",
      " |-- neighbourhood: string (nullable = true)\n",
      " |-- neighbourhood_cleansed: string (nullable = true)\n",
      " |-- neighbourhood_group_cleansed: string (nullable = true)\n",
      " |-- latitude: double (nullable = true)\n",
      " |-- longitude: double (nullable = true)\n",
      " |-- property_type: string (nullable = true)\n",
      " |-- room_type: string (nullable = true)\n",
      " |-- accommodates: integer (nullable = true)\n",
      " |-- bathrooms: string (nullable = true)\n",
      " |-- bathrooms_text: string (nullable = true)\n",
      " |-- bedrooms: string (nullable = true)\n",
      " |-- beds: integer (nullable = true)\n",
      " |-- amenities: string (nullable = true)\n",
      " |-- price: string (nullable = true)\n",
      " |-- minimum_nights: integer (nullable = true)\n",
      " |-- maximum_nights: integer (nullable = true)\n",
      " |-- minimum_minimum_nights: integer (nullable = true)\n",
      " |-- maximum_minimum_nights: integer (nullable = true)\n",
      " |-- minimum_maximum_nights: integer (nullable = true)\n",
      " |-- maximum_maximum_nights: integer (nullable = true)\n",
      " |-- minimum_nights_avg_ntm: double (nullable = true)\n",
      " |-- maximum_nights_avg_ntm: double (nullable = true)\n",
      " |-- calendar_updated: string (nullable = true)\n",
      " |-- has_availability: string (nullable = true)\n",
      " |-- availability_30: integer (nullable = true)\n",
      " |-- availability_60: integer (nullable = true)\n",
      " |-- availability_90: integer (nullable = true)\n",
      " |-- availability_365: integer (nullable = true)\n",
      " |-- calendar_last_scraped: date (nullable = true)\n",
      " |-- number_of_reviews: integer (nullable = true)\n",
      " |-- number_of_reviews_ltm: integer (nullable = true)\n",
      " |-- number_of_reviews_l30d: integer (nullable = true)\n",
      " |-- first_review: date (nullable = true)\n",
      " |-- last_review: date (nullable = true)\n",
      " |-- review_scores_rating: double (nullable = true)\n",
      " |-- review_scores_accuracy: double (nullable = true)\n",
      " |-- review_scores_cleanliness: double (nullable = true)\n",
      " |-- review_scores_checkin: double (nullable = true)\n",
      " |-- review_scores_communication: double (nullable = true)\n",
      " |-- review_scores_location: double (nullable = true)\n",
      " |-- review_scores_value: double (nullable = true)\n",
      " |-- license: string (nullable = true)\n",
      " |-- instant_bookable: string (nullable = true)\n",
      " |-- calculated_host_listings_count: integer (nullable = true)\n",
      " |-- calculated_host_listings_count_entire_homes: integer (nullable = true)\n",
      " |-- calculated_host_listings_count_private_rooms: integer (nullable = true)\n",
      " |-- calculated_host_listings_count_shared_rooms: integer (nullable = true)\n",
      " |-- reviews_per_month: double (nullable = true)\n",
      "\n"
     ]
    }
   ],
   "source": [
    "listing_df.printSchema()"
   ]
  },
  {
   "cell_type": "markdown",
   "metadata": {},
   "source": [
    "### Looks Like the DataFrame was Correctly Read"
   ]
  },
  {
   "cell_type": "code",
   "execution_count": 57,
   "metadata": {},
   "outputs": [
    {
     "name": "stdout",
     "output_type": "stream",
     "text": [
      "+------+--------------------+--------------+------------+-----------+--------------------+-----------+---------------------+--------------------+-------+--------------------+-------------+----------+-------------+--------------------+------------------+------------------+--------------------+-----------------+--------------------+--------------------+------------------+-------------------+-------------------------+--------------------+--------------------+----------------------+--------------------+----------------------+----------------------------+--------+---------+--------------------+---------------+------------+---------+--------------+--------+----+---------+-------+--------------+--------------+----------------------+----------------------+----------------------+----------------------+----------------------+----------------------+----------------+----------------+---------------+---------------+---------------+----------------+---------------------+-----------------+---------------------+----------------------+------------+-----------+--------------------+----------------------+-------------------------+---------------------+---------------------------+----------------------+-------------------+---------+----------------+------------------------------+-------------------------------------------+--------------------------------------------+-------------------------------------------+-----------------+\n",
      "|    id|         listing_url|     scrape_id|last_scraped|     source|                name|description|neighborhood_overview|         picture_url|host_id|            host_url|    host_name|host_since|host_location|          host_about|host_response_time|host_response_rate|host_acceptance_rate|host_is_superhost|  host_thumbnail_url|    host_picture_url|host_neighbourhood|host_listings_count|host_total_listings_count|  host_verifications|host_has_profile_pic|host_identity_verified|       neighbourhood|neighbourhood_cleansed|neighbourhood_group_cleansed|latitude|longitude|       property_type|      room_type|accommodates|bathrooms|bathrooms_text|bedrooms|beds|amenities|  price|minimum_nights|maximum_nights|minimum_minimum_nights|maximum_minimum_nights|minimum_maximum_nights|maximum_maximum_nights|minimum_nights_avg_ntm|maximum_nights_avg_ntm|calendar_updated|has_availability|availability_30|availability_60|availability_90|availability_365|calendar_last_scraped|number_of_reviews|number_of_reviews_ltm|number_of_reviews_l30d|first_review|last_review|review_scores_rating|review_scores_accuracy|review_scores_cleanliness|review_scores_checkin|review_scores_communication|review_scores_location|review_scores_value|  license|instant_bookable|calculated_host_listings_count|calculated_host_listings_count_entire_homes|calculated_host_listings_count_private_rooms|calculated_host_listings_count_shared_rooms|reviews_per_month|\n",
      "+------+--------------------+--------------+------------+-----------+--------------------+-----------+---------------------+--------------------+-------+--------------------+-------------+----------+-------------+--------------------+------------------+------------------+--------------------+-----------------+--------------------+--------------------+------------------+-------------------+-------------------------+--------------------+--------------------+----------------------+--------------------+----------------------+----------------------------+--------+---------+--------------------+---------------+------------+---------+--------------+--------+----+---------+-------+--------------+--------------+----------------------+----------------------+----------------------+----------------------+----------------------+----------------------+----------------+----------------+---------------+---------------+---------------+----------------+---------------------+-----------------+---------------------+----------------------+------------+-----------+--------------------+----------------------+-------------------------+---------------------+---------------------------+----------------------+-------------------+---------+----------------+------------------------------+-------------------------------------------+--------------------------------------------+-------------------------------------------+-----------------+\n",
      "| 90676|https://www.airbn...|20231225202549|  2023-12-26|city scrape|Home in Columbus ...|       NULL| The Short North I...|https://a0.muscac...| 483306|https://www.airbn...|Audra & Lacey|2011-04-04| Columbus, OH|Active, young pro...|    within an hour|              100%|                100%|                t|https://a0.muscac...|https://a0.muscac...|              NULL|                  3|                        3|['email', 'phone'...|                   t|                     t|Columbus, Ohio, U...|  Near North/Univer...|                        NULL|39.98366|-83.00252|         Entire home|Entire home/apt|           6|     NULL|       2 baths|    NULL|   3|       []|$132.00|             1|           365|                     1|                     1|                   365|                   365|                   1.0|                 365.0|            NULL|               t|              0|              0|              0|               0|           2023-12-26|              726|                  101|                     9|  2011-10-11| 2023-12-17|                4.82|                  4.85|                     4.82|                 4.93|                       4.88|                  4.93|               4.77|2022-2475|               f|                             3|                                          3|                                           0|                                          0|             4.88|\n",
      "|543140|https://www.airbn...|20231225202549|  2023-12-25|city scrape|Home in Columbus ...|       NULL| We are close to a...|https://a0.muscac...|2350409|https://www.airbn...|       Edward|2012-05-11| Columbus, OH|Hello, hello.\\n\\n...|    within an hour|               90%|                100%|                t|https://a0.muscac...|https://a0.muscac...|              NULL|                  3|                        4|['email', 'phone'...|                   t|                     f|Columbus, Ohio, U...|  Near North/Univer...|                        NULL|40.01114|-83.01005|Private room in home|   Private room|           1|     NULL| 1 shared bath|    NULL|   1|       []| $29.00|             7|          1125|                     7|                     7|                  1125|                  1125|                   7.0|                1125.0|            NULL|               t|             16|             25|             52|             327|           2023-12-25|              133|                   10|                     1|  2012-07-31| 2023-12-09|                 4.7|                  4.75|                     4.33|                 4.93|                       4.89|                  4.77|               4.79|2019-1344|               f|                             3|                                          0|                                           3|                                          0|             0.96|\n",
      "+------+--------------------+--------------+------------+-----------+--------------------+-----------+---------------------+--------------------+-------+--------------------+-------------+----------+-------------+--------------------+------------------+------------------+--------------------+-----------------+--------------------+--------------------+------------------+-------------------+-------------------------+--------------------+--------------------+----------------------+--------------------+----------------------+----------------------------+--------+---------+--------------------+---------------+------------+---------+--------------+--------+----+---------+-------+--------------+--------------+----------------------+----------------------+----------------------+----------------------+----------------------+----------------------+----------------+----------------+---------------+---------------+---------------+----------------+---------------------+-----------------+---------------------+----------------------+------------+-----------+--------------------+----------------------+-------------------------+---------------------+---------------------------+----------------------+-------------------+---------+----------------+------------------------------+-------------------------------------------+--------------------------------------------+-------------------------------------------+-----------------+\n",
      "only showing top 2 rows\n",
      "\n"
     ]
    }
   ],
   "source": [
    "listing_df.show(2)"
   ]
  },
  {
   "cell_type": "markdown",
   "metadata": {},
   "source": [
    "# Separating Tables"
   ]
  },
  {
   "cell_type": "markdown",
   "metadata": {},
   "source": [
    "## Dropping Redundant/Empty Columns"
   ]
  },
  {
   "cell_type": "code",
   "execution_count": 58,
   "metadata": {},
   "outputs": [],
   "source": [
    "columns_to_remove = [\n",
    "                        \"calendar_last_scraped\",\n",
    "                        \"description\",\n",
    "                        \"calendar_updated\", \n",
    "                        \"bedrooms\", \n",
    "                        \"bathrooms\", \n",
    "                        \"neighbourhood_group_cleansed\", \n",
    "                        \"amenities\"\n",
    "                    ]\n",
    "listing_df = listing_df.drop(*columns_to_remove)"
   ]
  },
  {
   "cell_type": "markdown",
   "metadata": {},
   "source": [
    "## Correcting Misspell"
   ]
  },
  {
   "cell_type": "code",
   "execution_count": 59,
   "metadata": {},
   "outputs": [],
   "source": [
    "listing_df = listing_df.withColumnRenamed(\"neighborhood_overview\", \"neighbourhood_overview\")"
   ]
  },
  {
   "cell_type": "code",
   "execution_count": 60,
   "metadata": {},
   "outputs": [
    {
     "name": "stdout",
     "output_type": "stream",
     "text": [
      "root\n",
      " |-- id: long (nullable = true)\n",
      " |-- listing_url: string (nullable = true)\n",
      " |-- scrape_id: long (nullable = true)\n",
      " |-- last_scraped: date (nullable = true)\n",
      " |-- source: string (nullable = true)\n",
      " |-- name: string (nullable = true)\n",
      " |-- neighbourhood_overview: string (nullable = true)\n",
      " |-- picture_url: string (nullable = true)\n",
      " |-- host_id: integer (nullable = true)\n",
      " |-- host_url: string (nullable = true)\n",
      " |-- host_name: string (nullable = true)\n",
      " |-- host_since: date (nullable = true)\n",
      " |-- host_location: string (nullable = true)\n",
      " |-- host_about: string (nullable = true)\n",
      " |-- host_response_time: string (nullable = true)\n",
      " |-- host_response_rate: string (nullable = true)\n",
      " |-- host_acceptance_rate: string (nullable = true)\n",
      " |-- host_is_superhost: string (nullable = true)\n",
      " |-- host_thumbnail_url: string (nullable = true)\n",
      " |-- host_picture_url: string (nullable = true)\n",
      " |-- host_neighbourhood: string (nullable = true)\n",
      " |-- host_listings_count: integer (nullable = true)\n",
      " |-- host_total_listings_count: integer (nullable = true)\n",
      " |-- host_verifications: string (nullable = true)\n",
      " |-- host_has_profile_pic: string (nullable = true)\n",
      " |-- host_identity_verified: string (nullable = true)\n",
      " |-- neighbourhood: string (nullable = true)\n",
      " |-- neighbourhood_cleansed: string (nullable = true)\n",
      " |-- latitude: double (nullable = true)\n",
      " |-- longitude: double (nullable = true)\n",
      " |-- property_type: string (nullable = true)\n",
      " |-- room_type: string (nullable = true)\n",
      " |-- accommodates: integer (nullable = true)\n",
      " |-- bathrooms_text: string (nullable = true)\n",
      " |-- beds: integer (nullable = true)\n",
      " |-- price: string (nullable = true)\n",
      " |-- minimum_nights: integer (nullable = true)\n",
      " |-- maximum_nights: integer (nullable = true)\n",
      " |-- minimum_minimum_nights: integer (nullable = true)\n",
      " |-- maximum_minimum_nights: integer (nullable = true)\n",
      " |-- minimum_maximum_nights: integer (nullable = true)\n",
      " |-- maximum_maximum_nights: integer (nullable = true)\n",
      " |-- minimum_nights_avg_ntm: double (nullable = true)\n",
      " |-- maximum_nights_avg_ntm: double (nullable = true)\n",
      " |-- has_availability: string (nullable = true)\n",
      " |-- availability_30: integer (nullable = true)\n",
      " |-- availability_60: integer (nullable = true)\n",
      " |-- availability_90: integer (nullable = true)\n",
      " |-- availability_365: integer (nullable = true)\n",
      " |-- number_of_reviews: integer (nullable = true)\n",
      " |-- number_of_reviews_ltm: integer (nullable = true)\n",
      " |-- number_of_reviews_l30d: integer (nullable = true)\n",
      " |-- first_review: date (nullable = true)\n",
      " |-- last_review: date (nullable = true)\n",
      " |-- review_scores_rating: double (nullable = true)\n",
      " |-- review_scores_accuracy: double (nullable = true)\n",
      " |-- review_scores_cleanliness: double (nullable = true)\n",
      " |-- review_scores_checkin: double (nullable = true)\n",
      " |-- review_scores_communication: double (nullable = true)\n",
      " |-- review_scores_location: double (nullable = true)\n",
      " |-- review_scores_value: double (nullable = true)\n",
      " |-- license: string (nullable = true)\n",
      " |-- instant_bookable: string (nullable = true)\n",
      " |-- calculated_host_listings_count: integer (nullable = true)\n",
      " |-- calculated_host_listings_count_entire_homes: integer (nullable = true)\n",
      " |-- calculated_host_listings_count_private_rooms: integer (nullable = true)\n",
      " |-- calculated_host_listings_count_shared_rooms: integer (nullable = true)\n",
      " |-- reviews_per_month: double (nullable = true)\n",
      "\n"
     ]
    }
   ],
   "source": [
    "# Looks like the rows have been dropped\n",
    "listing_df.printSchema()"
   ]
  },
  {
   "cell_type": "markdown",
   "metadata": {},
   "source": [
    "## Transforming Listing Table"
   ]
  },
  {
   "cell_type": "code",
   "execution_count": 61,
   "metadata": {},
   "outputs": [],
   "source": [
    "listing_df.createOrReplaceTempView(\"listing_df_view\")"
   ]
  },
  {
   "cell_type": "code",
   "execution_count": 62,
   "metadata": {},
   "outputs": [
    {
     "name": "stderr",
     "output_type": "stream",
     "text": [
      "[Stage 184:>                                                        (0 + 1) / 1]\r"
     ]
    },
    {
     "name": "stdout",
     "output_type": "stream",
     "text": [
      "+-------+-------+--------------------+-----------------+----------+--------------------+--------------------+--------------------+--------------------+------------------+------------------+------------------+--------------------+-----------------+-------------------+-------------------------+------------------+--------------------+----------------------+------------------------------+-------------------------------------------+--------------------------------------------+-------------------------------------------+--------+---------+--------------------+---------------+------------+---------+----+------+-----------------+---------------------+----------------------+------------+-----------+--------------------+----------------------+-------------------------+---------------------+---------------------------+----------------------+-------------------+-----------------+--------------+------------+-----------+--------------------+----------------------+----------------------+--------------+--------------+----------------------+----------------------+----------------------+----------------------+----------------------+----------------------+----------------+---------------+---------------+---------------+----------------+--------------------+--------------------+--------------------+---------+----------------+-------------+\n",
      "|     id|host_id|            host_url|        host_name|host_since|       host_location|          host_about|  host_thumbnail_url|    host_picture_url|host_neighbourhood|host_response_time|host_response_rate|host_acceptance_rate|host_is_superhost|host_listings_count|host_total_listings_count|host_verifications|host_has_profile_pic|host_identity_verified|calculated_host_listings_count|calculated_host_listings_count_entire_homes|calculated_host_listings_count_private_rooms|calculated_host_listings_count_shared_rooms|latitude|longitude|       property_type|      room_type|accommodates|bathrooms|beds| price|number_of_reviews|number_of_reviews_ltm|number_of_reviews_l30d|first_review|last_review|review_scores_rating|review_scores_accuracy|review_scores_cleanliness|review_scores_checkin|review_scores_communication|review_scores_location|review_scores_value|reviews_per_month|     scrape_id|last_scraped|     source|       neighbourhood|neighbourhood_overview|neighbourhood_cleansed|maximum_nights|minimum_nights|minimum_minimum_nights|maximum_minimum_nights|minimum_maximum_nights|maximum_maximum_nights|minimum_nights_avg_ntm|maximum_nights_avg_ntm|has_availability|availability_30|availability_60|availability_90|availability_365|         listing_url|                name|         picture_url|  license|instant_bookable|bathroom_desc|\n",
      "+-------+-------+--------------------+-----------------+----------+--------------------+--------------------+--------------------+--------------------+------------------+------------------+------------------+--------------------+-----------------+-------------------+-------------------------+------------------+--------------------+----------------------+------------------------------+-------------------------------------------+--------------------------------------------+-------------------------------------------+--------+---------+--------------------+---------------+------------+---------+----+------+-----------------+---------------------+----------------------+------------+-----------+--------------------+----------------------+-------------------------+---------------------+---------------------------+----------------------+-------------------+-----------------+--------------+------------+-----------+--------------------+----------------------+----------------------+--------------+--------------+----------------------+----------------------+----------------------+----------------------+----------------------+----------------------+----------------+---------------+---------------+---------------+----------------+--------------------+--------------------+--------------------+---------+----------------+-------------+\n",
      "|  90676| 483306|https://www.airbn...|    Audra & Lacey|2011-04-04|        Columbus, OH|Active, young pro...|https://a0.muscac...|https://a0.muscac...|              NULL|                 H|              1.00|                1.00|                1|                  3|                        3|               111|                   1|                     1|                             3|                                          3|                                           0|                                          0|39.98366|-83.00252|         Entire home|Entire home/apt|           6|        2|   3|132.00|              726|                  101|                     9|  2011-10-11| 2023-12-17|                4.82|                  4.85|                     4.82|                 4.93|                       4.88|                  4.93|               4.77|             4.88|20231225202549|  2023-12-26|city scrape|Columbus, Ohio, U...|  The Short North I...|  Near North/Univer...|           365|             1|                     1|                     1|                   365|                   365|                   1.0|                 365.0|               1|              0|              0|              0|               0|https://www.airbn...|Home in Columbus ...|https://a0.muscac...|2022-2475|               0|        baths|\n",
      "| 543140|2350409|https://www.airbn...|           Edward|2012-05-11|        Columbus, OH|Hello, hello.\\n\\n...|https://a0.muscac...|https://a0.muscac...|              NULL|                 H|              0.90|                1.00|                1|                  3|                        4|               111|                   1|                     0|                             3|                                          0|                                           3|                                          0|40.01114|-83.01005|Private room in home|   Private room|           1|        1|   1| 29.00|              133|                   10|                     1|  2012-07-31| 2023-12-09|                 4.7|                  4.75|                     4.33|                 4.93|                       4.89|                  4.77|               4.79|             0.96|20231225202549|  2023-12-25|city scrape|Columbus, Ohio, U...|  We are close to a...|  Near North/Univer...|          1125|             7|                     7|                     7|                  1125|                  1125|                   7.0|                1125.0|               1|             16|             25|             52|             327|https://www.airbn...|Home in Columbus ...|https://a0.muscac...|2019-1344|               0|  shared bath|\n",
      "| 591101|2889677|https://www.airbn...|             Gail|2012-07-10|        Columbus, OH|My husband Eric a...|https://a0.muscac...|https://a0.muscac...|              NULL|                 H|              1.00|                1.00|                1|                  1|                        1|               110|                   1|                     0|                             1|                                          0|                                           1|                                          0|39.96041|-82.98005|Private room in loft|   Private room|           2|        1|   1|110.00|              296|                   19|                     0|  2012-08-10| 2023-11-12|                4.92|                  4.93|                     4.93|                 4.96|                       4.91|                  4.89|               4.88|             2.14|20231225202549|  2023-12-26|city scrape|Columbus, Ohio, U...|  A historic neighb...|             Near East|            30|             2|                     2|                     2|                  1125|                  1125|                   2.0|                1125.0|               1|              0|              0|              0|               0|https://www.airbn...|Loft in Columbus ...|https://a0.muscac...|2019-1230|               0| private bath|\n",
      "| 923248|4965048|https://www.airbn...|           Mathew|2013-02-04|           Pāhoa, HI|I'm an outgoing t...|https://a0.muscac...|https://a0.muscac...|              Hilo|                 H|              1.00|                0.99|                1|                 24|                       25|               111|                   1|                     1|                             8|                                          2|                                           4|                                          2|40.01259|-83.00164|Shared room in ho...|    Shared room|           1|        3|   5| 30.00|              348|                   54|                     0|  2013-02-26| 2023-11-23|                4.74|                  4.79|                     4.73|                 4.88|                        4.9|                  4.68|               4.84|             2.64|20231225202549|  2023-12-25|city scrape|Columbus, Ohio, U...|  We are located in...|  Near North/Univer...|          1125|             1|                     1|                     1|                     1|                  1125|                   1.0|                  74.7|               1|             27|             57|             80|             349|https://www.airbn...|Hostel in Columbu...|https://a0.muscac...|2019-1314|               0| shared baths|\n",
      "| 927867|4965048|https://www.airbn...|           Mathew|2013-02-04|           Pāhoa, HI|I'm an outgoing t...|https://a0.muscac...|https://a0.muscac...|              Hilo|                 H|              1.00|                0.99|                1|                 24|                       25|               111|                   1|                     1|                             8|                                          2|                                           4|                                          2|40.01259|-83.00164|Private room in h...|   Private room|           2|        3|   1| 73.00|               76|                    9|                     0|  2013-09-11| 2023-10-28|                4.72|                  4.84|                     4.55|                 4.89|                       4.91|                   4.7|               4.74|             0.61|20231225202549|  2023-12-25|city scrape|Columbus, Ohio, U...|  We are located in...|  Near North/Univer...|           365|             1|                     1|                     1|                    30|                   365|                   1.0|                  38.5|               1|             20|             47|             70|             336|https://www.airbn...|Hostel in Columbu...|https://a0.muscac...|2019-1314|               0| shared baths|\n",
      "|1183297|6473080|https://www.airbn...|           Samuel|2013-05-19|London, United Ki...|I love traveling ...|https://a0.muscac...|https://a0.muscac...|    South Columbus|                FH|              1.00|                0.96|                1|                  1|                        2|               110|                   1|                     1|                             1|                                          1|                                           0|                                          0|39.95164|-82.99434|         Entire home|Entire home/apt|           6|        2|   3|185.00|               84|                   26|                     0|  2021-10-10| 2023-11-19|                4.92|                  4.92|                     4.94|                 4.95|                       4.98|                  4.77|               4.81|             3.12|20231225202549|  2023-12-26|city scrape|Columbus, Ohio, U...|  German Village is...|            Near South|           365|            30|                     4|                     4|                   365|                   365|                   4.0|                 365.0|               1|             29|             56|             86|             175|https://www.airbn...|Home in Columbus ...|https://a0.muscac...|     NULL|               0|        baths|\n",
      "|1217678|5707733|https://www.airbn...|Douglas & Russell|2013-03-31|        Columbus, OH|We enjoy hosting ...|https://a0.muscac...|https://a0.muscac...|              NULL|                 H|              1.00|                1.00|                1|                  2|                        2|               110|                   1|                     1|                             2|                                          0|                                           2|                                          0|40.03869|-83.01728|Private room in home|   Private room|           2|      1.5|   1| 85.00|              233|                   17|                     0|  2013-06-30| 2023-11-13|                4.97|                  4.99|                     4.99|                 4.98|                       4.98|                  4.96|               4.93|             1.82|20231225202549|  2023-12-25|city scrape|Columbus, Ohio, U...|  The house is on a...|          Clintonville|           120|             1|                     1|                     1|                   120|                   120|                   1.0|                 120.0|               1|             27|             47|             75|             346|https://www.airbn...|Home in Columbus ...|https://a0.muscac...|2023-4020|               0| shared baths|\n",
      "|1286887|  78761|https://www.airbn...|     Jeff & Stevo|2010-02-07|        Columbus, OH|Hi, I'm Jeff. I l...|https://a0.muscac...|https://a0.muscac...|              NULL|                FH|              1.00|                1.00|                1|                  1|                        1|               110|                   1|                     1|                             1|                                          1|                                           0|                                          0|39.94548|-82.99245|         Entire home|Entire home/apt|           4|      2.5|   2|248.00|              179|                   11|                     0|  2013-08-23| 2023-11-21|                4.98|                  4.98|                     4.99|                 4.98|                        5.0|                  4.98|               4.89|             1.42|20231225202549|  2023-12-26|city scrape|Columbus, Ohio, U...|  Welcome to German...|            Near South|           365|             3|                     3|                     3|                   365|                   365|                   3.0|                 365.0|               1|             24|             54|             84|             348|https://www.airbn...|Home in Columbus ...|https://a0.muscac...|2019-1888|               0|        baths|\n",
      "|1336145|5707733|https://www.airbn...|Douglas & Russell|2013-03-31|        Columbus, OH|We enjoy hosting ...|https://a0.muscac...|https://a0.muscac...|              NULL|                 H|              1.00|                1.00|                1|                  2|                        2|               110|                   1|                     1|                             2|                                          0|                                           2|                                          0| 40.0369|-83.01677|Private room in home|   Private room|           2|      1.5|   1| 85.00|              180|                   15|                     0|  2013-08-28| 2023-11-20|                4.95|                  4.98|                     4.99|                 4.97|                       4.98|                  4.98|                4.9|             1.43|20231225202549|  2023-12-25|city scrape|Columbus, Ohio, U...|  The house is on a...|          Clintonville|           120|             1|                     1|                     1|                   120|                   120|                   1.0|                 120.0|               1|             22|             42|             70|             334|https://www.airbn...|Home in Columbus ...|https://a0.muscac...|2023-4020|               0| shared baths|\n",
      "|1520102|4965048|https://www.airbn...|           Mathew|2013-02-04|           Pāhoa, HI|I'm an outgoing t...|https://a0.muscac...|https://a0.muscac...|              Hilo|                 H|              1.00|                0.99|                1|                 24|                       25|               111|                   1|                     1|                             8|                                          2|                                           4|                                          2|40.01259|-83.00164|Shared room in ho...|    Shared room|           1|        3|   3| 32.00|               54|                    7|                     0|  2014-02-10| 2023-08-06|                4.85|                  4.81|                     4.68|                 4.89|                       4.87|                   4.7|               4.87|             0.45|20231225202549|  2023-12-25|city scrape|Columbus, Ohio, U...|  We are located in...|  Near North/Univer...|          1125|             1|                     1|                     1|                     1|                  1125|                   1.0|                 274.9|               1|              0|              0|             19|             286|https://www.airbn...|Hostel in Columbu...|https://a0.muscac...|2019-1314|               0| shared baths|\n",
      "+-------+-------+--------------------+-----------------+----------+--------------------+--------------------+--------------------+--------------------+------------------+------------------+------------------+--------------------+-----------------+-------------------+-------------------------+------------------+--------------------+----------------------+------------------------------+-------------------------------------------+--------------------------------------------+-------------------------------------------+--------+---------+--------------------+---------------+------------+---------+----+------+-----------------+---------------------+----------------------+------------+-----------+--------------------+----------------------+-------------------------+---------------------+---------------------------+----------------------+-------------------+-----------------+--------------+------------+-----------+--------------------+----------------------+----------------------+--------------+--------------+----------------------+----------------------+----------------------+----------------------+----------------------+----------------------+----------------+---------------+---------------+---------------+----------------+--------------------+--------------------+--------------------+---------+----------------+-------------+\n",
      "only showing top 10 rows\n",
      "\n"
     ]
    },
    {
     "name": "stderr",
     "output_type": "stream",
     "text": [
      "                                                                                \r"
     ]
    }
   ],
   "source": [
    "from pyspark.sql.functions import udf, col, split\n",
    "from pyspark.sql.types import StringType, IntegerType\n",
    "\n",
    "# UDF to transform host_verifications to a 3 character string\n",
    "# index 0 = email, index 1 = phone, index 2 = work_email. 1 = verified, 0 = not verified\n",
    "def hqad_df_host_verifications_transform(verifs_list):\n",
    "   res = \"\"\n",
    "\n",
    "   verifs = [\"email\", \"phone\", \"work_email\"]\n",
    "\n",
    "   for verif in verifs:\n",
    "      if verif in verifs_list:\n",
    "         res += \"1\"\n",
    "      else:\n",
    "         res += \"0\"\n",
    "\n",
    "   return res\n",
    "\n",
    "\n",
    "# UDF To convert t/f to 1/0 respectively\n",
    "def t_f_to_1_0(t_f):\n",
    "    if t_f == \"t\":\n",
    "        return 1\n",
    "    else:\n",
    "        return 0\n",
    "\n",
    "\n",
    "hqad_array_transform = udf(hqad_df_host_verifications_transform, StringType())\n",
    "truefalse_to_10 = udf(t_f_to_1_0, IntegerType())\n",
    "\n",
    "# Query to get row number, replace percent to decimal, change host_response_time to shorter key, and change t/f to 1/0\n",
    "listing_df_query = \"\"\"\n",
    "                    SELECT id,\n",
    "                        host_id,\n",
    "                        host_url,\n",
    "                        host_name,\n",
    "                        host_since,\n",
    "                        host_location,\n",
    "                        host_about,\n",
    "                        host_thumbnail_url,\n",
    "                        host_picture_url,\n",
    "                        host_neighbourhood,\n",
    "                        CASE host_response_time\n",
    "                            WHEN 'within an hour' THEN 'H'\n",
    "                            WHEN 'within a few hours' THEN 'FH'\n",
    "                            WHEN 'within a dat' THEN 'D'\n",
    "                            WHEN 'a few days or more' THEN 'D+'\n",
    "                            ELSE NULL\n",
    "                        END AS host_response_time, \n",
    "                        CAST(REPLACE(host_response_rate, '%', '') / 100 AS DECIMAL(3,2)) AS host_response_rate,\n",
    "                        CAST(REPLACE(host_acceptance_rate, '%', '') / 100 AS DECIMAL(3,2)) AS host_acceptance_rate,\n",
    "                        host_is_superhost,\n",
    "                        host_listings_count, \n",
    "                        host_total_listings_count, \n",
    "                        host_verifications, \n",
    "                        host_has_profile_pic,\n",
    "                        host_identity_verified,\n",
    "                        calculated_host_listings_count,\n",
    "                        calculated_host_listings_count_entire_homes,\n",
    "                        calculated_host_listings_count_private_rooms,\n",
    "                        calculated_host_listings_count_shared_rooms,\n",
    "                        latitude,\n",
    "                        longitude,\n",
    "                        property_type,\n",
    "                        room_type,\n",
    "                        accommodates,\n",
    "                        CASE\n",
    "                            WHEN INSTR(bathrooms_text, 'Private half-bath') > 0 THEN '0.5 private bath'\n",
    "                            WHEN INSTR(bathrooms_text, 'Half-bath') > 0 THEN '0.5 bath'\n",
    "                            ELSE bathrooms_text\n",
    "                        END as bathrooms,\n",
    "                        beds,\n",
    "                        cast(replace(price, '$', '') as decimal(10,2)) as price,\n",
    "                        number_of_reviews,\n",
    "                        number_of_reviews_ltm,\n",
    "                        number_of_reviews_l30d,\n",
    "                        first_review,\n",
    "                        last_review,\n",
    "                        review_scores_rating,\n",
    "                        review_scores_accuracy,\n",
    "                        review_scores_cleanliness,\n",
    "                        review_scores_checkin,\n",
    "                        review_scores_communication,\n",
    "                        review_scores_location,\n",
    "                        review_scores_value,\n",
    "                        reviews_per_month,\n",
    "                        scrape_id,\n",
    "                        last_scraped,\n",
    "                        source,\n",
    "                        neighbourhood,\n",
    "                        neighbourhood_overview,\n",
    "                        neighbourhood_cleansed,\n",
    "                        maximum_nights,\n",
    "                        minimum_nights,\n",
    "                        minimum_minimum_nights,\n",
    "                        maximum_minimum_nights,\n",
    "                        minimum_maximum_nights,\n",
    "                        maximum_maximum_nights,\n",
    "                        minimum_nights_avg_ntm,\n",
    "                        maximum_nights_avg_ntm,\n",
    "                        has_availability,\n",
    "                        availability_30,\n",
    "                        availability_60,\n",
    "                        availability_90,\n",
    "                        availability_365,\n",
    "                        listing_url,\n",
    "                        name,\n",
    "                        picture_url,\n",
    "                        license,\n",
    "                        instant_bookable\n",
    "                    FROM listing_df_view\n",
    "\"\"\"\n",
    "\n",
    "listing_df = spark.sql(listing_df_query)\n",
    "# Splitting the bathroom column into two\n",
    "property_baths_split = split(col(\"bathrooms\"), ' ', limit=2)\n",
    "# Adding the two new columns\n",
    "listing_df = listing_df.withColumn(\"bathroom_desc\", property_baths_split.getItem(1))\n",
    "listing_df = listing_df.withColumn(\"bathrooms\", property_baths_split.getItem(0))\n",
    "listing_df = listing_df.withColumn(\"host_verifications\", hqad_array_transform(col(\"host_verifications\")))\n",
    "listing_df = listing_df.withColumns(\n",
    "   {\n",
    "      \"host_is_superhost\": truefalse_to_10(col(\"host_is_superhost\")), \n",
    "      \"host_has_profile_pic\": truefalse_to_10(col(\"host_has_profile_pic\")), \n",
    "      \"host_identity_verified\": truefalse_to_10(col(\"host_identity_verified\")), \n",
    "      \"has_availability\": truefalse_to_10(col(\"has_availability\")), \n",
    "      \"instant_bookable\": truefalse_to_10(col(\"instant_bookable\"))\n",
    "   }\n",
    ")\n",
    "\n",
    "listing_df.show(10)"
   ]
  },
  {
   "cell_type": "markdown",
   "metadata": {},
   "source": [
    "### Whew! That was One Long Transformation!"
   ]
  },
  {
   "cell_type": "code",
   "execution_count": 63,
   "metadata": {},
   "outputs": [],
   "source": [
    "# Recreating Listings View\n",
    "listing_df.createOrReplaceTempView(\"listing_df_view\")"
   ]
  },
  {
   "cell_type": "markdown",
   "metadata": {},
   "source": [
    "## Creating Host Tables"
   ]
  },
  {
   "cell_type": "markdown",
   "metadata": {},
   "source": [
    "### Host Table"
   ]
  },
  {
   "cell_type": "code",
   "execution_count": 64,
   "metadata": {},
   "outputs": [
    {
     "name": "stderr",
     "output_type": "stream",
     "text": [
      "                                                                                \r"
     ]
    },
    {
     "name": "stdout",
     "output_type": "stream",
     "text": [
      "count: 977\n",
      "+---------+--------------------+---------+----------+-------------+--------------------+--------------------+--------------------+------------------+------------------+------------------+--------------------+-----------------+-------------------+-------------------------+------------------+--------------------+----------------------+------------------------------+-------------------------------------------+--------------------------------------------+-------------------------------------------+\n",
      "|  host_id|            host_url|host_name|host_since|host_location|          host_about|  host_thumbnail_url|    host_picture_url|host_neighbourhood|host_response_time|host_response_rate|host_acceptance_rate|host_is_superhost|host_listings_count|host_total_listings_count|host_verifications|host_has_profile_pic|host_identity_verified|calculated_host_listings_count|calculated_host_listings_count_entire_homes|calculated_host_listings_count_private_rooms|calculated_host_listings_count_shared_rooms|\n",
      "+---------+--------------------+---------+----------+-------------+--------------------+--------------------+--------------------+------------------+------------------+------------------+--------------------+-----------------+-------------------+-------------------------+------------------+--------------------+----------------------+------------------------------+-------------------------------------------+--------------------------------------------+-------------------------------------------+\n",
      "|182105923|https://www.airbn...|    Holly|2018-04-02| Columbus, OH|Food, nature, art...|https://a0.muscac...|https://a0.muscac...|    Dennison Place|                 H|              1.00|                0.98|                1|                  2|                        2|               110|                   1|                     0|                             2|                                          2|                                           0|                                          0|\n",
      "| 56664331|https://www.airbn...|   Wesley|2016-01-29| Columbus, OH|Young traveler lo...|https://a0.muscac...|https://a0.muscac...|    Near East Side|                 H|              1.00|                0.87|                0|                  1|                        1|               111|                   1|                     1|                             1|                                          1|                                           0|                                          0|\n",
      "+---------+--------------------+---------+----------+-------------+--------------------+--------------------+--------------------+------------------+------------------+------------------+--------------------+-----------------+-------------------+-------------------------+------------------+--------------------+----------------------+------------------------------+-------------------------------------------+--------------------------------------------+-------------------------------------------+\n",
      "only showing top 2 rows\n",
      "\n"
     ]
    },
    {
     "name": "stderr",
     "output_type": "stream",
     "text": [
      "                                                                                \r"
     ]
    }
   ],
   "source": [
    "host_df = listing_df.select(\n",
    "    \"host_id\",\n",
    "    \"host_url\",\n",
    "    \"host_name\",\n",
    "    \"host_since\",\n",
    "    \"host_location\",\n",
    "    \"host_about\",\n",
    "    \"host_thumbnail_url\",\n",
    "    \"host_picture_url\",\n",
    "    \"host_neighbourhood\",\n",
    "    \"host_response_time\",\n",
    "    \"host_response_rate\",\n",
    "    \"host_acceptance_rate\",\n",
    "    \"host_is_superhost\",\n",
    "    \"host_listings_count\",\n",
    "    \"host_total_listings_count\",\n",
    "    \"host_verifications\",\n",
    "    \"host_has_profile_pic\",\n",
    "    \"host_identity_verified\",\n",
    "    \"calculated_host_listings_count\",\n",
    "    \"calculated_host_listings_count_entire_homes\",\n",
    "    \"calculated_host_listings_count_private_rooms\",\n",
    "    \"calculated_host_listings_count_shared_rooms\",\n",
    ")\n",
    "\n",
    "host_df = host_df.dropDuplicates()\n",
    "\n",
    "print(\"count: \" + str(host_df.count()))\n",
    "\n",
    "host_df.show(2)"
   ]
  },
  {
   "cell_type": "markdown",
   "metadata": {},
   "source": [
    "### Host Dimension Tables"
   ]
  },
  {
   "cell_type": "code",
   "execution_count": 65,
   "metadata": {},
   "outputs": [
    {
     "name": "stderr",
     "output_type": "stream",
     "text": [
      "                                                                                \r"
     ]
    },
    {
     "name": "stdout",
     "output_type": "stream",
     "text": [
      "count: 607\n",
      "root\n",
      " |-- host_response_time: string (nullable = true)\n",
      " |-- host_response_rate: decimal(3,2) (nullable = true)\n",
      " |-- host_acceptance_rate: decimal(3,2) (nullable = true)\n",
      " |-- host_is_superhost: integer (nullable = true)\n",
      " |-- host_listings_count: integer (nullable = true)\n",
      " |-- host_total_listings_count: integer (nullable = true)\n",
      " |-- host_verifications: string (nullable = true)\n",
      " |-- host_has_profile_pic: integer (nullable = true)\n",
      " |-- host_identity_verified: integer (nullable = true)\n",
      " |-- hqad_id: long (nullable = false)\n",
      "\n",
      "+------------------+------------------+--------------------+-----------------+-------------------+-------------------------+------------------+--------------------+----------------------+-------+\n",
      "|host_response_time|host_response_rate|host_acceptance_rate|host_is_superhost|host_listings_count|host_total_listings_count|host_verifications|host_has_profile_pic|host_identity_verified|hqad_id|\n",
      "+------------------+------------------+--------------------+-----------------+-------------------+-------------------------+------------------+--------------------+----------------------+-------+\n",
      "|                 H|              1.00|                1.00|                1|                  2|                        4|               110|                   1|                     1|      0|\n",
      "|                 H|              1.00|                1.00|                1|                  8|                       11|               111|                   1|                     1|      1|\n",
      "+------------------+------------------+--------------------+-----------------+-------------------+-------------------------+------------------+--------------------+----------------------+-------+\n",
      "only showing top 2 rows\n",
      "\n"
     ]
    }
   ],
   "source": [
    "from pyspark.sql.functions import monotonically_increasing_id\n",
    "# Host Qualifications and Diagnostics (HQAD)\n",
    "hqad_df = host_df.select(\n",
    "    \"host_response_time\",\n",
    "    \"host_response_rate\",\n",
    "    \"host_acceptance_rate\",\n",
    "    \"host_is_superhost\",\n",
    "    \"host_listings_count\",\n",
    "    \"host_total_listings_count\",\n",
    "    \"host_verifications\",\n",
    "    \"host_has_profile_pic\",\n",
    "    \"host_identity_verified\"\n",
    ")\n",
    "\n",
    "hqad_df = hqad_df.dropDuplicates()\n",
    "\n",
    "hqad_df = hqad_df.withColumn(\"hqad_id\", monotonically_increasing_id())\n",
    "\n",
    "print(\"count: \" + str(hqad_df.count()))\n",
    "hqad_df.printSchema()\n",
    "hqad_df.show(2)"
   ]
  },
  {
   "cell_type": "code",
   "execution_count": 66,
   "metadata": {},
   "outputs": [
    {
     "name": "stdout",
     "output_type": "stream",
     "text": [
      "count: 69\n",
      "root\n",
      " |-- calculated_host_listings_count: integer (nullable = true)\n",
      " |-- calculated_host_listings_count_entire_homes: integer (nullable = true)\n",
      " |-- calculated_host_listings_count_private_rooms: integer (nullable = true)\n",
      " |-- calculated_host_listings_count_shared_rooms: integer (nullable = true)\n",
      " |-- hld_id: long (nullable = false)\n",
      "\n",
      "+------------------------------+-------------------------------------------+--------------------------------------------+-------------------------------------------+------+\n",
      "|calculated_host_listings_count|calculated_host_listings_count_entire_homes|calculated_host_listings_count_private_rooms|calculated_host_listings_count_shared_rooms|hld_id|\n",
      "+------------------------------+-------------------------------------------+--------------------------------------------+-------------------------------------------+------+\n",
      "|                             2|                                          1|                                           1|                                          0|     0|\n",
      "|                            23|                                         23|                                           0|                                          0|     1|\n",
      "+------------------------------+-------------------------------------------+--------------------------------------------+-------------------------------------------+------+\n",
      "only showing top 2 rows\n",
      "\n"
     ]
    }
   ],
   "source": [
    "# The Host Listings Diagnostics (HLD)\n",
    "hld_df = host_df.select(\n",
    "    \"calculated_host_listings_count\",\n",
    "    \"calculated_host_listings_count_entire_homes\",\n",
    "    \"calculated_host_listings_count_private_rooms\",\n",
    "    \"calculated_host_listings_count_shared_rooms\"\n",
    ")\n",
    "\n",
    "hld_df = hld_df.dropDuplicates()\n",
    "\n",
    "hld_df = hld_df.withColumn(\"hld_id\", monotonically_increasing_id())\n",
    "\n",
    "print(\"count: \" + str(hld_df.count()))\n",
    "\n",
    "hld_df.printSchema()\n",
    "hld_df.show(2)"
   ]
  },
  {
   "cell_type": "markdown",
   "metadata": {},
   "source": [
    "## Next, the Property Dimension Table"
   ]
  },
  {
   "cell_type": "code",
   "execution_count": 67,
   "metadata": {},
   "outputs": [
    {
     "name": "stdout",
     "output_type": "stream",
     "text": [
      "count: 2649\n",
      "root\n",
      " |-- latitude: double (nullable = true)\n",
      " |-- longitude: double (nullable = true)\n",
      " |-- property_type: string (nullable = true)\n",
      " |-- room_type: string (nullable = true)\n",
      " |-- accommodates: integer (nullable = true)\n",
      " |-- bathrooms: string (nullable = true)\n",
      " |-- bathroom_desc: string (nullable = true)\n",
      " |-- beds: integer (nullable = true)\n",
      " |-- price: decimal(10,2) (nullable = true)\n",
      " |-- property_id: long (nullable = false)\n",
      "\n",
      "+--------+---------+--------------------+---------------+------------+---------+-------------+----+-----+-----------+\n",
      "|latitude|longitude|       property_type|      room_type|accommodates|bathrooms|bathroom_desc|beds|price|property_id|\n",
      "+--------+---------+--------------------+---------------+------------+---------+-------------+----+-----+-----------+\n",
      "|40.02415|-83.03233|Private room in home|   Private room|           1|      1.5| shared baths|   1|32.00|          0|\n",
      "|40.01803|-83.00057|  Entire rental unit|Entire home/apt|           1|        1|         bath|   1|60.00|          1|\n",
      "+--------+---------+--------------------+---------------+------------+---------+-------------+----+-----+-----------+\n",
      "only showing top 2 rows\n",
      "\n"
     ]
    }
   ],
   "source": [
    "property_df = listing_df.select(\n",
    "    \"latitude\",\n",
    "    \"longitude\", \n",
    "    \"property_type\", \n",
    "    \"room_type\", \n",
    "    \"accommodates\",\n",
    "    \"bathrooms\",\n",
    "    \"bathroom_desc\",\n",
    "    \"beds\",\n",
    "    \"price\"\n",
    ")\n",
    "\n",
    "property_df = property_df.dropDuplicates()\n",
    "\n",
    "property_df = property_df.withColumn(\"property_id\", monotonically_increasing_id())\n",
    "\n",
    "print(\"count: \" + str(property_df.count()))\n",
    "\n",
    "property_df.printSchema()\n",
    "property_df.show(2)"
   ]
  },
  {
   "cell_type": "markdown",
   "metadata": {},
   "source": [
    "## Now the Reviews Diagnostics Table"
   ]
  },
  {
   "cell_type": "code",
   "execution_count": 68,
   "metadata": {},
   "outputs": [
    {
     "name": "stdout",
     "output_type": "stream",
     "text": [
      "count: 2272\n",
      "root\n",
      " |-- number_of_reviews: integer (nullable = true)\n",
      " |-- number_of_reviews_ltm: integer (nullable = true)\n",
      " |-- number_of_reviews_l30d: integer (nullable = true)\n",
      " |-- first_review: date (nullable = true)\n",
      " |-- last_review: date (nullable = true)\n",
      " |-- review_scores_rating: double (nullable = true)\n",
      " |-- review_scores_accuracy: double (nullable = true)\n",
      " |-- review_scores_cleanliness: double (nullable = true)\n",
      " |-- review_scores_checkin: double (nullable = true)\n",
      " |-- review_scores_communication: double (nullable = true)\n",
      " |-- review_scores_location: double (nullable = true)\n",
      " |-- review_scores_value: double (nullable = true)\n",
      " |-- reviews_per_month: double (nullable = true)\n",
      " |-- rev_diag_id: long (nullable = false)\n",
      "\n",
      "+-----------------+---------------------+----------------------+------------+-----------+--------------------+----------------------+-------------------------+---------------------+---------------------------+----------------------+-------------------+-----------------+-----------+\n",
      "|number_of_reviews|number_of_reviews_ltm|number_of_reviews_l30d|first_review|last_review|review_scores_rating|review_scores_accuracy|review_scores_cleanliness|review_scores_checkin|review_scores_communication|review_scores_location|review_scores_value|reviews_per_month|rev_diag_id|\n",
      "+-----------------+---------------------+----------------------+------------+-----------+--------------------+----------------------+-------------------------+---------------------+---------------------------+----------------------+-------------------+-----------------+-----------+\n",
      "|44               |44                   |6                     |2023-02-20  |2023-12-21 |4.95                |4.84                  |4.93                     |4.95                 |4.95                       |4.93                  |4.89               |4.26             |0          |\n",
      "|75               |28                   |0                     |2021-11-21  |2023-11-06 |4.75                |4.84                  |4.81                     |4.76                 |4.87                       |4.81                  |4.75               |2.94             |1          |\n",
      "|109              |64                   |3                     |2022-05-15  |2023-12-18 |4.99                |4.98                  |4.97                     |4.98                 |5.0                        |4.86                  |4.96               |5.53             |2          |\n",
      "|34               |33                   |2                     |2022-11-20  |2023-12-03 |4.97                |5.0                   |4.97                     |4.94                 |4.97                       |4.97                  |4.94               |2.54             |3          |\n",
      "|2                |2                    |0                     |2023-04-08  |2023-05-23 |5.0                 |5.0                   |5.0                      |5.0                  |5.0                        |5.0                   |5.0                |0.23             |4          |\n",
      "+-----------------+---------------------+----------------------+------------+-----------+--------------------+----------------------+-------------------------+---------------------+---------------------------+----------------------+-------------------+-----------------+-----------+\n",
      "only showing top 5 rows\n",
      "\n"
     ]
    }
   ],
   "source": [
    "reviews_diagnostics_df = listing_df.select(\n",
    "    \"number_of_reviews\",\n",
    "    \"number_of_reviews_ltm\",\n",
    "    \"number_of_reviews_l30d\",\n",
    "    \"first_review\",\n",
    "    \"last_review\",\n",
    "    \"review_scores_rating\",\n",
    "    \"review_scores_accuracy\",\n",
    "    \"review_scores_cleanliness\",\n",
    "    \"review_scores_checkin\",\n",
    "    \"review_scores_communication\",\n",
    "    \"review_scores_location\",\n",
    "    \"review_scores_value\",\n",
    "    \"reviews_per_month\"\n",
    ")\n",
    "\n",
    "reviews_diagnostics_df = reviews_diagnostics_df.dropDuplicates()\n",
    "\n",
    "reviews_diagnostics_df = reviews_diagnostics_df.withColumn(\"rev_diag_id\", monotonically_increasing_id())\n",
    "\n",
    "print(\"count: \" + str(reviews_diagnostics_df.count()))\n",
    "\n",
    "reviews_diagnostics_df.printSchema()\n",
    "reviews_diagnostics_df.show(5, truncate=False)"
   ]
  },
  {
   "cell_type": "markdown",
   "metadata": {},
   "source": [
    "## Scrapings Dimension Table"
   ]
  },
  {
   "cell_type": "code",
   "execution_count": 69,
   "metadata": {},
   "outputs": [
    {
     "name": "stdout",
     "output_type": "stream",
     "text": [
      "count: 3\n",
      "root\n",
      " |-- scrape_id: long (nullable = true)\n",
      " |-- last_scraped: date (nullable = true)\n",
      " |-- source: string (nullable = true)\n",
      " |-- scraping_id: long (nullable = false)\n",
      "\n",
      "+--------------+------------+---------------+-----------+\n",
      "|scrape_id     |last_scraped|source         |scraping_id|\n",
      "+--------------+------------+---------------+-----------+\n",
      "|20231225202549|2023-12-26  |previous scrape|0          |\n",
      "|20231225202549|2023-12-26  |city scrape    |1          |\n",
      "|20231225202549|2023-12-25  |city scrape    |2          |\n",
      "+--------------+------------+---------------+-----------+\n",
      "\n"
     ]
    }
   ],
   "source": [
    "scrapings_df = listing_df.select(\n",
    "    \"scrape_id\",\n",
    "    \"last_scraped\",\n",
    "    \"source\"\n",
    ")\n",
    "\n",
    "scrapings_df = scrapings_df.dropDuplicates()\n",
    "\n",
    "scrapings_df = scrapings_df.withColumn(\"scraping_id\", monotonically_increasing_id())\n",
    "\n",
    "print(\"count: \" + str(scrapings_df.count()))\n",
    "\n",
    "scrapings_df.printSchema()\n",
    "scrapings_df.show(5, truncate=False)"
   ]
  },
  {
   "cell_type": "markdown",
   "metadata": {},
   "source": [
    "## Neighbourhood Dimension Table\n"
   ]
  },
  {
   "cell_type": "code",
   "execution_count": 70,
   "metadata": {},
   "outputs": [
    {
     "name": "stdout",
     "output_type": "stream",
     "text": [
      "count: 1299\n",
      "root\n",
      " |-- neighbourhood: string (nullable = true)\n",
      " |-- neighbourhood_overview: string (nullable = true)\n",
      " |-- neighbourhood_cleansed: string (nullable = true)\n",
      " |-- neighbourhood_id: long (nullable = false)\n",
      "\n",
      "+--------------------+----------------------+----------------------+----------------+\n",
      "|       neighbourhood|neighbourhood_overview|neighbourhood_cleansed|neighbourhood_id|\n",
      "+--------------------+----------------------+----------------------+----------------+\n",
      "|Hilliard, Ohio, U...|  We're about a 15 ...|              Far West|               0|\n",
      "|Columbus, Ohio, U...|  Situated in a his...|             Near East|               1|\n",
      "|Columbus, Ohio, U...|  The Old North nei...|  Near North/Univer...|               2|\n",
      "|Columbus, Ohio, U...|  The neighborhood ...|          North Linden|               3|\n",
      "|Columbus, Ohio, U...|  You are in the Cr...|        West Olentangy|               4|\n",
      "+--------------------+----------------------+----------------------+----------------+\n",
      "only showing top 5 rows\n",
      "\n"
     ]
    }
   ],
   "source": [
    "neighbourhood_df = listing_df.select(\n",
    "    \"neighbourhood\",\n",
    "    \"neighbourhood_overview\",\n",
    "    \"neighbourhood_cleansed\"\n",
    ")\n",
    "\n",
    "neighbourhood_df = neighbourhood_df.dropDuplicates()\n",
    "\n",
    "neighbourhood_df = neighbourhood_df.withColumn(\"neighbourhood_id\", monotonically_increasing_id())\n",
    "\n",
    "print(\"count: \" + str(neighbourhood_df.count()))\n",
    "\n",
    "neighbourhood_df.printSchema()\n",
    "neighbourhood_df.show(5)"
   ]
  },
  {
   "cell_type": "markdown",
   "metadata": {},
   "source": [
    "## MinMax Insights Dimension Table"
   ]
  },
  {
   "cell_type": "code",
   "execution_count": 71,
   "metadata": {},
   "outputs": [
    {
     "name": "stdout",
     "output_type": "stream",
     "text": [
      "count: 795\n",
      "root\n",
      " |-- maximum_nights: integer (nullable = true)\n",
      " |-- minimum_nights: integer (nullable = true)\n",
      " |-- minimum_minimum_nights: integer (nullable = true)\n",
      " |-- maximum_minimum_nights: integer (nullable = true)\n",
      " |-- minimum_maximum_nights: integer (nullable = true)\n",
      " |-- maximum_maximum_nights: integer (nullable = true)\n",
      " |-- minimum_nights_avg_ntm: double (nullable = true)\n",
      " |-- maximum_nights_avg_ntm: double (nullable = true)\n",
      " |-- minmax_insights_id: long (nullable = false)\n",
      "\n",
      "+--------------+--------------+----------------------+----------------------+----------------------+----------------------+----------------------+----------------------+------------------+\n",
      "|maximum_nights|minimum_nights|minimum_minimum_nights|maximum_minimum_nights|minimum_maximum_nights|maximum_maximum_nights|minimum_nights_avg_ntm|maximum_nights_avg_ntm|minmax_insights_id|\n",
      "+--------------+--------------+----------------------+----------------------+----------------------+----------------------+----------------------+----------------------+------------------+\n",
      "|120           |1             |1                     |1                     |120                   |120                   |1.0                   |120.0                 |0                 |\n",
      "|28            |1             |2                     |3                     |28                    |28                    |2.1                   |28.0                  |1                 |\n",
      "|120           |30            |30                    |30                    |120                   |120                   |30.0                  |120.0                 |2                 |\n",
      "|1125          |3             |2                     |4                     |1125                  |1125                  |3.0                   |1125.0                |3                 |\n",
      "|365           |31            |31                    |31                    |365                   |365                   |31.0                  |365.0                 |4                 |\n",
      "+--------------+--------------+----------------------+----------------------+----------------------+----------------------+----------------------+----------------------+------------------+\n",
      "only showing top 5 rows\n",
      "\n"
     ]
    }
   ],
   "source": [
    "minmax_insights_df = listing_df.select(\n",
    "    \"maximum_nights\",\n",
    "    \"minimum_nights\",\n",
    "    \"minimum_minimum_nights\",\n",
    "    \"maximum_minimum_nights\",\n",
    "    \"minimum_maximum_nights\",\n",
    "    \"maximum_maximum_nights\",\n",
    "    \"minimum_nights_avg_ntm\",\n",
    "    \"maximum_nights_avg_ntm\"\n",
    ")\n",
    "\n",
    "minmax_insights_df = minmax_insights_df.dropDuplicates()\n",
    "\n",
    "minmax_insights_df = minmax_insights_df.withColumn(\"minmax_insights_id\", monotonically_increasing_id())\n",
    "\n",
    "print(\"count: \" + str(minmax_insights_df.count()))\n",
    "\n",
    "minmax_insights_df.printSchema()\n",
    "minmax_insights_df.show(5, truncate=False)"
   ]
  },
  {
   "cell_type": "markdown",
   "metadata": {},
   "source": [
    "## Availibility Dimension Table"
   ]
  },
  {
   "cell_type": "code",
   "execution_count": 72,
   "metadata": {},
   "outputs": [
    {
     "name": "stdout",
     "output_type": "stream",
     "text": [
      "count: 1336\n",
      "root\n",
      " |-- has_availability: integer (nullable = true)\n",
      " |-- availability_30: integer (nullable = true)\n",
      " |-- availability_60: integer (nullable = true)\n",
      " |-- availability_90: integer (nullable = true)\n",
      " |-- availability_365: integer (nullable = true)\n",
      " |-- avail_id: long (nullable = false)\n",
      "\n",
      "+----------------+---------------+---------------+---------------+----------------+--------+\n",
      "|has_availability|availability_30|availability_60|availability_90|availability_365|avail_id|\n",
      "+----------------+---------------+---------------+---------------+----------------+--------+\n",
      "|1               |1              |31             |61             |151             |0       |\n",
      "|1               |0              |0              |0              |18              |1       |\n",
      "|1               |22             |52             |82             |357             |2       |\n",
      "|1               |23             |49             |73             |345             |3       |\n",
      "|1               |0              |0              |24             |296             |4       |\n",
      "+----------------+---------------+---------------+---------------+----------------+--------+\n",
      "only showing top 5 rows\n",
      "\n"
     ]
    }
   ],
   "source": [
    "availibility_df = listing_df.select(\n",
    "    \"has_availability\",\n",
    "    \"availability_30\",\n",
    "    \"availability_60\",\n",
    "    \"availability_90\",\n",
    "    \"availability_365\"\n",
    ")\n",
    "\n",
    "availibility_df = availibility_df.dropDuplicates()\n",
    "\n",
    "availibility_df = availibility_df.withColumn(\"avail_id\", monotonically_increasing_id())\n",
    "\n",
    "print(\"count: \" + str(availibility_df.count()))\n",
    "\n",
    "availibility_df.printSchema()\n",
    "availibility_df.show(5, truncate=False)"
   ]
  },
  {
   "cell_type": "markdown",
   "metadata": {},
   "source": [
    "# Joining Tables Together"
   ]
  },
  {
   "cell_type": "markdown",
   "metadata": {},
   "source": [
    "### Host Tables"
   ]
  },
  {
   "cell_type": "code",
   "execution_count": 73,
   "metadata": {},
   "outputs": [],
   "source": [
    "hqad_host_conditions = [\n",
    "    \"host_response_time\",\n",
    "    \"host_response_rate\",\n",
    "    \"host_acceptance_rate\",\n",
    "    \"host_is_superhost\",\n",
    "    \"host_listings_count\",\n",
    "    \"host_total_listings_count\",\n",
    "    \"host_verifications\",\n",
    "    \"host_has_profile_pic\",\n",
    "    \"host_identity_verified\"\n",
    "]\n",
    "\n",
    "hld_host_conditions = [\n",
    "    \"calculated_host_listings_count\",\n",
    "    \"calculated_host_listings_count_entire_homes\",\n",
    "    \"calculated_host_listings_count_private_rooms\",\n",
    "    \"calculated_host_listings_count_shared_rooms\"\n",
    "]\n",
    "\n",
    "\n",
    "host_df = host_df.join(hqad_df, on=hqad_host_conditions, how=\"left\")\\\n",
    "                 .join(hld_df, on=hld_host_conditions, how=\"left\")\\\n",
    "                 .select(\n",
    "    \"host_id\",\n",
    "    \"host_url\",\n",
    "    \"host_name\",\n",
    "    \"host_since\",\n",
    "    \"host_location\",\n",
    "    \"host_about\",\n",
    "    \"host_thumbnail_url\",\n",
    "    \"host_picture_url\",\n",
    "    \"host_neighbourhood\",\n",
    "    \"hld_id\",\n",
    "    \"hqad_id\"\n",
    ")"
   ]
  },
  {
   "cell_type": "code",
   "execution_count": 74,
   "metadata": {},
   "outputs": [
    {
     "name": "stdout",
     "output_type": "stream",
     "text": [
      "count: 977\n"
     ]
    },
    {
     "name": "stderr",
     "output_type": "stream",
     "text": [
      "                                                                                \r"
     ]
    },
    {
     "name": "stdout",
     "output_type": "stream",
     "text": [
      "+---------+--------------------+---------+----------+-------------+--------------------+--------------------+--------------------+--------------------+------+-------+\n",
      "|  host_id|            host_url|host_name|host_since|host_location|          host_about|  host_thumbnail_url|    host_picture_url|  host_neighbourhood|hld_id|hqad_id|\n",
      "+---------+--------------------+---------+----------+-------------+--------------------+--------------------+--------------------+--------------------+------+-------+\n",
      "|182105923|https://www.airbn...|    Holly|2018-04-02| Columbus, OH|Food, nature, art...|https://a0.muscac...|https://a0.muscac...|      Dennison Place|     2|    409|\n",
      "| 56664331|https://www.airbn...|   Wesley|2016-01-29| Columbus, OH|Young traveler lo...|https://a0.muscac...|https://a0.muscac...|      Near East Side|     7|    467|\n",
      "|  8325110|https://www.airbn...|     Tara|2013-08-22| Columbus, OH|Hello, worldwide ...|https://a0.muscac...|https://a0.muscac...|           Northland|     2|    471|\n",
      "|117626724|https://www.airbn...|    Jared|2017-02-22| Columbus, OH|Welcome to my Air...|https://a0.muscac...|https://a0.muscac...|King-Lincoln Bron...|    29|    119|\n",
      "|481684972|https://www.airbn...|     Jeni|2022-09-30| Columbus, OH|Hi, I'm Jeni, you...|https://a0.muscac...|https://a0.muscac...|      South Columbus|     2|    266|\n",
      "+---------+--------------------+---------+----------+-------------+--------------------+--------------------+--------------------+--------------------+------+-------+\n",
      "only showing top 5 rows\n",
      "\n"
     ]
    }
   ],
   "source": [
    "print(\"count: \" + str(host_df.count()))\n",
    "\n",
    "host_df.show(5)"
   ]
  },
  {
   "cell_type": "markdown",
   "metadata": {},
   "source": [
    "## Final Join"
   ]
  },
  {
   "cell_type": "code",
   "execution_count": 75,
   "metadata": {},
   "outputs": [
    {
     "name": "stderr",
     "output_type": "stream",
     "text": [
      "[Stage 302:>                                                        (0 + 1) / 1]\r"
     ]
    },
    {
     "name": "stdout",
     "output_type": "stream",
     "text": [
      "+------+-----------+-------+----------------+-----------+------------------+--------+-----------+--------------------+--------------------+--------------------+---------+----------------+\n",
      "|    id|scraping_id|host_id|neighbourhood_id|property_id|minmax_insights_id|avail_id|rev_diag_id|         listing_url|                name|         picture_url|  license|instant_bookable|\n",
      "+------+-----------+-------+----------------+-----------+------------------+--------+-----------+--------------------+--------------------+--------------------+---------+----------------+\n",
      "| 90676|          1| 483306|              25|        353|               750|    1149|        238|https://www.airbn...|Home in Columbus ...|https://a0.muscac...|2022-2475|               0|\n",
      "|543140|          2|2350409|             800|       1234|               657|     185|        882|https://www.airbn...|Home in Columbus ...|https://a0.muscac...|2019-1344|               0|\n",
      "+------+-----------+-------+----------------+-----------+------------------+--------+-----------+--------------------+--------------------+--------------------+---------+----------------+\n",
      "only showing top 2 rows\n",
      "\n"
     ]
    },
    {
     "name": "stderr",
     "output_type": "stream",
     "text": [
      "                                                                                \r"
     ]
    }
   ],
   "source": [
    "property_join_conditions = [\n",
    "    \"latitude\",\n",
    "    \"longitude\",\n",
    "    \"price\",\n",
    "    \"beds\",\n",
    "    \"bathroom_desc\",\n",
    "    \"accommodates\"\n",
    "]\n",
    "\n",
    "reviews_join_conditions = [\n",
    "    \"number_of_reviews\",\n",
    "    \"number_of_reviews_ltm\",\n",
    "    \"number_of_reviews_l30d\",\n",
    "    \"first_review\",\n",
    "    \"last_review\",\n",
    "    \"review_scores_rating\",\n",
    "    \"review_scores_accuracy\",\n",
    "    \"review_scores_cleanliness\",\n",
    "    \"review_scores_checkin\",\n",
    "    \"review_scores_communication\",\n",
    "    \"review_scores_location\",\n",
    "    \"review_scores_value\",\n",
    "    \"reviews_per_month\"\n",
    "]\n",
    "\n",
    "minmax_join_conditions = [\n",
    "    \"minimum_nights\",\n",
    "    \"maximum_nights\",\n",
    "    \"minimum_minimum_nights\",\n",
    "    \"maximum_minimum_nights\",\n",
    "    \"minimum_maximum_nights\",\n",
    "    \"maximum_maximum_nights\",\n",
    "    \"minimum_nights_avg_ntm\",\n",
    "    \"maximum_nights_avg_ntm\"\n",
    "]\n",
    "\n",
    "\n",
    "\n",
    "# final_df =\n",
    "listing_df.join(host_df, on=\"host_id\", how=\"left\")\\\n",
    "          .join(property_df, on=property_join_conditions, how=\"left\")\\\n",
    "          .join(reviews_diagnostics_df, on=reviews_join_conditions, how=\"left\")\\\n",
    "          .join(scrapings_df, on=[\"last_scraped\", \"source\"], how=\"left\")\\\n",
    "          .join(neighbourhood_df, on=[\"neighbourhood_overview\", \"neighbourhood_cleansed\"], how=\"left\")\\\n",
    "          .join(minmax_insights_df, on=minmax_join_conditions, how=\"left\")\\\n",
    "          .join(availibility_df, on=[\"has_availability\", \"availability_30\", \"availability_60\", \"availability_90\", \"availability_365\"], how=\"left\")\\\n",
    "          .select(\n",
    "              \"id\",\n",
    "              \"scraping_id\",\n",
    "              \"host_id\",\n",
    "              \"neighbourhood_id\",\n",
    "              \"property_id\",\n",
    "              \"minmax_insights_id\",\n",
    "              \"avail_id\",\n",
    "              \"rev_diag_id\",\n",
    "              \"listing_url\",\n",
    "              \"name\",\n",
    "              \"picture_url\",\n",
    "              \"license\",\n",
    "              \"instant_bookable\"\n",
    "          ).show(2)"
   ]
  }
 ],
 "metadata": {
  "kernelspec": {
   "display_name": "airbnb_venv",
   "language": "python",
   "name": "python3"
  },
  "language_info": {
   "codemirror_mode": {
    "name": "ipython",
    "version": 3
   },
   "file_extension": ".py",
   "mimetype": "text/x-python",
   "name": "python",
   "nbconvert_exporter": "python",
   "pygments_lexer": "ipython3",
   "version": "3.10.11"
  }
 },
 "nbformat": 4,
 "nbformat_minor": 2
}
