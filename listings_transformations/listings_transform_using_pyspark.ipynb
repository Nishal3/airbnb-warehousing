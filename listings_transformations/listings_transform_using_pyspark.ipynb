{
 "cells": [
  {
   "cell_type": "markdown",
   "metadata": {},
   "source": [
    "# Transforming Data Using PySpark for AWS Glue"
   ]
  },
  {
   "cell_type": "markdown",
   "metadata": {},
   "source": [
    "## First Import SparkSession"
   ]
  },
  {
   "cell_type": "code",
   "execution_count": 1,
   "metadata": {},
   "outputs": [],
   "source": [
    "from pyspark.sql import SparkSession"
   ]
  },
  {
   "cell_type": "markdown",
   "metadata": {},
   "source": [
    "## Then Create a Spark Session"
   ]
  },
  {
   "cell_type": "code",
   "execution_count": 7,
   "metadata": {},
   "outputs": [],
   "source": [
    "spark = SparkSession.builder.appName(\"Airbnb_Warehousing\").getOrCreate()"
   ]
  },
  {
   "cell_type": "markdown",
   "metadata": {},
   "source": [
    "## Read the Listings CSV File"
   ]
  },
  {
   "cell_type": "code",
   "execution_count": 3,
   "metadata": {},
   "outputs": [
    {
     "name": "stderr",
     "output_type": "stream",
     "text": [
      "                                                                                \r"
     ]
    }
   ],
   "source": [
    "listing_df = spark.read\\\n",
    "    .format(\"csv\")\\\n",
    "    .option(\"multiline\", \"true\")\\\n",
    "    .option(\"quote\", \"\\\"\")\\\n",
    "    .option(\"header\", \"true\")\\\n",
    "    .option(\"escape\", \"\\\\\")\\\n",
    "    .option(\"escape\", \"\\\"\")\\\n",
    "    .option(\"sep\", \",\")\\\n",
    "    .option(\"inferSchema\", \"true\")\\\n",
    "    .load(\"../data/listings.csv\")"
   ]
  },
  {
   "cell_type": "code",
   "execution_count": 4,
   "metadata": {},
   "outputs": [
    {
     "name": "stdout",
     "output_type": "stream",
     "text": [
      "root\n",
      " |-- id: long (nullable = true)\n",
      " |-- listing_url: string (nullable = true)\n",
      " |-- scrape_id: long (nullable = true)\n",
      " |-- last_scraped: date (nullable = true)\n",
      " |-- source: string (nullable = true)\n",
      " |-- name: string (nullable = true)\n",
      " |-- description: string (nullable = true)\n",
      " |-- neighborhood_overview: string (nullable = true)\n",
      " |-- picture_url: string (nullable = true)\n",
      " |-- host_id: integer (nullable = true)\n",
      " |-- host_url: string (nullable = true)\n",
      " |-- host_name: string (nullable = true)\n",
      " |-- host_since: date (nullable = true)\n",
      " |-- host_location: string (nullable = true)\n",
      " |-- host_about: string (nullable = true)\n",
      " |-- host_response_time: string (nullable = true)\n",
      " |-- host_response_rate: string (nullable = true)\n",
      " |-- host_acceptance_rate: string (nullable = true)\n",
      " |-- host_is_superhost: string (nullable = true)\n",
      " |-- host_thumbnail_url: string (nullable = true)\n",
      " |-- host_picture_url: string (nullable = true)\n",
      " |-- host_neighbourhood: string (nullable = true)\n",
      " |-- host_listings_count: integer (nullable = true)\n",
      " |-- host_total_listings_count: integer (nullable = true)\n",
      " |-- host_verifications: string (nullable = true)\n",
      " |-- host_has_profile_pic: string (nullable = true)\n",
      " |-- host_identity_verified: string (nullable = true)\n",
      " |-- neighbourhood: string (nullable = true)\n",
      " |-- neighbourhood_cleansed: string (nullable = true)\n",
      " |-- neighbourhood_group_cleansed: string (nullable = true)\n",
      " |-- latitude: double (nullable = true)\n",
      " |-- longitude: double (nullable = true)\n",
      " |-- property_type: string (nullable = true)\n",
      " |-- room_type: string (nullable = true)\n",
      " |-- accommodates: integer (nullable = true)\n",
      " |-- bathrooms: string (nullable = true)\n",
      " |-- bathrooms_text: string (nullable = true)\n",
      " |-- bedrooms: string (nullable = true)\n",
      " |-- beds: integer (nullable = true)\n",
      " |-- amenities: string (nullable = true)\n",
      " |-- price: string (nullable = true)\n",
      " |-- minimum_nights: integer (nullable = true)\n",
      " |-- maximum_nights: integer (nullable = true)\n",
      " |-- minimum_minimum_nights: integer (nullable = true)\n",
      " |-- maximum_minimum_nights: integer (nullable = true)\n",
      " |-- minimum_maximum_nights: integer (nullable = true)\n",
      " |-- maximum_maximum_nights: integer (nullable = true)\n",
      " |-- minimum_nights_avg_ntm: double (nullable = true)\n",
      " |-- maximum_nights_avg_ntm: double (nullable = true)\n",
      " |-- calendar_updated: string (nullable = true)\n",
      " |-- has_availability: string (nullable = true)\n",
      " |-- availability_30: integer (nullable = true)\n",
      " |-- availability_60: integer (nullable = true)\n",
      " |-- availability_90: integer (nullable = true)\n",
      " |-- availability_365: integer (nullable = true)\n",
      " |-- calendar_last_scraped: date (nullable = true)\n",
      " |-- number_of_reviews: integer (nullable = true)\n",
      " |-- number_of_reviews_ltm: integer (nullable = true)\n",
      " |-- number_of_reviews_l30d: integer (nullable = true)\n",
      " |-- first_review: date (nullable = true)\n",
      " |-- last_review: date (nullable = true)\n",
      " |-- review_scores_rating: double (nullable = true)\n",
      " |-- review_scores_accuracy: double (nullable = true)\n",
      " |-- review_scores_cleanliness: double (nullable = true)\n",
      " |-- review_scores_checkin: double (nullable = true)\n",
      " |-- review_scores_communication: double (nullable = true)\n",
      " |-- review_scores_location: double (nullable = true)\n",
      " |-- review_scores_value: double (nullable = true)\n",
      " |-- license: string (nullable = true)\n",
      " |-- instant_bookable: string (nullable = true)\n",
      " |-- calculated_host_listings_count: integer (nullable = true)\n",
      " |-- calculated_host_listings_count_entire_homes: integer (nullable = true)\n",
      " |-- calculated_host_listings_count_private_rooms: integer (nullable = true)\n",
      " |-- calculated_host_listings_count_shared_rooms: integer (nullable = true)\n",
      " |-- reviews_per_month: double (nullable = true)\n",
      "\n"
     ]
    }
   ],
   "source": [
    "listing_df.printSchema()"
   ]
  },
  {
   "cell_type": "markdown",
   "metadata": {},
   "source": [
    "### Looks Like the DataFrame was Correctly Read"
   ]
  },
  {
   "cell_type": "code",
   "execution_count": 5,
   "metadata": {},
   "outputs": [
    {
     "name": "stderr",
     "output_type": "stream",
     "text": [
      "24/06/25 07:42:36 WARN SparkStringUtils: Truncated the string representation of a plan since it was too large. This behavior can be adjusted by setting 'spark.sql.debug.maxToStringFields'.\n"
     ]
    },
    {
     "name": "stdout",
     "output_type": "stream",
     "text": [
      "+------+--------------------+--------------+------------+-----------+--------------------+-----------+---------------------+--------------------+-------+--------------------+-------------+----------+-------------+--------------------+------------------+------------------+--------------------+-----------------+--------------------+--------------------+------------------+-------------------+-------------------------+--------------------+--------------------+----------------------+--------------------+----------------------+----------------------------+--------+---------+--------------------+---------------+------------+---------+--------------+--------+----+---------+-------+--------------+--------------+----------------------+----------------------+----------------------+----------------------+----------------------+----------------------+----------------+----------------+---------------+---------------+---------------+----------------+---------------------+-----------------+---------------------+----------------------+------------+-----------+--------------------+----------------------+-------------------------+---------------------+---------------------------+----------------------+-------------------+---------+----------------+------------------------------+-------------------------------------------+--------------------------------------------+-------------------------------------------+-----------------+\n",
      "|    id|         listing_url|     scrape_id|last_scraped|     source|                name|description|neighborhood_overview|         picture_url|host_id|            host_url|    host_name|host_since|host_location|          host_about|host_response_time|host_response_rate|host_acceptance_rate|host_is_superhost|  host_thumbnail_url|    host_picture_url|host_neighbourhood|host_listings_count|host_total_listings_count|  host_verifications|host_has_profile_pic|host_identity_verified|       neighbourhood|neighbourhood_cleansed|neighbourhood_group_cleansed|latitude|longitude|       property_type|      room_type|accommodates|bathrooms|bathrooms_text|bedrooms|beds|amenities|  price|minimum_nights|maximum_nights|minimum_minimum_nights|maximum_minimum_nights|minimum_maximum_nights|maximum_maximum_nights|minimum_nights_avg_ntm|maximum_nights_avg_ntm|calendar_updated|has_availability|availability_30|availability_60|availability_90|availability_365|calendar_last_scraped|number_of_reviews|number_of_reviews_ltm|number_of_reviews_l30d|first_review|last_review|review_scores_rating|review_scores_accuracy|review_scores_cleanliness|review_scores_checkin|review_scores_communication|review_scores_location|review_scores_value|  license|instant_bookable|calculated_host_listings_count|calculated_host_listings_count_entire_homes|calculated_host_listings_count_private_rooms|calculated_host_listings_count_shared_rooms|reviews_per_month|\n",
      "+------+--------------------+--------------+------------+-----------+--------------------+-----------+---------------------+--------------------+-------+--------------------+-------------+----------+-------------+--------------------+------------------+------------------+--------------------+-----------------+--------------------+--------------------+------------------+-------------------+-------------------------+--------------------+--------------------+----------------------+--------------------+----------------------+----------------------------+--------+---------+--------------------+---------------+------------+---------+--------------+--------+----+---------+-------+--------------+--------------+----------------------+----------------------+----------------------+----------------------+----------------------+----------------------+----------------+----------------+---------------+---------------+---------------+----------------+---------------------+-----------------+---------------------+----------------------+------------+-----------+--------------------+----------------------+-------------------------+---------------------+---------------------------+----------------------+-------------------+---------+----------------+------------------------------+-------------------------------------------+--------------------------------------------+-------------------------------------------+-----------------+\n",
      "| 90676|https://www.airbn...|20231225202549|  2023-12-26|city scrape|Home in Columbus ...|       NULL| The Short North I...|https://a0.muscac...| 483306|https://www.airbn...|Audra & Lacey|2011-04-04| Columbus, OH|Active, young pro...|    within an hour|              100%|                100%|                t|https://a0.muscac...|https://a0.muscac...|              NULL|                  3|                        3|['email', 'phone'...|                   t|                     t|Columbus, Ohio, U...|  Near North/Univer...|                        NULL|39.98366|-83.00252|         Entire home|Entire home/apt|           6|     NULL|       2 baths|    NULL|   3|       []|$132.00|             1|           365|                     1|                     1|                   365|                   365|                   1.0|                 365.0|            NULL|               t|              0|              0|              0|               0|           2023-12-26|              726|                  101|                     9|  2011-10-11| 2023-12-17|                4.82|                  4.85|                     4.82|                 4.93|                       4.88|                  4.93|               4.77|2022-2475|               f|                             3|                                          3|                                           0|                                          0|             4.88|\n",
      "|543140|https://www.airbn...|20231225202549|  2023-12-25|city scrape|Home in Columbus ...|       NULL| We are close to a...|https://a0.muscac...|2350409|https://www.airbn...|       Edward|2012-05-11| Columbus, OH|Hello, hello.\\n\\n...|    within an hour|               90%|                100%|                t|https://a0.muscac...|https://a0.muscac...|              NULL|                  3|                        4|['email', 'phone'...|                   t|                     f|Columbus, Ohio, U...|  Near North/Univer...|                        NULL|40.01114|-83.01005|Private room in home|   Private room|           1|     NULL| 1 shared bath|    NULL|   1|       []| $29.00|             7|          1125|                     7|                     7|                  1125|                  1125|                   7.0|                1125.0|            NULL|               t|             16|             25|             52|             327|           2023-12-25|              133|                   10|                     1|  2012-07-31| 2023-12-09|                 4.7|                  4.75|                     4.33|                 4.93|                       4.89|                  4.77|               4.79|2019-1344|               f|                             3|                                          0|                                           3|                                          0|             0.96|\n",
      "+------+--------------------+--------------+------------+-----------+--------------------+-----------+---------------------+--------------------+-------+--------------------+-------------+----------+-------------+--------------------+------------------+------------------+--------------------+-----------------+--------------------+--------------------+------------------+-------------------+-------------------------+--------------------+--------------------+----------------------+--------------------+----------------------+----------------------------+--------+---------+--------------------+---------------+------------+---------+--------------+--------+----+---------+-------+--------------+--------------+----------------------+----------------------+----------------------+----------------------+----------------------+----------------------+----------------+----------------+---------------+---------------+---------------+----------------+---------------------+-----------------+---------------------+----------------------+------------+-----------+--------------------+----------------------+-------------------------+---------------------+---------------------------+----------------------+-------------------+---------+----------------+------------------------------+-------------------------------------------+--------------------------------------------+-------------------------------------------+-----------------+\n",
      "only showing top 2 rows\n",
      "\n"
     ]
    }
   ],
   "source": [
    "listing_df.show(2)"
   ]
  },
  {
   "cell_type": "markdown",
   "metadata": {},
   "source": [
    "# Separating Tables"
   ]
  },
  {
   "cell_type": "markdown",
   "metadata": {},
   "source": [
    "## Dropping Redundant/Empty Columns"
   ]
  },
  {
   "cell_type": "code",
   "execution_count": 8,
   "metadata": {},
   "outputs": [],
   "source": [
    "columns_to_remove = [\n",
    "                        \"calendar_last_scraped\",\n",
    "                        \"description\",\n",
    "                        \"calendar_updated\", \n",
    "                        \"bedrooms\", \n",
    "                        \"bathrooms\", \n",
    "                        \"neighbourhood_group_cleansed\", \n",
    "                        \"amenities\"\n",
    "                    ]\n",
    "listing_df = listing_df.drop(*columns_to_remove)"
   ]
  },
  {
   "cell_type": "markdown",
   "metadata": {},
   "source": [
    "## Correcting Misspell"
   ]
  },
  {
   "cell_type": "code",
   "execution_count": 9,
   "metadata": {},
   "outputs": [],
   "source": [
    "listing_df = listing_df.withColumnRenamed(\"neighborhood_overview\", \"neighbourhood_overview\")"
   ]
  },
  {
   "cell_type": "code",
   "execution_count": 10,
   "metadata": {},
   "outputs": [
    {
     "name": "stdout",
     "output_type": "stream",
     "text": [
      "root\n",
      " |-- id: long (nullable = true)\n",
      " |-- listing_url: string (nullable = true)\n",
      " |-- scrape_id: long (nullable = true)\n",
      " |-- last_scraped: date (nullable = true)\n",
      " |-- source: string (nullable = true)\n",
      " |-- name: string (nullable = true)\n",
      " |-- neighbourhood_overview: string (nullable = true)\n",
      " |-- picture_url: string (nullable = true)\n",
      " |-- host_id: integer (nullable = true)\n",
      " |-- host_url: string (nullable = true)\n",
      " |-- host_name: string (nullable = true)\n",
      " |-- host_since: date (nullable = true)\n",
      " |-- host_location: string (nullable = true)\n",
      " |-- host_about: string (nullable = true)\n",
      " |-- host_response_time: string (nullable = true)\n",
      " |-- host_response_rate: string (nullable = true)\n",
      " |-- host_acceptance_rate: string (nullable = true)\n",
      " |-- host_is_superhost: string (nullable = true)\n",
      " |-- host_thumbnail_url: string (nullable = true)\n",
      " |-- host_picture_url: string (nullable = true)\n",
      " |-- host_neighbourhood: string (nullable = true)\n",
      " |-- host_listings_count: integer (nullable = true)\n",
      " |-- host_total_listings_count: integer (nullable = true)\n",
      " |-- host_verifications: string (nullable = true)\n",
      " |-- host_has_profile_pic: string (nullable = true)\n",
      " |-- host_identity_verified: string (nullable = true)\n",
      " |-- neighbourhood: string (nullable = true)\n",
      " |-- neighbourhood_cleansed: string (nullable = true)\n",
      " |-- latitude: double (nullable = true)\n",
      " |-- longitude: double (nullable = true)\n",
      " |-- property_type: string (nullable = true)\n",
      " |-- room_type: string (nullable = true)\n",
      " |-- accommodates: integer (nullable = true)\n",
      " |-- bathrooms_text: string (nullable = true)\n",
      " |-- beds: integer (nullable = true)\n",
      " |-- price: string (nullable = true)\n",
      " |-- minimum_nights: integer (nullable = true)\n",
      " |-- maximum_nights: integer (nullable = true)\n",
      " |-- minimum_minimum_nights: integer (nullable = true)\n",
      " |-- maximum_minimum_nights: integer (nullable = true)\n",
      " |-- minimum_maximum_nights: integer (nullable = true)\n",
      " |-- maximum_maximum_nights: integer (nullable = true)\n",
      " |-- minimum_nights_avg_ntm: double (nullable = true)\n",
      " |-- maximum_nights_avg_ntm: double (nullable = true)\n",
      " |-- has_availability: string (nullable = true)\n",
      " |-- availability_30: integer (nullable = true)\n",
      " |-- availability_60: integer (nullable = true)\n",
      " |-- availability_90: integer (nullable = true)\n",
      " |-- availability_365: integer (nullable = true)\n",
      " |-- number_of_reviews: integer (nullable = true)\n",
      " |-- number_of_reviews_ltm: integer (nullable = true)\n",
      " |-- number_of_reviews_l30d: integer (nullable = true)\n",
      " |-- first_review: date (nullable = true)\n",
      " |-- last_review: date (nullable = true)\n",
      " |-- review_scores_rating: double (nullable = true)\n",
      " |-- review_scores_accuracy: double (nullable = true)\n",
      " |-- review_scores_cleanliness: double (nullable = true)\n",
      " |-- review_scores_checkin: double (nullable = true)\n",
      " |-- review_scores_communication: double (nullable = true)\n",
      " |-- review_scores_location: double (nullable = true)\n",
      " |-- review_scores_value: double (nullable = true)\n",
      " |-- license: string (nullable = true)\n",
      " |-- instant_bookable: string (nullable = true)\n",
      " |-- calculated_host_listings_count: integer (nullable = true)\n",
      " |-- calculated_host_listings_count_entire_homes: integer (nullable = true)\n",
      " |-- calculated_host_listings_count_private_rooms: integer (nullable = true)\n",
      " |-- calculated_host_listings_count_shared_rooms: integer (nullable = true)\n",
      " |-- reviews_per_month: double (nullable = true)\n",
      "\n"
     ]
    }
   ],
   "source": [
    "# Looks like the rows have been dropped\n",
    "listing_df.printSchema()"
   ]
  },
  {
   "cell_type": "markdown",
   "metadata": {},
   "source": [
    "## Creating Host Tables"
   ]
  },
  {
   "cell_type": "markdown",
   "metadata": {},
   "source": [
    "### Host Table"
   ]
  },
  {
   "cell_type": "code",
   "execution_count": 11,
   "metadata": {},
   "outputs": [
    {
     "name": "stderr",
     "output_type": "stream",
     "text": [
      "                                                                                \r"
     ]
    },
    {
     "name": "stdout",
     "output_type": "stream",
     "text": [
      "count: 977\n",
      "+---------+--------------------+---------+----------+-------------+--------------------+--------------------+--------------------+------------------+------------------+------------------+--------------------+-----------------+-------------------+-------------------------+------------------+--------------------+----------------------+------------------------------+-------------------------------------------+--------------------------------------------+-------------------------------------------+\n",
      "|  host_id|            host_url|host_name|host_since|host_location|          host_about|  host_thumbnail_url|    host_picture_url|host_neighbourhood|host_response_time|host_response_rate|host_acceptance_rate|host_is_superhost|host_listings_count|host_total_listings_count|host_verifications|host_has_profile_pic|host_identity_verified|calculated_host_listings_count|calculated_host_listings_count_entire_homes|calculated_host_listings_count_private_rooms|calculated_host_listings_count_shared_rooms|\n",
      "+---------+--------------------+---------+----------+-------------+--------------------+--------------------+--------------------+------------------+------------------+------------------+--------------------+-----------------+-------------------+-------------------------+------------------+--------------------+----------------------+------------------------------+-------------------------------------------+--------------------------------------------+-------------------------------------------+\n",
      "|121719854|https://www.airbn...|   Evolve|2017-03-20|United States|Hi! We’re Evolve,...|https://a0.muscac...|https://a0.muscac...|          Picadome|    within an hour|               87%|                 99%|                f|               1680|                     2773|['email', 'phone']|                   t|                     t|                            22|                                         22|                                           0|                                          0|\n",
      "| 20418203|https://www.airbn...| Shreesha|2014-08-22|   Boston, MA|Hi\\nI am an AI le...|https://a0.muscac...|https://a0.muscac...|        The Groves|    within an hour|              100%|                100%|                t|                  2|                        3|['email', 'phone']|                   t|                     f|                             1|                                          1|                                           0|                                          0|\n",
      "+---------+--------------------+---------+----------+-------------+--------------------+--------------------+--------------------+------------------+------------------+------------------+--------------------+-----------------+-------------------+-------------------------+------------------+--------------------+----------------------+------------------------------+-------------------------------------------+--------------------------------------------+-------------------------------------------+\n",
      "only showing top 2 rows\n",
      "\n"
     ]
    }
   ],
   "source": [
    "host_df = listing_df.select(\n",
    "    \"host_id\",\n",
    "    \"host_url\",\n",
    "    \"host_name\",\n",
    "    \"host_since\",\n",
    "    \"host_location\",\n",
    "    \"host_about\",\n",
    "    \"host_thumbnail_url\",\n",
    "    \"host_picture_url\",\n",
    "    \"host_neighbourhood\",\n",
    "    \"host_response_time\",\n",
    "    \"host_response_rate\",\n",
    "    \"host_acceptance_rate\",\n",
    "    \"host_is_superhost\",\n",
    "    \"host_listings_count\",\n",
    "    \"host_total_listings_count\",\n",
    "    \"host_verifications\",\n",
    "    \"host_has_profile_pic\",\n",
    "    \"host_identity_verified\",\n",
    "    \"calculated_host_listings_count\",\n",
    "    \"calculated_host_listings_count_entire_homes\",\n",
    "    \"calculated_host_listings_count_private_rooms\",\n",
    "    \"calculated_host_listings_count_shared_rooms\"\n",
    ")\n",
    "\n",
    "host_df = host_df.dropDuplicates()\n",
    "\n",
    "print(\"count: \" + str(host_df.count()))\n",
    "\n",
    "host_df.show(2)"
   ]
  },
  {
   "cell_type": "markdown",
   "metadata": {},
   "source": [
    "### Host Dimension Tables"
   ]
  },
  {
   "cell_type": "code",
   "execution_count": 12,
   "metadata": {},
   "outputs": [
    {
     "name": "stderr",
     "output_type": "stream",
     "text": [
      "                                                                                \r"
     ]
    },
    {
     "name": "stdout",
     "output_type": "stream",
     "text": [
      "count: 609\n",
      "root\n",
      " |-- host_response_time: string (nullable = true)\n",
      " |-- host_response_rate: string (nullable = true)\n",
      " |-- host_acceptance_rate: string (nullable = true)\n",
      " |-- host_is_superhost: string (nullable = true)\n",
      " |-- host_listings_count: integer (nullable = true)\n",
      " |-- host_total_listings_count: integer (nullable = true)\n",
      " |-- host_verifications: string (nullable = true)\n",
      " |-- host_has_profile_pic: string (nullable = true)\n",
      " |-- host_identity_verified: string (nullable = true)\n",
      "\n",
      "+------------------+------------------+--------------------+-----------------+-------------------+-------------------------+------------------+--------------------+----------------------+\n",
      "|host_response_time|host_response_rate|host_acceptance_rate|host_is_superhost|host_listings_count|host_total_listings_count|host_verifications|host_has_profile_pic|host_identity_verified|\n",
      "+------------------+------------------+--------------------+-----------------+-------------------+-------------------------+------------------+--------------------+----------------------+\n",
      "|    within an hour|              100%|                 99%|                f|                  3|                        3|['email', 'phone']|                   f|                     f|\n",
      "|    within an hour|              100%|                 98%|                f|                  1|                        1|['email', 'phone']|                   t|                     f|\n",
      "+------------------+------------------+--------------------+-----------------+-------------------+-------------------------+------------------+--------------------+----------------------+\n",
      "only showing top 2 rows\n",
      "\n"
     ]
    }
   ],
   "source": [
    "# Host Qualifications and Diagnostics (HQAD)\n",
    "hqad_df = host_df.select(\n",
    "    \"host_response_time\",\n",
    "    \"host_response_rate\",\n",
    "    \"host_acceptance_rate\",\n",
    "    \"host_is_superhost\",\n",
    "    \"host_listings_count\",\n",
    "    \"host_total_listings_count\",\n",
    "    \"host_verifications\",\n",
    "    \"host_has_profile_pic\",\n",
    "    \"host_identity_verified\"\n",
    ")\n",
    "\n",
    "hqad_df = hqad_df.dropDuplicates()\n",
    "\n",
    "print(\"count: \" + str(hqad_df.count()))\n",
    "hqad_df.printSchema()\n",
    "hqad_df.show(2)"
   ]
  },
  {
   "cell_type": "code",
   "execution_count": 13,
   "metadata": {},
   "outputs": [
    {
     "name": "stdout",
     "output_type": "stream",
     "text": [
      "count: 69\n",
      "root\n",
      " |-- calculated_host_listings_count: integer (nullable = true)\n",
      " |-- calculated_host_listings_count_entire_homes: integer (nullable = true)\n",
      " |-- calculated_host_listings_count_private_rooms: integer (nullable = true)\n",
      " |-- calculated_host_listings_count_shared_rooms: integer (nullable = true)\n",
      "\n",
      "+------------------------------+-------------------------------------------+--------------------------------------------+-------------------------------------------+\n",
      "|calculated_host_listings_count|calculated_host_listings_count_entire_homes|calculated_host_listings_count_private_rooms|calculated_host_listings_count_shared_rooms|\n",
      "+------------------------------+-------------------------------------------+--------------------------------------------+-------------------------------------------+\n",
      "|                             2|                                          1|                                           1|                                          0|\n",
      "|                            23|                                         23|                                           0|                                          0|\n",
      "+------------------------------+-------------------------------------------+--------------------------------------------+-------------------------------------------+\n",
      "only showing top 2 rows\n",
      "\n"
     ]
    }
   ],
   "source": [
    "# The Host Listings Diagnostics (HLD)\n",
    "hld_df = host_df.select(\n",
    "    \"calculated_host_listings_count\",\n",
    "    \"calculated_host_listings_count_entire_homes\",\n",
    "    \"calculated_host_listings_count_private_rooms\",\n",
    "    \"calculated_host_listings_count_shared_rooms\"\n",
    ")\n",
    "\n",
    "hld_df = hld_df.dropDuplicates()\n",
    "\n",
    "print(\"count: \" + str(hld_df.count()))\n",
    "\n",
    "hld_df.printSchema()\n",
    "hld_df.show(2)"
   ]
  },
  {
   "cell_type": "markdown",
   "metadata": {},
   "source": [
    "## Transforming the HQAD and HLD Tables"
   ]
  },
  {
   "cell_type": "code",
   "execution_count": 16,
   "metadata": {},
   "outputs": [
    {
     "name": "stderr",
     "output_type": "stream",
     "text": [
      "24/06/25 07:45:32 WARN WindowExec: No Partition Defined for Window operation! Moving all data to a single partition, this can cause serious performance degradation.\n",
      "24/06/25 07:45:32 WARN WindowExec: No Partition Defined for Window operation! Moving all data to a single partition, this can cause serious performance degradation.\n",
      "24/06/25 07:45:32 WARN WindowExec: No Partition Defined for Window operation! Moving all data to a single partition, this can cause serious performance degradation.\n",
      "24/06/25 07:45:32 WARN WindowExec: No Partition Defined for Window operation! Moving all data to a single partition, this can cause serious performance degradation.\n",
      "24/06/25 07:45:32 WARN WindowExec: No Partition Defined for Window operation! Moving all data to a single partition, this can cause serious performance degradation.\n",
      "24/06/25 07:45:32 WARN WindowExec: No Partition Defined for Window operation! Moving all data to a single partition, this can cause serious performance degradation.\n",
      "24/06/25 07:45:32 WARN WindowExec: No Partition Defined for Window operation! Moving all data to a single partition, this can cause serious performance degradation.\n",
      "24/06/25 07:45:32 WARN WindowExec: No Partition Defined for Window operation! Moving all data to a single partition, this can cause serious performance degradation.\n",
      "24/06/25 07:45:32 WARN WindowExec: No Partition Defined for Window operation! Moving all data to a single partition, this can cause serious performance degradation.\n",
      "24/06/25 07:45:32 WARN WindowExec: No Partition Defined for Window operation! Moving all data to a single partition, this can cause serious performance degradation.\n",
      "24/06/25 07:45:32 WARN WindowExec: No Partition Defined for Window operation! Moving all data to a single partition, this can cause serious performance degradation.\n"
     ]
    },
    {
     "name": "stdout",
     "output_type": "stream",
     "text": [
      "+------+------+------+------------------------------+-------------------------------------------+--------------------------------------------+-------------------------------------------+\n",
      "|hld_id|hld_id|hld_id|calculated_host_listings_count|calculated_host_listings_count_entire_homes|calculated_host_listings_count_private_rooms|calculated_host_listings_count_shared_rooms|\n",
      "+------+------+------+------------------------------+-------------------------------------------+--------------------------------------------+-------------------------------------------+\n",
      "|     1|     1|     1|                             2|                                          1|                                           1|                                          0|\n",
      "|     2|     2|     2|                            23|                                         23|                                           0|                                          0|\n",
      "|     3|     3|     3|                             2|                                          2|                                           0|                                          0|\n",
      "|     4|     4|     4|                             6|                                          2|                                           4|                                          0|\n",
      "|     5|     5|     5|                            18|                                         18|                                           0|                                          0|\n",
      "+------+------+------+------------------------------+-------------------------------------------+--------------------------------------------+-------------------------------------------+\n",
      "only showing top 5 rows\n",
      "\n"
     ]
    }
   ],
   "source": [
    "# The Host Listings Diagnostics (HLD)\n",
    "hld_df.createOrReplaceTempView(\"hld_df_view\")\n",
    "hld_df = spark.sql(\"select row_number() over (order by (select 1)) as hld_id , * from hld_df_view\")\n",
    "\n",
    "hld_df.show(5)\n"
   ]
  },
  {
   "cell_type": "code",
   "execution_count": 48,
   "metadata": {},
   "outputs": [
    {
     "name": "stdout",
     "output_type": "stream",
     "text": [
      "+--------------------------------+-------------------------+\n",
      "|host_verifications              |count(host_verifications)|\n",
      "+--------------------------------+-------------------------+\n",
      "|['phone']                       |55                       |\n",
      "|['email', 'phone']              |451                      |\n",
      "|['email', 'phone', 'work_email']|98                       |\n",
      "|[]                              |1                        |\n",
      "|['phone', 'work_email']         |4                        |\n",
      "+--------------------------------+-------------------------+\n",
      "\n"
     ]
    }
   ],
   "source": [
    "hqad_df.createOrReplaceTempView(\"hqad_df_view\")"
   ]
  },
  {
   "cell_type": "code",
   "execution_count": 57,
   "metadata": {},
   "outputs": [
    {
     "name": "stderr",
     "output_type": "stream",
     "text": [
      "24/06/24 14:03:13 WARN WindowExec: No Partition Defined for Window operation! Moving all data to a single partition, this can cause serious performance degradation.\n",
      "24/06/24 14:03:13 WARN WindowExec: No Partition Defined for Window operation! Moving all data to a single partition, this can cause serious performance degradation.\n",
      "24/06/24 14:03:13 WARN WindowExec: No Partition Defined for Window operation! Moving all data to a single partition, this can cause serious performance degradation.\n",
      "24/06/24 14:03:15 WARN WindowExec: No Partition Defined for Window operation! Moving all data to a single partition, this can cause serious performance degradation.\n",
      "24/06/24 14:03:15 WARN WindowExec: No Partition Defined for Window operation! Moving all data to a single partition, this can cause serious performance degradation.\n",
      "24/06/24 14:03:17 WARN WindowExec: No Partition Defined for Window operation! Moving all data to a single partition, this can cause serious performance degradation.\n",
      "24/06/24 14:03:17 WARN WindowExec: No Partition Defined for Window operation! Moving all data to a single partition, this can cause serious performance degradation.\n",
      "[Stage 169:>                                                        (0 + 1) / 1]\r"
     ]
    },
    {
     "name": "stdout",
     "output_type": "stream",
     "text": [
      "+-------+------------------+------------------+--------------------+-----------------+-------------------+-------------------------+------------------+--------------------+----------------------+\n",
      "|hqad_id|host_response_time|host_response_rate|host_acceptance_rate|host_is_superhost|host_listings_count|host_total_listings_count|host_verifications|host_has_profile_pic|host_identity_verified|\n",
      "+-------+------------------+------------------+--------------------+-----------------+-------------------+-------------------------+------------------+--------------------+----------------------+\n",
      "|      1|                 H|              1.00|                0.99|                0|                  3|                        3|               110|                   0|                     0|\n",
      "|      2|                 H|              1.00|                0.98|                0|                  1|                        1|               110|                   1|                     0|\n",
      "|      3|                FH|              1.00|                0.96|                1|                  1|                        2|               110|                   1|                     1|\n",
      "|      4|                 H|              1.00|                0.93|                1|                 12|                       12|               111|                   1|                     1|\n",
      "|      5|                 H|              1.00|                1.00|                1|                  2|                        2|               111|                   1|                     0|\n",
      "|      6|              NULL|              NULL|                1.00|                0|                  1|                        1|               010|                   1|                     1|\n",
      "|      7|                 H|              0.90|                0.99|                1|                  3|                        4|               010|                   1|                     1|\n",
      "|      8|                 H|              1.00|                0.92|                1|                  8|                        9|               110|                   1|                     1|\n",
      "|      9|                 H|              1.00|                0.96|                1|                 21|                       21|               110|                   1|                     1|\n",
      "|     10|                 H|              1.00|                0.93|                0|                  1|                        1|               110|                   1|                     0|\n",
      "+-------+------------------+------------------+--------------------+-----------------+-------------------+-------------------------+------------------+--------------------+----------------------+\n",
      "only showing top 10 rows\n",
      "\n"
     ]
    },
    {
     "name": "stderr",
     "output_type": "stream",
     "text": [
      "                                                                                \r"
     ]
    }
   ],
   "source": [
    "# The Host Qualifications and Diagnostics (HQAD)\n",
    "from pyspark.sql.types import StringType\n",
    "from pyspark.sql.functions import udf, col\n",
    "\n",
    "\n",
    "# User defined function to change the host verifications column. Three numbers indicate whether or not the host has the verification.\n",
    "# 111 Means host has all three verifications. 110 means the host has email and phone verified and 010 means they have their phone verified.\n",
    "def hqad_df_host_verifications_transform(verifs_list):\n",
    "   res = \"\"\n",
    "\n",
    "   if \"email\" in verifs_list:\n",
    "      res+=\"1\"\n",
    "   else:\n",
    "      res+=\"0\"\n",
    "   if \"phone\" in verifs_list:\n",
    "      res += \"1\"\n",
    "   else:\n",
    "      res += \"0\"\n",
    "   if \"work_email\" in verifs_list:\n",
    "      res += \"1\"\n",
    "   else:\n",
    "      res += \"0\"\n",
    "\n",
    "   return res\n",
    "\n",
    "\n",
    "hqad_array_transform = udf(hqad_df_host_verifications_transform, StringType())\n",
    "\n",
    "# Query to get row number, replace percent to decimal, change host_response_time to shorter key, and change t/f to 1/0\n",
    "hqad_df_query = \"\"\"\n",
    "select row_number() over (order by (select 1)) as hqad_id,\n",
    "       case host_response_time\n",
    "         when 'within an hour' then 'H'\n",
    "         when 'within a few hours' then 'FH'\n",
    "         when 'within a dat' then 'D'\n",
    "         when 'a few days or more' then 'D+'\n",
    "       else\n",
    "         null\n",
    "       end as host_response_time, \n",
    "       cast(replace(host_response_rate, '%', '') / 100 as decimal(3,2)) as host_response_rate,\n",
    "       cast(replace(host_acceptance_rate, '%', '') / 100 as decimal(3,2)) as host_acceptance_rate,\n",
    "       case host_is_superhost\n",
    "          when 't' then 1\n",
    "          when 'f' then 0\n",
    "          else null\n",
    "       end as host_is_superhost, \n",
    "       host_listings_count, \n",
    "       host_total_listings_count, \n",
    "       host_verifications, \n",
    "       case host_has_profile_pic \n",
    "          when 't' then 1\n",
    "          when 'f' then 0\n",
    "          else null\n",
    "       end as host_has_profile_pic, \n",
    "       case host_identity_verified\n",
    "          when 't' then 1\n",
    "          when 'f' then 0\n",
    "          else null\n",
    "       end as host_identity_verified\n",
    "from hqad_df_view\n",
    "\"\"\"\n",
    "\n",
    "hqad_df = spark.sql(hqad_df_query)\n",
    "hqad_df = hqad_df.withColumn(\"host_verifications\", hqad_array_transform(col(\"host_verifications\")))\n",
    "hqad_df.show(10)"
   ]
  },
  {
   "cell_type": "markdown",
   "metadata": {},
   "source": [
    "### Whew! That was a Long One!"
   ]
  },
  {
   "cell_type": "markdown",
   "metadata": {},
   "source": [
    "## Next, the Property Dimension Table"
   ]
  },
  {
   "cell_type": "code",
   "execution_count": 23,
   "metadata": {},
   "outputs": [
    {
     "name": "stderr",
     "output_type": "stream",
     "text": [
      "                                                                                \r"
     ]
    },
    {
     "name": "stdout",
     "output_type": "stream",
     "text": [
      "count: 2649\n",
      "root\n",
      " |-- latitude: double (nullable = true)\n",
      " |-- longitude: double (nullable = true)\n",
      " |-- property_type: string (nullable = true)\n",
      " |-- room_type: string (nullable = true)\n",
      " |-- accommodates: integer (nullable = true)\n",
      " |-- bathrooms_text: string (nullable = true)\n",
      " |-- beds: integer (nullable = true)\n",
      " |-- price: string (nullable = true)\n",
      "\n",
      "+------------------------+\n",
      "|property_type           |\n",
      "+------------------------+\n",
      "|Private room in loft    |\n",
      "|Farm stay               |\n",
      "|Entire rental unit      |\n",
      "|Shared room in hostel   |\n",
      "|Private room in condo   |\n",
      "|Room in boutique hotel  |\n",
      "|Entire guesthouse       |\n",
      "|Entire cabin            |\n",
      "|Private room in bungalow|\n",
      "|Entire guest suite      |\n",
      "|Private room in home    |\n",
      "|Entire place            |\n",
      "|Camper/RV               |\n",
      "|Castle                  |\n",
      "|Tiny home               |\n",
      "|Entire vacation home    |\n",
      "|Private room in hostel  |\n",
      "|Room in aparthotel      |\n",
      "|Entire townhouse        |\n",
      "|Room in hotel           |\n",
      "+------------------------+\n",
      "only showing top 20 rows\n",
      "\n"
     ]
    }
   ],
   "source": [
    "property_df = listing_df.select(\n",
    "    \"latitude\",\n",
    "    \"longitude\", \n",
    "    \"property_type\", \n",
    "    \"room_type\", \n",
    "    \"accommodates\",\n",
    "    \"bathrooms_text\",\n",
    "    \"beds\",\n",
    "    \"price\"\n",
    ")\n",
    "\n",
    "property_df = property_df.dropDuplicates()\n",
    "\n",
    "print(\"count: \" + str(property_df.count()))\n",
    "\n",
    "property_df.printSchema()\n",
    "property_df.select(\"property_type\").distinct().show(truncate=False)"
   ]
  },
  {
   "cell_type": "code",
   "execution_count": 43,
   "metadata": {},
   "outputs": [
    {
     "name": "stderr",
     "output_type": "stream",
     "text": [
      "[Stage 114:>                                                        (0 + 1) / 1]\r"
     ]
    },
    {
     "name": "stdout",
     "output_type": "stream",
     "text": [
      "+---------+----------------+-------------+\n",
      "|bathrooms|bathrooms_text  |bathroom_desc|\n",
      "+---------+----------------+-------------+\n",
      "|2        |2 baths         |baths        |\n",
      "|2        |2 shared baths  |shared baths |\n",
      "|4.5      |4.5 baths       |baths        |\n",
      "|6.5      |6.5 baths       |baths        |\n",
      "|3        |3 baths         |baths        |\n",
      "|1        |1 private bath  |private bath |\n",
      "|3        |3 shared baths  |shared baths |\n",
      "|8        |8 baths         |baths        |\n",
      "|10.5     |10.5 baths      |baths        |\n",
      "|2.5      |2.5 baths       |baths        |\n",
      "|2.5      |2.5 shared baths|shared baths |\n",
      "|4        |4 baths         |baths        |\n",
      "|3.5      |3.5 baths       |baths        |\n",
      "|0        |0 shared baths  |shared baths |\n",
      "|1.5      |1.5 shared baths|shared baths |\n",
      "|1        |1 shared bath   |shared bath  |\n",
      "|1.5      |1.5 baths       |baths        |\n",
      "|3.5      |3.5 shared baths|shared baths |\n",
      "|0        |0 baths         |baths        |\n",
      "|0.5      |0.5 bath        |bath         |\n",
      "+---------+----------------+-------------+\n",
      "only showing top 20 rows\n",
      "\n"
     ]
    },
    {
     "name": "stderr",
     "output_type": "stream",
     "text": [
      "                                                                                \r"
     ]
    }
   ],
   "source": [
    "from pyspark.sql.functions import regexp_replace, when, col, lower, instr, split\n",
    "# property_df.createOrReplaceTempView(\"property_df_view\")\n",
    "\n",
    "property_query = \"\"\"\n",
    "    select row_number() over (order by (select 1)) as property_id,\n",
    "           latitude,\n",
    "           longitude,\n",
    "           property_type,\n",
    "           room_type,\n",
    "           accommodates,\n",
    "           CASE\n",
    "              WHEN INSTR(bathrooms_text, 'Private half-bath') > 0 THEN '0.5 private bath'\n",
    "              WHEN INSTR(bathrooms_text, 'Half-bath') > 0 THEN '0.5 bath'\n",
    "              ELSE bathrooms_text\n",
    "           END as bathrooms_text,\n",
    "           beds,\n",
    "           cast(replace(price, '$', '') as decimal(10,2)) as price\n",
    "\n",
    "    from property_df_view\n",
    "\"\"\"\n",
    "\n",
    "# Running the query\n",
    "property_df = spark.sql(property_query)\n",
    "\n",
    "# Splitting the bathroom column into two\n",
    "property_baths_split = split(col(\"bathrooms_text\"), ' ', limit=2)\n",
    "# Adding the two new columns\n",
    "property_df = property_df.withColumn(\"bathrooms\", property_baths_split.getItem(0))\n",
    "property_df = property_df.withColumn(\"bathroom_desc\", property_baths_split.getItem(1))\n",
    "\n",
    "\n",
    "property_df.select(\"bathrooms\", \"bathrooms_text\", \"bathroom_desc\").distinct().show(truncate=False)"
   ]
  },
  {
   "cell_type": "code",
   "execution_count": null,
   "metadata": {},
   "outputs": [],
   "source": []
  }
 ],
 "metadata": {
  "kernelspec": {
   "display_name": "airbnb_venv",
   "language": "python",
   "name": "python3"
  },
  "language_info": {
   "codemirror_mode": {
    "name": "ipython",
    "version": 3
   },
   "file_extension": ".py",
   "mimetype": "text/x-python",
   "name": "python",
   "nbconvert_exporter": "python",
   "pygments_lexer": "ipython3",
   "version": "3.10.11"
  }
 },
 "nbformat": 4,
 "nbformat_minor": 2
}
