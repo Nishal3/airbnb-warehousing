{
 "cells": [
  {
   "cell_type": "code",
   "execution_count": 2,
   "metadata": {},
   "outputs": [],
   "source": [
    "import pandas as pd"
   ]
  },
  {
   "cell_type": "code",
   "execution_count": 3,
   "metadata": {},
   "outputs": [],
   "source": [
    "# Reading CSVs and Making DataFrames\n",
    "reviews = pd.read_csv(\"reviews.csv\")\n",
    "listings = pd.read_csv(\"listings.csv\")"
   ]
  },
  {
   "cell_type": "code",
   "execution_count": 4,
   "metadata": {},
   "outputs": [
    {
     "data": {
      "text/html": [
       "<div>\n",
       "<style scoped>\n",
       "    .dataframe tbody tr th:only-of-type {\n",
       "        vertical-align: middle;\n",
       "    }\n",
       "\n",
       "    .dataframe tbody tr th {\n",
       "        vertical-align: top;\n",
       "    }\n",
       "\n",
       "    .dataframe thead th {\n",
       "        text-align: right;\n",
       "    }\n",
       "</style>\n",
       "<table border=\"1\" class=\"dataframe\">\n",
       "  <thead>\n",
       "    <tr style=\"text-align: right;\">\n",
       "      <th></th>\n",
       "      <th>listing_id</th>\n",
       "      <th>id</th>\n",
       "      <th>date</th>\n",
       "      <th>reviewer_id</th>\n",
       "      <th>reviewer_name</th>\n",
       "      <th>comments</th>\n",
       "    </tr>\n",
       "  </thead>\n",
       "  <tbody>\n",
       "    <tr>\n",
       "      <th>0</th>\n",
       "      <td>90676</td>\n",
       "      <td>619503</td>\n",
       "      <td>2011-10-11</td>\n",
       "      <td>1160153</td>\n",
       "      <td>Kelly</td>\n",
       "      <td>Audra was very welcoming and seems like she'd ...</td>\n",
       "    </tr>\n",
       "    <tr>\n",
       "      <th>1</th>\n",
       "      <td>90676</td>\n",
       "      <td>683039</td>\n",
       "      <td>2011-11-01</td>\n",
       "      <td>1290336</td>\n",
       "      <td>Dave</td>\n",
       "      <td>Audra was a very helpful and gracious host.  T...</td>\n",
       "    </tr>\n",
       "    <tr>\n",
       "      <th>2</th>\n",
       "      <td>90676</td>\n",
       "      <td>972073</td>\n",
       "      <td>2012-03-05</td>\n",
       "      <td>1160684</td>\n",
       "      <td>Seth</td>\n",
       "      <td>Audra has a very beautiful home in a convenien...</td>\n",
       "    </tr>\n",
       "    <tr>\n",
       "      <th>3</th>\n",
       "      <td>90676</td>\n",
       "      <td>1067300</td>\n",
       "      <td>2012-04-01</td>\n",
       "      <td>1290336</td>\n",
       "      <td>Dave</td>\n",
       "      <td>Ggreat house and a great location and the host...</td>\n",
       "    </tr>\n",
       "    <tr>\n",
       "      <th>4</th>\n",
       "      <td>90676</td>\n",
       "      <td>1083843</td>\n",
       "      <td>2012-04-04</td>\n",
       "      <td>1919810</td>\n",
       "      <td>Josh</td>\n",
       "      <td>Audra and Lacey were such wonderful hosts and ...</td>\n",
       "    </tr>\n",
       "  </tbody>\n",
       "</table>\n",
       "</div>"
      ],
      "text/plain": [
       "   listing_id       id        date  reviewer_id reviewer_name  \\\n",
       "0       90676   619503  2011-10-11      1160153         Kelly   \n",
       "1       90676   683039  2011-11-01      1290336          Dave   \n",
       "2       90676   972073  2012-03-05      1160684          Seth   \n",
       "3       90676  1067300  2012-04-01      1290336          Dave   \n",
       "4       90676  1083843  2012-04-04      1919810          Josh   \n",
       "\n",
       "                                            comments  \n",
       "0  Audra was very welcoming and seems like she'd ...  \n",
       "1  Audra was a very helpful and gracious host.  T...  \n",
       "2  Audra has a very beautiful home in a convenien...  \n",
       "3  Ggreat house and a great location and the host...  \n",
       "4  Audra and Lacey were such wonderful hosts and ...  "
      ]
     },
     "execution_count": 4,
     "metadata": {},
     "output_type": "execute_result"
    }
   ],
   "source": [
    "reviews.head()"
   ]
  },
  {
   "cell_type": "code",
   "execution_count": 34,
   "metadata": {},
   "outputs": [
    {
     "data": {
      "text/plain": [
       "0          https://www.airbnb.com/users/show/483306\n",
       "1         https://www.airbnb.com/users/show/2350409\n",
       "2         https://www.airbnb.com/users/show/2889677\n",
       "3         https://www.airbnb.com/users/show/4965048\n",
       "4         https://www.airbnb.com/users/show/4965048\n",
       "                           ...                     \n",
       "2663    https://www.airbnb.com/users/show/390404025\n",
       "2664     https://www.airbnb.com/users/show/72965873\n",
       "2665     https://www.airbnb.com/users/show/52044755\n",
       "2666    https://www.airbnb.com/users/show/519608982\n",
       "2667    https://www.airbnb.com/users/show/552434649\n",
       "Name: host_url, Length: 2668, dtype: object"
      ]
     },
     "execution_count": 34,
     "metadata": {},
     "output_type": "execute_result"
    }
   ],
   "source": [
    "listings.head()\n",
    "listings.nunique()\n",
    "# listings.iloc[:, 9:26].nunique()\n",
    "listings.host_url"
   ]
  },
  {
   "cell_type": "code",
   "execution_count": null,
   "metadata": {},
   "outputs": [],
   "source": []
  }
 ],
 "metadata": {
  "kernelspec": {
   "display_name": "Python 3",
   "language": "python",
   "name": "python3"
  },
  "language_info": {
   "codemirror_mode": {
    "name": "ipython",
    "version": 3
   },
   "file_extension": ".py",
   "mimetype": "text/x-python",
   "name": "python",
   "nbconvert_exporter": "python",
   "pygments_lexer": "ipython3",
   "version": "3.10.11"
  }
 },
 "nbformat": 4,
 "nbformat_minor": 2
}
