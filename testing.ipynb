{
 "cells": [
  {
   "cell_type": "markdown",
   "metadata": {},
   "source": [
    "# Airbnb Data Warehousing Data Transformation Script"
   ]
  },
  {
   "cell_type": "markdown",
   "metadata": {},
   "source": [
    "## Set Up"
   ]
  },
  {
   "cell_type": "markdown",
   "metadata": {},
   "source": [
    "### Install Required Modules"
   ]
  },
  {
   "cell_type": "code",
   "execution_count": 1,
   "metadata": {},
   "outputs": [],
   "source": [
    "import pandas as pd\n"
   ]
  },
  {
   "cell_type": "markdown",
   "metadata": {},
   "source": [
    "### Read in files"
   ]
  },
  {
   "cell_type": "code",
   "execution_count": 9,
   "metadata": {},
   "outputs": [],
   "source": [
    "reviews = pd.read_csv(\"data/reviews.csv\")\n",
    "listings = pd.read_csv(\"data/listings.csv\")"
   ]
  },
  {
   "cell_type": "markdown",
   "metadata": {},
   "source": [
    "### Getting General Information on Listings Table"
   ]
  },
  {
   "cell_type": "code",
   "execution_count": 19,
   "metadata": {},
   "outputs": [
    {
     "name": "stdout",
     "output_type": "stream",
     "text": [
      "<class 'pandas.core.frame.DataFrame'>\n",
      "RangeIndex: 2668 entries, 0 to 2667\n",
      "Data columns (total 69 columns):\n",
      " #   Column                                        Non-Null Count  Dtype         \n",
      "---  ------                                        --------------  -----         \n",
      " 0   id                                            2668 non-null   int64         \n",
      " 1   listing_url                                   2668 non-null   string        \n",
      " 2   scrape_id                                     2668 non-null   int64         \n",
      " 3   last_scraped                                  2668 non-null   datetime64[ns]\n",
      " 4   source                                        2668 non-null   object        \n",
      " 5   name                                          2668 non-null   object        \n",
      " 6   neighborhood_overview                         1826 non-null   object        \n",
      " 7   picture_url                                   2668 non-null   object        \n",
      " 8   host_id                                       2668 non-null   int64         \n",
      " 9   host_url                                      2668 non-null   object        \n",
      " 10  host_name                                     2668 non-null   object        \n",
      " 11  host_since                                    2668 non-null   datetime64[ns]\n",
      " 12  host_location                                 2192 non-null   object        \n",
      " 13  host_about                                    1731 non-null   object        \n",
      " 14  host_response_time                            2491 non-null   object        \n",
      " 15  host_response_rate                            2491 non-null   object        \n",
      " 16  host_acceptance_rate                          2556 non-null   object        \n",
      " 17  host_is_superhost                             2665 non-null   object        \n",
      " 18  host_thumbnail_url                            2668 non-null   object        \n",
      " 19  host_picture_url                              2668 non-null   object        \n",
      " 20  host_neighbourhood                            2398 non-null   object        \n",
      " 21  host_listings_count                           2668 non-null   int64         \n",
      " 22  host_total_listings_count                     2668 non-null   int64         \n",
      " 23  host_verifications                            2668 non-null   object        \n",
      " 24  host_has_profile_pic                          2668 non-null   object        \n",
      " 25  host_identity_verified                        2668 non-null   object        \n",
      " 26  neighbourhood                                 1826 non-null   object        \n",
      " 27  neighbourhood_cleansed                        2668 non-null   object        \n",
      " 28  latitude                                      2668 non-null   float64       \n",
      " 29  longitude                                     2668 non-null   float64       \n",
      " 30  property_type                                 2668 non-null   object        \n",
      " 31  room_type                                     2668 non-null   object        \n",
      " 32  accommodates                                  2668 non-null   int64         \n",
      " 33  bathrooms_text                                2668 non-null   object        \n",
      " 34  beds                                          2637 non-null   float64       \n",
      " 35  amenities                                     2668 non-null   object        \n",
      " 36  price                                         2579 non-null   object        \n",
      " 37  minimum_nights                                2668 non-null   int64         \n",
      " 38  maximum_nights                                2668 non-null   int64         \n",
      " 39  minimum_minimum_nights                        2668 non-null   int64         \n",
      " 40  maximum_minimum_nights                        2668 non-null   int64         \n",
      " 41  minimum_maximum_nights                        2668 non-null   int64         \n",
      " 42  maximum_maximum_nights                        2668 non-null   int64         \n",
      " 43  minimum_nights_avg_ntm                        2668 non-null   float64       \n",
      " 44  maximum_nights_avg_ntm                        2668 non-null   float64       \n",
      " 45  has_availability                              2579 non-null   object        \n",
      " 46  availability_30                               2668 non-null   int64         \n",
      " 47  availability_60                               2668 non-null   int64         \n",
      " 48  availability_90                               2668 non-null   int64         \n",
      " 49  availability_365                              2668 non-null   int64         \n",
      " 50  number_of_reviews                             2668 non-null   int64         \n",
      " 51  number_of_reviews_ltm                         2668 non-null   int64         \n",
      " 52  number_of_reviews_l30d                        2668 non-null   int64         \n",
      " 53  first_review                                  2287 non-null   object        \n",
      " 54  last_review                                   2287 non-null   object        \n",
      " 55  review_scores_rating                          2289 non-null   float64       \n",
      " 56  review_scores_accuracy                        2289 non-null   float64       \n",
      " 57  review_scores_cleanliness                     2288 non-null   float64       \n",
      " 58  review_scores_checkin                         2289 non-null   float64       \n",
      " 59  review_scores_communication                   2289 non-null   float64       \n",
      " 60  review_scores_location                        2289 non-null   float64       \n",
      " 61  review_scores_value                           2289 non-null   float64       \n",
      " 62  license                                       2300 non-null   object        \n",
      " 63  instant_bookable                              2668 non-null   object        \n",
      " 64  calculated_host_listings_count                2668 non-null   int64         \n",
      " 65  calculated_host_listings_count_entire_homes   2668 non-null   int64         \n",
      " 66  calculated_host_listings_count_private_rooms  2668 non-null   int64         \n",
      " 67  calculated_host_listings_count_shared_rooms   2668 non-null   int64         \n",
      " 68  reviews_per_month                             2287 non-null   float64       \n",
      "dtypes: datetime64[ns](2), float64(13), int64(23), object(30), string(1)\n",
      "memory usage: 1.4+ MB\n"
     ]
    }
   ],
   "source": [
    "listings.info(max_cols=None)"
   ]
  },
  {
   "cell_type": "markdown",
   "metadata": {},
   "source": [
    "### Dropping redundant/empty columns"
   ]
  },
  {
   "cell_type": "code",
   "execution_count": 12,
   "metadata": {},
   "outputs": [
    {
     "name": "stdout",
     "output_type": "stream",
     "text": [
      "True\n"
     ]
    }
   ],
   "source": [
    "# These two columns are the same, we can drop one of them\n",
    "print(pd.to_datetime(listings[\"last_scraped\"]).equals(pd.to_datetime(listings[\"calendar_last_scraped\"])))\n",
    "\n",
    "# Others have no non-null values, let's remove all the uneccessary fluff\n",
    "\n",
    "listings = listings.drop(\"calendar_last_scraped\", axis=1)\n",
    "listings = listings.drop(\"description\",axis=1)\n",
    "listings = listings.drop(\"calendar_updated\",axis=1)\n",
    "listings = listings.drop(\"bedrooms\",axis=1)\n",
    "listings = listings.drop(\"bathrooms\",axis=1)\n",
    "listings = listings.drop(\"neighbourhood_group_cleansed\",axis=1)\n",
    "\n"
   ]
  },
  {
   "cell_type": "markdown",
   "metadata": {},
   "source": [
    "### Setting datetime objects to datetime"
   ]
  },
  {
   "cell_type": "code",
   "execution_count": 18,
   "metadata": {},
   "outputs": [],
   "source": [
    "# Changing the datetime columns to the datetime data type\n",
    "listings.last_scraped = pd.to_datetime(listings.last_scraped)\n",
    "listings.host_since = pd.to_datetime(listings.host_since)\n"
   ]
  },
  {
   "cell_type": "markdown",
   "metadata": {},
   "source": [
    "## Making all the dimension tables"
   ]
  },
  {
   "cell_type": "markdown",
   "metadata": {},
   "source": [
    "### Starting off with hosts dimension table"
   ]
  },
  {
   "cell_type": "code",
   "execution_count": 24,
   "metadata": {},
   "outputs": [],
   "source": [
    "hosts_df = listings[\n",
    "    [\n",
    "        \"host_id\", \n",
    "        \"host_url\", \n",
    "        \"host_name\", \n",
    "        \"host_since\", \n",
    "        \"host_location\", \n",
    "        \"host_about\", \n",
    "        \"host_response_time\",\n",
    "        \"host_response_rate\",\n",
    "        \"host_acceptance_rate\",\n",
    "        \"host_is_superhost\",\n",
    "        \"host_thumbnail_url\",\n",
    "        \"host_picture_url\",\n",
    "        \"host_neighbourhood\",\n",
    "        \"host_listings_count\",\n",
    "        \"host_total_listings_count\",\n",
    "        \"host_verifications\",\n",
    "        \"host_has_profile_pic\",\n",
    "        \"host_identity_verified\",\n",
    "        \"host_response_time\",\n",
    "        \"host_response_rate\",\n",
    "        \"host_acceptance_rate\",\n",
    "        \"host_is_superhost\",\n",
    "        \"host_thumbnail_url\",\n",
    "        \"host_picture_url\",\n",
    "        \"host_neighbourhood\",\n",
    "        \"host_listings_count\",\n",
    "        \"host_total_listings_count\",\n",
    "        \"host_verifications\",\n",
    "        \"host_has_profile_pic\",\n",
    "        \"host_identity_verified\",\n",
    "    ]\n",
    "]"
   ]
  },
  {
   "cell_type": "code",
   "execution_count": null,
   "metadata": {},
   "outputs": [],
   "source": []
  }
 ],
 "metadata": {
  "kernelspec": {
   "display_name": "Python 3",
   "language": "python",
   "name": "python3"
  },
  "language_info": {
   "codemirror_mode": {
    "name": "ipython",
    "version": 3
   },
   "file_extension": ".py",
   "mimetype": "text/x-python",
   "name": "python",
   "nbconvert_exporter": "python",
   "pygments_lexer": "ipython3",
   "version": "3.10.11"
  }
 },
 "nbformat": 4,
 "nbformat_minor": 2
}
