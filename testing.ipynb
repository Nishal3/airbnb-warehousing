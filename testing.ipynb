{
 "cells": [
  {
   "cell_type": "markdown",
   "metadata": {},
   "source": [
    "# Airbnb Data Warehousing Data Transformation Script"
   ]
  },
  {
   "cell_type": "markdown",
   "metadata": {},
   "source": [
    "## Set Up"
   ]
  },
  {
   "cell_type": "markdown",
   "metadata": {},
   "source": [
    "### Install Required Modules"
   ]
  },
  {
   "cell_type": "code",
   "execution_count": 1,
   "metadata": {},
   "outputs": [],
   "source": [
    "import pandas as pd\n"
   ]
  },
  {
   "cell_type": "markdown",
   "metadata": {},
   "source": [
    "### Read in files"
   ]
  },
  {
   "cell_type": "code",
   "execution_count": 2,
   "metadata": {},
   "outputs": [],
   "source": [
    "reviews = pd.read_csv(\"data/reviews.csv\")\n",
    "listings = pd.read_csv(\"data/listings.csv\")"
   ]
  },
  {
   "cell_type": "markdown",
   "metadata": {},
   "source": [
    "### Getting General Information on Listings Table"
   ]
  },
  {
   "cell_type": "code",
   "execution_count": 3,
   "metadata": {},
   "outputs": [
    {
     "name": "stdout",
     "output_type": "stream",
     "text": [
      "<class 'pandas.core.frame.DataFrame'>\n",
      "RangeIndex: 2668 entries, 0 to 2667\n",
      "Data columns (total 75 columns):\n",
      " #   Column                                        Non-Null Count  Dtype  \n",
      "---  ------                                        --------------  -----  \n",
      " 0   id                                            2668 non-null   int64  \n",
      " 1   listing_url                                   2668 non-null   object \n",
      " 2   scrape_id                                     2668 non-null   int64  \n",
      " 3   last_scraped                                  2668 non-null   object \n",
      " 4   source                                        2668 non-null   object \n",
      " 5   name                                          2668 non-null   object \n",
      " 6   description                                   0 non-null      float64\n",
      " 7   neighborhood_overview                         1826 non-null   object \n",
      " 8   picture_url                                   2668 non-null   object \n",
      " 9   host_id                                       2668 non-null   int64  \n",
      " 10  host_url                                      2668 non-null   object \n",
      " 11  host_name                                     2668 non-null   object \n",
      " 12  host_since                                    2668 non-null   object \n",
      " 13  host_location                                 2192 non-null   object \n",
      " 14  host_about                                    1731 non-null   object \n",
      " 15  host_response_time                            2491 non-null   object \n",
      " 16  host_response_rate                            2491 non-null   object \n",
      " 17  host_acceptance_rate                          2556 non-null   object \n",
      " 18  host_is_superhost                             2665 non-null   object \n",
      " 19  host_thumbnail_url                            2668 non-null   object \n",
      " 20  host_picture_url                              2668 non-null   object \n",
      " 21  host_neighbourhood                            2398 non-null   object \n",
      " 22  host_listings_count                           2668 non-null   int64  \n",
      " 23  host_total_listings_count                     2668 non-null   int64  \n",
      " 24  host_verifications                            2668 non-null   object \n",
      " 25  host_has_profile_pic                          2668 non-null   object \n",
      " 26  host_identity_verified                        2668 non-null   object \n",
      " 27  neighbourhood                                 1826 non-null   object \n",
      " 28  neighbourhood_cleansed                        2668 non-null   object \n",
      " 29  neighbourhood_group_cleansed                  0 non-null      float64\n",
      " 30  latitude                                      2668 non-null   float64\n",
      " 31  longitude                                     2668 non-null   float64\n",
      " 32  property_type                                 2668 non-null   object \n",
      " 33  room_type                                     2668 non-null   object \n",
      " 34  accommodates                                  2668 non-null   int64  \n",
      " 35  bathrooms                                     0 non-null      float64\n",
      " 36  bathrooms_text                                2668 non-null   object \n",
      " 37  bedrooms                                      0 non-null      float64\n",
      " 38  beds                                          2637 non-null   float64\n",
      " 39  amenities                                     2668 non-null   object \n",
      " 40  price                                         2579 non-null   object \n",
      " 41  minimum_nights                                2668 non-null   int64  \n",
      " 42  maximum_nights                                2668 non-null   int64  \n",
      " 43  minimum_minimum_nights                        2668 non-null   int64  \n",
      " 44  maximum_minimum_nights                        2668 non-null   int64  \n",
      " 45  minimum_maximum_nights                        2668 non-null   int64  \n",
      " 46  maximum_maximum_nights                        2668 non-null   int64  \n",
      " 47  minimum_nights_avg_ntm                        2668 non-null   float64\n",
      " 48  maximum_nights_avg_ntm                        2668 non-null   float64\n",
      " 49  calendar_updated                              0 non-null      float64\n",
      " 50  has_availability                              2579 non-null   object \n",
      " 51  availability_30                               2668 non-null   int64  \n",
      " 52  availability_60                               2668 non-null   int64  \n",
      " 53  availability_90                               2668 non-null   int64  \n",
      " 54  availability_365                              2668 non-null   int64  \n",
      " 55  calendar_last_scraped                         2668 non-null   object \n",
      " 56  number_of_reviews                             2668 non-null   int64  \n",
      " 57  number_of_reviews_ltm                         2668 non-null   int64  \n",
      " 58  number_of_reviews_l30d                        2668 non-null   int64  \n",
      " 59  first_review                                  2287 non-null   object \n",
      " 60  last_review                                   2287 non-null   object \n",
      " 61  review_scores_rating                          2289 non-null   float64\n",
      " 62  review_scores_accuracy                        2289 non-null   float64\n",
      " 63  review_scores_cleanliness                     2288 non-null   float64\n",
      " 64  review_scores_checkin                         2289 non-null   float64\n",
      " 65  review_scores_communication                   2289 non-null   float64\n",
      " 66  review_scores_location                        2289 non-null   float64\n",
      " 67  review_scores_value                           2289 non-null   float64\n",
      " 68  license                                       2300 non-null   object \n",
      " 69  instant_bookable                              2668 non-null   object \n",
      " 70  calculated_host_listings_count                2668 non-null   int64  \n",
      " 71  calculated_host_listings_count_entire_homes   2668 non-null   int64  \n",
      " 72  calculated_host_listings_count_private_rooms  2668 non-null   int64  \n",
      " 73  calculated_host_listings_count_shared_rooms   2668 non-null   int64  \n",
      " 74  reviews_per_month                             2287 non-null   float64\n",
      "dtypes: float64(18), int64(23), object(34)\n",
      "memory usage: 1.5+ MB\n"
     ]
    }
   ],
   "source": [
    "listings.info(max_cols=None)"
   ]
  },
  {
   "cell_type": "markdown",
   "metadata": {},
   "source": [
    "### Dropping redundant/empty columns"
   ]
  },
  {
   "cell_type": "code",
   "execution_count": 4,
   "metadata": {},
   "outputs": [
    {
     "name": "stdout",
     "output_type": "stream",
     "text": [
      "True\n"
     ]
    }
   ],
   "source": [
    "# These two columns are the same, we can drop one of them\n",
    "print(pd.to_datetime(listings[\"last_scraped\"]).equals(pd.to_datetime(listings[\"calendar_last_scraped\"])))\n",
    "\n",
    "# Others have no non-null values, let's remove all the uneccessary fluff\n",
    "\n",
    "listings = listings.drop(\"calendar_last_scraped\", axis=1)\n",
    "listings = listings.drop(\"description\",axis=1)\n",
    "listings = listings.drop(\"calendar_updated\",axis=1)\n",
    "listings = listings.drop(\"bedrooms\",axis=1)\n",
    "listings = listings.drop(\"bathrooms\",axis=1)\n",
    "listings = listings.drop(\"neighbourhood_group_cleansed\",axis=1)\n",
    "\n"
   ]
  },
  {
   "cell_type": "markdown",
   "metadata": {},
   "source": [
    "### Setting datetime objects to datetime"
   ]
  },
  {
   "cell_type": "code",
   "execution_count": 5,
   "metadata": {},
   "outputs": [],
   "source": [
    "# Changing the datetime columns to the datetime data type\n",
    "listings.last_scraped = pd.to_datetime(listings.last_scraped)\n",
    "listings.host_since = pd.to_datetime(listings.host_since)\n"
   ]
  },
  {
   "cell_type": "markdown",
   "metadata": {},
   "source": [
    "## Making all the dimension tables"
   ]
  },
  {
   "cell_type": "markdown",
   "metadata": {},
   "source": [
    "### Starting Off With Host Dimension Tables"
   ]
  },
  {
   "cell_type": "code",
   "execution_count": 6,
   "metadata": {},
   "outputs": [],
   "source": [
    "host_df = listings[\n",
    "    [\n",
    "        \"host_id\",\n",
    "        \"host_url\",\n",
    "        \"host_name\",\n",
    "        \"host_since\",\n",
    "        \"host_location\",\n",
    "        \"host_about\",\n",
    "        \"host_thumbnail_url\",\n",
    "        \"host_picture_url\",\n",
    "        \"host_neighbourhood\",\n",
    "        \"host_response_time\",\n",
    "        \"host_response_rate\",\n",
    "        \"host_acceptance_rate\",\n",
    "        \"host_is_superhost\",\n",
    "        \"host_listings_count\",\n",
    "        \"host_total_listings_count\",\n",
    "        \"host_verifications\",\n",
    "        \"host_has_profile_pic\",\n",
    "        \"host_identity_verified\",\n",
    "        \"calculated_host_listings_count\",\n",
    "        \"calculated_host_listings_count_entire_homes\",\n",
    "        \"calculated_host_listings_count_private_rooms\",\n",
    "        \"calculated_host_listings_count_shared_rooms\",\n",
    "    ]\n",
    "].drop_duplicates().reset_index()\n"
   ]
  },
  {
   "cell_type": "markdown",
   "metadata": {},
   "source": [
    "#### The Dimensions of the Hosts Table"
   ]
  },
  {
   "cell_type": "code",
   "execution_count": 7,
   "metadata": {},
   "outputs": [],
   "source": [
    "host_ld_df = host_df[\n",
    "    [\n",
    "        \"host_response_time\",\n",
    "        \"host_response_rate\",\n",
    "        \"host_acceptance_rate\",\n",
    "        \"host_is_superhost\",\n",
    "        \"host_listings_count\",\n",
    "        \"host_total_listings_count\",\n",
    "        \"host_verifications\",\n",
    "        \"host_has_profile_pic\",\n",
    "        \"host_identity_verified\",\n",
    "    ]\n",
    "].drop_duplicates().reset_index()\n",
    "\n",
    "hqad_df = host_df[\n",
    "    [\n",
    "        \"calculated_host_listings_count\",\n",
    "        \"calculated_host_listings_count_entire_homes\",\n",
    "        \"calculated_host_listings_count_private_rooms\",\n",
    "        \"calculated_host_listings_count_shared_rooms\",\n",
    "    ]\n",
    "].drop_duplicates().reset_index()"
   ]
  },
  {
   "cell_type": "markdown",
   "metadata": {},
   "source": [
    "#### Giving Each Dimension of The Host Dimension A Primary Key"
   ]
  },
  {
   "cell_type": "code",
   "execution_count": 8,
   "metadata": {},
   "outputs": [],
   "source": [
    "host_ld_df[\"listing_diagnostics_id\"] = host_ld_df.index\n",
    "hqad_df[\"hqad_id\"] = hqad_df.index"
   ]
  },
  {
   "cell_type": "markdown",
   "metadata": {},
   "source": [
    "#### And Then Reorganizing so The ID Is The First Column of Each Host Dimension"
   ]
  },
  {
   "cell_type": "code",
   "execution_count": 9,
   "metadata": {},
   "outputs": [],
   "source": [
    "host_ld_df = host_ld_df[\n",
    "    [\n",
    "        \"listing_diagnostics_id\",\n",
    "        \"host_response_time\",\n",
    "        \"host_response_rate\",\n",
    "        \"host_acceptance_rate\",\n",
    "        \"host_is_superhost\",\n",
    "        \"host_listings_count\",\n",
    "        \"host_total_listings_count\",\n",
    "        \"host_verifications\",\n",
    "        \"host_has_profile_pic\",\n",
    "        \"host_identity_verified\",\n",
    "    ]\n",
    "]\n",
    "\n",
    "hqad_df = hqad_df[\n",
    "    [\n",
    "        \"hqad_id\",\n",
    "        \"calculated_host_listings_count\",\n",
    "        \"calculated_host_listings_count_entire_homes\",\n",
    "        \"calculated_host_listings_count_private_rooms\",\n",
    "        \"calculated_host_listings_count_shared_rooms\",\n",
    "    ]\n",
    "]"
   ]
  },
  {
   "cell_type": "markdown",
   "metadata": {},
   "source": [
    "### We'll Be Doing What We Just Did To The Other Tables"
   ]
  },
  {
   "cell_type": "markdown",
   "metadata": {},
   "source": [
    "### Next Up, Property Dimension Table"
   ]
  },
  {
   "cell_type": "code",
   "execution_count": 10,
   "metadata": {},
   "outputs": [],
   "source": [
    "property_df = listings[[\n",
    "\"latitude\", \n",
    "\"longitude\", \n",
    "\"property_type\", \n",
    "\"room_type\", \n",
    "\"accommodates\", \n",
    "\"bathrooms_text\", \n",
    "\"beds\", \n",
    "\"amenities\", \n",
    "\"price\", \n",
    "]].drop_duplicates().reset_index()"
   ]
  },
  {
   "cell_type": "code",
   "execution_count": 11,
   "metadata": {},
   "outputs": [],
   "source": [
    "# Set the index\n",
    "property_df[\"property_id\"] = property_df.index"
   ]
  },
  {
   "cell_type": "code",
   "execution_count": 12,
   "metadata": {},
   "outputs": [],
   "source": [
    "property_df = property_df[\n",
    "    [\n",
    "    \"property_id\", \n",
    "    \"latitude\", \n",
    "    \"longitude\", \n",
    "    \"property_type\", \n",
    "    \"room_type\", \n",
    "    \"accommodates\", \n",
    "    \"bathrooms_text\", \n",
    "    \"beds\", \n",
    "    \"amenities\", \n",
    "    \"price\", \n",
    "    ]\n",
    "]"
   ]
  },
  {
   "cell_type": "markdown",
   "metadata": {},
   "source": [
    "### Now The Reviews Diagnostics Dimension Table"
   ]
  },
  {
   "cell_type": "code",
   "execution_count": 13,
   "metadata": {},
   "outputs": [],
   "source": [
    "reviews_diagnostics_df = listings[\n",
    "    [\n",
    "        \"number_of_reviews\", \n",
    "        \"number_of_reviews_ltm\", \n",
    "        \"number_of_reviews_l30d\", \n",
    "        \"first_review\", \n",
    "        \"last_review\", \n",
    "        \"review_scores_rating\", \n",
    "        \"review_scores_accuracy\", \n",
    "        \"review_scores_cleanliness\", \n",
    "        \"review_scores_checkin\", \n",
    "        \"review_scores_communication\", \n",
    "        \"review_scores_location\", \n",
    "        \"review_scores_value\", \n",
    "        \"reviews_per_month\",\n",
    "    ]\n",
    "].drop_duplicates().reset_index()"
   ]
  },
  {
   "cell_type": "code",
   "execution_count": 14,
   "metadata": {},
   "outputs": [],
   "source": [
    "reviews_diagnostics_df[\"rev_diag_id\"] = reviews_diagnostics_df.index"
   ]
  },
  {
   "cell_type": "code",
   "execution_count": 15,
   "metadata": {},
   "outputs": [],
   "source": [
    "reviews_diagnostics_df = reviews_diagnostics_df[\n",
    "    [\n",
    "        \"rev_diag_id\",\n",
    "        \"number_of_reviews\", \n",
    "        \"number_of_reviews_ltm\", \n",
    "        \"number_of_reviews_l30d\", \n",
    "        \"first_review\", \n",
    "        \"last_review\", \n",
    "        \"review_scores_rating\", \n",
    "        \"review_scores_accuracy\", \n",
    "        \"review_scores_cleanliness\", \n",
    "        \"review_scores_checkin\", \n",
    "        \"review_scores_communication\", \n",
    "        \"review_scores_location\", \n",
    "        \"review_scores_value\", \n",
    "        \"reviews_per_month\",\n",
    "    ]\n",
    "]"
   ]
  },
  {
   "cell_type": "markdown",
   "metadata": {},
   "source": [
    "### Scrapings Dimension Table"
   ]
  },
  {
   "cell_type": "code",
   "execution_count": 16,
   "metadata": {},
   "outputs": [],
   "source": [
    "scrapings_df = listings[\n",
    "    [\n",
    "        \"scrape_id\",\n",
    "        \"last_scraped\",\n",
    "        \"source\" \n",
    "    ]\n",
    "].drop_duplicates().reset_index()"
   ]
  },
  {
   "cell_type": "code",
   "execution_count": 17,
   "metadata": {},
   "outputs": [],
   "source": [
    "scrapings_df[\"scrapings_id\"] = scrapings_df.index"
   ]
  },
  {
   "cell_type": "code",
   "execution_count": 18,
   "metadata": {},
   "outputs": [],
   "source": [
    "scrapings_df = scrapings_df[\n",
    "    [\n",
    "        \"scrapings_id\",\n",
    "        \"scrape_id\",\n",
    "        \"last_scraped\",\n",
    "        \"source\" \n",
    "    ]\n",
    "]"
   ]
  },
  {
   "cell_type": "markdown",
   "metadata": {},
   "source": [
    "### Neighbourhood Dimension Table"
   ]
  },
  {
   "cell_type": "code",
   "execution_count": 19,
   "metadata": {},
   "outputs": [],
   "source": [
    "neighbourhood_df = listings[\n",
    "    [\n",
    "        \"neighbourhood\",\n",
    "        \"neighborhood_overview\",\n",
    "        \"neighbourhood_cleansed\",\n",
    "    ]\n",
    "].drop_duplicates().reset_index()"
   ]
  },
  {
   "cell_type": "markdown",
   "metadata": {},
   "source": [
    "#### Fixing Spelling Error and Assigning ID"
   ]
  },
  {
   "cell_type": "code",
   "execution_count": 20,
   "metadata": {},
   "outputs": [],
   "source": [
    "# Fixing Typo\n",
    "neighbourhood_df[\"neighbourhood_overview\"] = neighbourhood_df[\"neighborhood_overview\"]\n",
    "neighbourhood_df.drop(\"neighborhood_overview\", axis=1, inplace=True)\n",
    "\n",
    "# Assigning ID\n",
    "neighbourhood_df[\"neighbourhood_id\"] = neighbourhood_df.index"
   ]
  },
  {
   "cell_type": "code",
   "execution_count": 21,
   "metadata": {},
   "outputs": [],
   "source": [
    "neighbourhood_df = neighbourhood_df[\n",
    "    [\n",
    "        \"neighbourhood_id\",\n",
    "        \"neighbourhood\",\n",
    "        \"neighbourhood_overview\",\n",
    "        \"neighbourhood_cleansed\",\n",
    "    ]\n",
    "]"
   ]
  },
  {
   "cell_type": "markdown",
   "metadata": {},
   "source": [
    "### Min And Max Insights Dimension Table"
   ]
  },
  {
   "cell_type": "code",
   "execution_count": 22,
   "metadata": {},
   "outputs": [],
   "source": [
    "minmax_insights_df = listings[\n",
    "    [\n",
    "        \"maximum_nights\",\n",
    "        \"minimum_nights\",\n",
    "        \"minimum_minimum_nights\",\n",
    "        \"maximum_minimum_nights\",\n",
    "        \"minimum_maximum_nights\",\n",
    "        \"maximum_maximum_nights\",\n",
    "        \"minimum_nights_avg_ntm\",\n",
    "        \"maximum_nights_avg_ntm\",\n",
    "    ]\n",
    "].drop_duplicates().reset_index()"
   ]
  },
  {
   "cell_type": "code",
   "execution_count": 23,
   "metadata": {},
   "outputs": [],
   "source": [
    "minmax_insights_df[\"minmax_insights_id\"] = minmax_insights_df.index"
   ]
  },
  {
   "cell_type": "code",
   "execution_count": 24,
   "metadata": {},
   "outputs": [],
   "source": [
    "minmax_insights_df = minmax_insights_df[\n",
    "    [\n",
    "        \"minmax_insights_id\",\n",
    "        \"maximum_nights\",\n",
    "        \"minimum_nights\",\n",
    "        \"minimum_minimum_nights\",\n",
    "        \"maximum_minimum_nights\",\n",
    "        \"minimum_maximum_nights\",\n",
    "        \"maximum_maximum_nights\",\n",
    "        \"minimum_nights_avg_ntm\",\n",
    "        \"maximum_nights_avg_ntm\",\n",
    "    ]\n",
    "]"
   ]
  },
  {
   "cell_type": "markdown",
   "metadata": {},
   "source": [
    "### Availibility Dimension Table"
   ]
  },
  {
   "cell_type": "code",
   "execution_count": 25,
   "metadata": {},
   "outputs": [],
   "source": [
    "availibility_df = listings[\n",
    "    [\n",
    "        \"has_availability\",\n",
    "        \"availability_30\",\n",
    "        \"availability_60\",\n",
    "        \"availability_90\",\n",
    "        \"availability_365\",\n",
    "    ]\n",
    "].drop_duplicates().reset_index()"
   ]
  },
  {
   "cell_type": "code",
   "execution_count": 26,
   "metadata": {},
   "outputs": [],
   "source": [
    "availibility_df[\"avail_id\"] = availibility_df.index"
   ]
  },
  {
   "cell_type": "code",
   "execution_count": 27,
   "metadata": {},
   "outputs": [],
   "source": [
    "availibility_df = availibility_df[\n",
    "    [\n",
    "        \"avail_id\",\n",
    "        \"has_availability\",\n",
    "        \"availability_30\",\n",
    "        \"availability_60\",\n",
    "        \"availability_90\",\n",
    "        \"availability_365\",\n",
    "    ]\n",
    "]"
   ]
  },
  {
   "cell_type": "markdown",
   "metadata": {},
   "source": [
    "### Finding Unique Values To Base The Joins"
   ]
  },
  {
   "cell_type": "markdown",
   "metadata": {},
   "source": [
    "#### Host Dimension Table "
   ]
  },
  {
   "cell_type": "code",
   "execution_count": 28,
   "metadata": {},
   "outputs": [
    {
     "data": {
      "text/plain": [
       "index                                           977\n",
       "host_id                                         977\n",
       "host_url                                        977\n",
       "host_name                                       720\n",
       "host_since                                      867\n",
       "host_location                                    95\n",
       "host_about                                      513\n",
       "host_thumbnail_url                              940\n",
       "host_picture_url                                940\n",
       "host_neighbourhood                              151\n",
       "host_response_time                                4\n",
       "host_response_rate                               26\n",
       "host_acceptance_rate                             58\n",
       "host_is_superhost                                 2\n",
       "host_listings_count                              47\n",
       "host_total_listings_count                        55\n",
       "host_verifications                                5\n",
       "host_has_profile_pic                              2\n",
       "host_identity_verified                            2\n",
       "calculated_host_listings_count                   31\n",
       "calculated_host_listings_count_entire_homes      33\n",
       "calculated_host_listings_count_private_rooms     13\n",
       "calculated_host_listings_count_shared_rooms       3\n",
       "dtype: int64"
      ]
     },
     "execution_count": 28,
     "metadata": {},
     "output_type": "execute_result"
    }
   ],
   "source": [
    "pd.set_option(\"display.max_columns\", None)\n",
    "# Host ID works\n",
    "host_df.nunique()"
   ]
  },
  {
   "cell_type": "markdown",
   "metadata": {},
   "source": [
    "##### The Host Qualifications and Diagnostics (HQAD), And The Host Listings Diagnostics"
   ]
  },
  {
   "cell_type": "code",
   "execution_count": 29,
   "metadata": {},
   "outputs": [
    {
     "data": {
      "text/plain": [
       "listing_diagnostics_id       609\n",
       "host_response_time             4\n",
       "host_response_rate            26\n",
       "host_acceptance_rate          58\n",
       "host_is_superhost              2\n",
       "host_listings_count           47\n",
       "host_total_listings_count     55\n",
       "host_verifications             5\n",
       "host_has_profile_pic           2\n",
       "host_identity_verified         2\n",
       "dtype: int64"
      ]
     },
     "execution_count": 29,
     "metadata": {},
     "output_type": "execute_result"
    }
   ],
   "source": [
    "host_ld_df.nunique()"
   ]
  },
  {
   "cell_type": "code",
   "execution_count": 30,
   "metadata": {},
   "outputs": [
    {
     "data": {
      "text/plain": [
       "hqad_id                                         69\n",
       "calculated_host_listings_count                  31\n",
       "calculated_host_listings_count_entire_homes     33\n",
       "calculated_host_listings_count_private_rooms    13\n",
       "calculated_host_listings_count_shared_rooms      3\n",
       "dtype: int64"
      ]
     },
     "execution_count": 30,
     "metadata": {},
     "output_type": "execute_result"
    }
   ],
   "source": [
    "hqad_df.nunique()"
   ]
  },
  {
   "cell_type": "markdown",
   "metadata": {},
   "source": [
    "#### Property Dimension Table"
   ]
  },
  {
   "cell_type": "code",
   "execution_count": 31,
   "metadata": {},
   "outputs": [
    {
     "name": "stdout",
     "output_type": "stream",
     "text": [
      "property_id       2649\n",
      "latitude          2649\n",
      "longitude         2649\n",
      "property_type     2649\n",
      "room_type         2649\n",
      "accommodates      2649\n",
      "bathrooms_text    2649\n",
      "beds              2618\n",
      "amenities         2649\n",
      "price             2560\n",
      "dtype: int64\n"
     ]
    },
    {
     "data": {
      "text/plain": [
       "latitude     2581\n",
       "longitude    2581\n",
       "dtype: int64"
      ]
     },
     "execution_count": 31,
     "metadata": {},
     "output_type": "execute_result"
    }
   ],
   "source": [
    "print(property_df.count())\n",
    "# This does not quite work, but it looks like there are multiple occurences of the same property with minuscule differences from eachother.\n",
    "property_df[[\"latitude\", \"longitude\"]].drop_duplicates().count()"
   ]
  },
  {
   "cell_type": "markdown",
   "metadata": {},
   "source": [
    "#### Reviews Dimension Table"
   ]
  },
  {
   "cell_type": "code",
   "execution_count": 32,
   "metadata": {},
   "outputs": [
    {
     "name": "stdout",
     "output_type": "stream",
     "text": [
      "rev_diag_id                    2272\n",
      "number_of_reviews              2272\n",
      "number_of_reviews_ltm          2272\n",
      "number_of_reviews_l30d         2272\n",
      "first_review                   2269\n",
      "last_review                    2269\n",
      "review_scores_rating           2271\n",
      "review_scores_accuracy         2271\n",
      "review_scores_cleanliness      2270\n",
      "review_scores_checkin          2271\n",
      "review_scores_communication    2271\n",
      "review_scores_location         2271\n",
      "review_scores_value            2271\n",
      "reviews_per_month              2269\n",
      "dtype: int64\n"
     ]
    },
    {
     "data": {
      "text/plain": [
       "number_of_reviews              2272\n",
       "number_of_reviews_ltm          2272\n",
       "number_of_reviews_l30d         2272\n",
       "first_review                   2269\n",
       "last_review                    2269\n",
       "review_scores_rating           2271\n",
       "review_scores_accuracy         2271\n",
       "review_scores_cleanliness      2270\n",
       "review_scores_checkin          2271\n",
       "review_scores_communication    2271\n",
       "review_scores_location         2271\n",
       "review_scores_value            2271\n",
       "reviews_per_month              2269\n",
       "dtype: int64"
      ]
     },
     "execution_count": 32,
     "metadata": {},
     "output_type": "execute_result"
    }
   ],
   "source": [
    "print(reviews_diagnostics_df.count())\n",
    "reviews_diagnostics_df[\n",
    "    [ \n",
    "        \"number_of_reviews\", \n",
    "        \"number_of_reviews_ltm\", \n",
    "        \"number_of_reviews_l30d\", \n",
    "        \"first_review\", \n",
    "        \"last_review\",\n",
    "        \"review_scores_rating\",\n",
    "        \"review_scores_accuracy\",\n",
    "        \"review_scores_cleanliness\",\n",
    "        \"review_scores_checkin\",\n",
    "        \"review_scores_communication\",\n",
    "        \"review_scores_location\",\n",
    "        \"review_scores_value\",\n",
    "        \"reviews_per_month\",\n",
    "    ]\n",
    "].drop_duplicates().count()"
   ]
  },
  {
   "cell_type": "markdown",
   "metadata": {},
   "source": [
    "#### Scrapings Dimension Table"
   ]
  },
  {
   "cell_type": "code",
   "execution_count": 33,
   "metadata": {},
   "outputs": [
    {
     "data": {
      "text/plain": [
       "last_scraped    3\n",
       "source          3\n",
       "dtype: int64"
      ]
     },
     "execution_count": 33,
     "metadata": {},
     "output_type": "execute_result"
    }
   ],
   "source": [
    "# We can use last_scraped and source as unqique identifiers\n",
    "scrapings_df.count()\n",
    "scrapings_df[[\"last_scraped\", \"source\"]].drop_duplicates().count()"
   ]
  },
  {
   "cell_type": "markdown",
   "metadata": {},
   "source": [
    "#### Neighbourhood Dimension Table"
   ]
  },
  {
   "cell_type": "code",
   "execution_count": 34,
   "metadata": {},
   "outputs": [
    {
     "data": {
      "text/plain": [
       "neighbourhood_overview    1274\n",
       "neighbourhood_cleansed    1299\n",
       "dtype: int64"
      ]
     },
     "execution_count": 34,
     "metadata": {},
     "output_type": "execute_result"
    }
   ],
   "source": [
    "# Turns out, we can get all of the possible values by using the overview and the cleansed attribute, trying to do this for other data\n",
    "# might pose some problems, but for this it works without losing any data\n",
    "neighbourhood_df.count()\n",
    "neighbourhood_df[[\"neighbourhood_overview\", \"neighbourhood_cleansed\"]].drop_duplicates().count()"
   ]
  },
  {
   "cell_type": "markdown",
   "metadata": {},
   "source": [
    "#### Min Max Insights Dimension Table"
   ]
  },
  {
   "cell_type": "code",
   "execution_count": 40,
   "metadata": {},
   "outputs": [
    {
     "data": {
      "text/plain": [
       "maximum_nights            795\n",
       "minimum_nights            795\n",
       "minimum_minimum_nights    795\n",
       "maximum_minimum_nights    795\n",
       "minimum_maximum_nights    795\n",
       "maximum_maximum_nights    795\n",
       "minimum_nights_avg_ntm    795\n",
       "maximum_nights_avg_ntm    795\n",
       "dtype: int64"
      ]
     },
     "execution_count": 40,
     "metadata": {},
     "output_type": "execute_result"
    }
   ],
   "source": [
    "# We have to use all of the columns for this one as well to not lose any data\n",
    "minmax_insights_df.count()\n",
    "minmax_insights_df[\n",
    "    [\n",
    "        \"maximum_nights\", \n",
    "        \"minimum_nights\",\n",
    "        \"minimum_minimum_nights\", \n",
    "        \"maximum_minimum_nights\", \n",
    "        \"minimum_maximum_nights\",\n",
    "        \"maximum_maximum_nights\",\n",
    "        \"minimum_nights_avg_ntm\",\n",
    "        \"maximum_nights_avg_ntm\"\n",
    "    ]\n",
    "].drop_duplicates().count()"
   ]
  },
  {
   "cell_type": "markdown",
   "metadata": {},
   "source": [
    "#### Availibility Info Dimension Table"
   ]
  },
  {
   "cell_type": "code",
   "execution_count": 50,
   "metadata": {},
   "outputs": [
    {
     "name": "stdout",
     "output_type": "stream",
     "text": [
      "avail_id            1336\n",
      "has_availability    1332\n",
      "availability_30     1336\n",
      "availability_60     1336\n",
      "availability_90     1336\n",
      "availability_365    1336\n",
      "dtype: int64\n"
     ]
    },
    {
     "data": {
      "text/plain": [
       "has_availability    1332\n",
       "availability_30     1336\n",
       "availability_60     1336\n",
       "availability_90     1336\n",
       "availability_365    1336\n",
       "dtype: int64"
      ]
     },
     "execution_count": 50,
     "metadata": {},
     "output_type": "execute_result"
    }
   ],
   "source": [
    "# Again forced to use all columns for identififying\n",
    "print(availibility_df.count())\n",
    "availibility_df[\n",
    "    [\n",
    "        \"has_availability\",\n",
    "        \"availability_30\",\n",
    "        \"availability_60\",\n",
    "        \"availability_90\",\n",
    "        \"availability_365\",\n",
    "    ]\n",
    "].drop_duplicates().count()"
   ]
  },
  {
   "cell_type": "markdown",
   "metadata": {},
   "source": [
    "#### Summary\n",
    "* Host Dimension Table \n",
    "  - This one's pretty easy, the host ID Itself\n",
    "\n",
    "  - Host Qualifications and Diagnostics (HQAD), And The Host Listings Diagnostics Dimension Tables\n",
    "      * We're forced to use all the columns as an unique identifier. I know this might seems a bit useless, but to better understand how data warehousing works this is the best approach, and it's best not lose data. We also remove some redundant data, so this takes us through the normal forms of data.\n",
    "\n",
    "* Property Dimension Table\n",
    "    - This one's not so bad. We use the `longitude` and `latitude` as unique identifiers\n",
    "\n",
    "* Reviews Diagnostics Dimension table\n",
    "    - Unfortunately, for this one we have to use all of the columns as unique identifiers as well. Might affect run time later, especially if this were an even bigger dataset.\n",
    "\n",
    "* Scrapings Dimension Table\n",
    "    - We can use the `last_scraped` and `source` columns as unique identifiers since the `scrape_id` is the same for all data\n",
    "\n",
    "* Neighbourhood Dimension Table\n",
    "    - We'll use the `neighbourhood_overview` and `neighbourhood_cleansed` columns as unique identifiers. This ends up working out without losing data, but we can not generalize this for all data.\n",
    "\n",
    "* Min Max Insights Dimension Table\n",
    "    - We are again forced to use all the columns as an unique identifier\n",
    "\n",
    "* Host's Availibility Info Dimension Table\n",
    "    - Again, forced to use all the columns as an unique identifier"
   ]
  }
 ],
 "metadata": {
  "kernelspec": {
   "display_name": "Python 3",
   "language": "python",
   "name": "python3"
  },
  "language_info": {
   "codemirror_mode": {
    "name": "ipython",
    "version": 3
   },
   "file_extension": ".py",
   "mimetype": "text/x-python",
   "name": "python",
   "nbconvert_exporter": "python",
   "pygments_lexer": "ipython3",
   "version": "3.10.11"
  }
 },
 "nbformat": 4,
 "nbformat_minor": 2
}
